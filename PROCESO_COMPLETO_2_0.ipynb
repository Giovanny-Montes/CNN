{
  "cells": [
    {
      "cell_type": "code",
      "execution_count": null,
      "metadata": {
        "colab": {
          "base_uri": "https://localhost:8080/",
          "height": 53
        },
        "id": "j0rXUDaBFmgB",
        "outputId": "53c5c0ed-cb7e-45c9-acf3-0673ce14c785"
      },
      "outputs": [
        {
          "output_type": "execute_result",
          "data": {
            "text/plain": [
              "\"\\n'''\\n       COLEGIO DE POSTGRADUADOS\\n          CAMPUS MONTECILLO\\n\\nPOSGRADO EN SOCIOECONOMÍA, ESTADÍSTICA E\\n             INFORMÁTICA\\n          CÓMPUTO APLICADO\\n\\nAUTOR: GIOVANNY MONTES RODRIGUEZ\\nCOLABORADOR: DR. JUAN MANUEL GONZÁLEZ CAMACHO\\n\""
            ],
            "application/vnd.google.colaboratory.intrinsic+json": {
              "type": "string"
            }
          },
          "metadata": {},
          "execution_count": 1
        }
      ],
      "source": [
        "# -*- coding: utf-8 -*-\n",
        "\"\"\"\n",
        "'''\n",
        "       COLEGIO DE POSTGRADUADOS\n",
        "          CAMPUS MONTECILLO\n",
        "\n",
        "POSGRADO EN SOCIOECONOMÍA, ESTADÍSTICA E\n",
        "             INFORMÁTICA\n",
        "          CÓMPUTO APLICADO\n",
        "\n",
        "AUTOR: GIOVANNY MONTES RODRIGUEZ\n",
        "COLABORADOR: DR. JUAN MANUEL GONZÁLEZ CAMACHO\n",
        "\"\"\""
      ]
    },
    {
      "cell_type": "code",
      "execution_count": null,
      "metadata": {
        "colab": {
          "base_uri": "https://localhost:8080/",
          "height": 36
        },
        "id": "5ufcf5mqG-H8",
        "outputId": "380e300c-31ab-4132-f8be-cdbb6d94f66c"
      },
      "outputs": [
        {
          "output_type": "execute_result",
          "data": {
            "text/plain": [
              "'\\nEl presente documento contiene todas las etapas para la implementacion de redes neuronales convolucionales CNN Estandar, CNN-VGG16 y CNN-MobileNetV2\\n'"
            ],
            "application/vnd.google.colaboratory.intrinsic+json": {
              "type": "string"
            }
          },
          "metadata": {},
          "execution_count": 2
        }
      ],
      "source": [
        "\"\"\"\n",
        "El presente documento contiene todas las etapas para la implementacion de redes neuronales convolucionales CNN Estandar, CNN-VGG16 y CNN-MobileNetV2\n",
        "\"\"\""
      ]
    },
    {
      "cell_type": "code",
      "execution_count": null,
      "metadata": {
        "id": "43ssF9E5I-lc"
      },
      "outputs": [],
      "source": [
        "#DESCARGA DE IMAGENES\n",
        "\n",
        "\"\"\"\n",
        "Descargaremos el dataset y utilizaremos solo las carpetas TRAIN,TEST y VALIDATION(las otras carpetas tiene imagenes repetidas)\n",
        "Cada imágen será introducida en una nueva carpeta del mismo nombre, mientras las otras clases serán ignoradas.\n",
        "Afzaal, U.; Bhattarai, B.; Pandeya, Y.R.; Lee, J. An Instance Segmentation Model for Strawberry Diseases Based on Mask R-CNN. Sensors 2021, 21, 6565.\n",
        "URL:https://www.kaggle.com/datasets/usmanafzaal/strawberry-disease-detection-dataset?resource=download\n",
        "\n",
        "TOTAL DE IMÁGENES POR CARPETA:\n",
        "angular_leafspot:435\n",
        "leaf_spot:615\n",
        "mildew _leaf:533\n",
        "\n",
        "Descargaremos el dataset de  Plantvillage para la clase hojas de fresa sana:\n",
        "Hughes, D. P., & Salathé, M. (2015). An open access repository of images on plant health to enable the development of mobile disease diagnostics. ArXiv. doi: 10.48550/arXiv.1511.08060\n",
        "URL:https://www.kaggle.com/datasets/abdallahalidev/plantvillage-dataset\n",
        "\n",
        "TOTAL DE IMÁGENES POR CARPETA:\n",
        "healthy_leaf:450\n",
        "\n",
        "Tendremos 4 carpetas con el nombre de las clases y dentro las imágenes correspondientes\n",
        "CARPETA BASE/\n",
        "----------->/angular_leafspot/\n",
        "----------->/leaf_spot/\n",
        "----------->/mildew _leaf/\n",
        "----------->/hojas_sanas/\n",
        "\"\"\""
      ]
    },
    {
      "cell_type": "code",
      "execution_count": null,
      "metadata": {
        "id": "aZ18KspmgWeI"
      },
      "outputs": [],
      "source": [
        "#librerias que usaremos:\n",
        "import os, shutil, cv2, numpy as np, tensorflow as tf, keras\n",
        "from keras.preprocessing.image import ImageDataGenerator\n",
        "from tensorflow.keras import layers, models, utils\n",
        "from tensorflow.keras.utils import image_dataset_from_directory\n",
        "from keras import Input, optimizers, activations\n",
        "from google.colab import drive, auth\n",
        "import seaborn as sns, matplotlib.pyplot as plt, statistics\n",
        "import time as g\n",
        "from keras.applications import vgg16 as vgg"
      ]
    },
    {
      "cell_type": "code",
      "source": [
        "\"\"\"AUÍ DEFINIMOS EL TAMAÑO DE IMÁGEN CON EL QUE TRABAJAREMOS\"\"\"\n",
        "dst_size = (224, 224) #Tamaño estandar de entrada para MoibleNetV2: 224 x 224 PIXELES"
      ],
      "metadata": {
        "id": "HUuUN-QHpVgU"
      },
      "execution_count": null,
      "outputs": []
    },
    {
      "cell_type": "code",
      "source": [
        "# Directorio de origen de las imágenes\n",
        "src_directory = r\"/content/drive/MyDrive/CARPETA BASE\"\n",
        "\n",
        "# Directorio de destino\n",
        "dst_directory =r\"/content/drive/MyDrive/CARPETA BASE/TAM224x224\""
      ],
      "metadata": {
        "id": "JTbWd-Sb_TO5"
      },
      "execution_count": null,
      "outputs": []
    },
    {
      "cell_type": "code",
      "source": [
        "#EL PROPOSITO DE ESTE BLOQUE ES TOMAR TODOS LOS ARCHIVOS Y RENOMBRARLOS CON TERMINACIÓN JPG\n",
        "#ADEMAS DE TENERLOS ORDENADOS, EN EL PASO SIGUIENTE SERAN GUARDADOS EN EL MISMO FORMATO\n",
        "def renombrar(ruta, nombre):\n",
        "    contador = 1\n",
        "    lista = os.listdir(ruta)\n",
        "    for i in lista:\n",
        "        if i.endswith('.jpg') or i.endswith('.jpeg') or i.endswith('.png'):  # Verifica que el archivo tenga extensión .jpg\n",
        "            nuevo_nombre = os.path.join(ruta, \"{}{}.jpg\".format(nombre, contador))\n",
        "            while os.path.exists(nuevo_nombre):\n",
        "                contador += 1\n",
        "                nuevo_nombre = os.path.join(ruta, \"{}{}.jpg\".format(nombre, contador))\n",
        "            os.rename(os.path.join(ruta, i), nuevo_nombre)\n",
        "            contador += 1\n",
        "    return \"Archivos renombrados: {}\".format(nombre)\n",
        "\n",
        "carpeta_base = src_directory #Qué carpeta analizaremos?\n",
        "nombres_carpetas = os.listdir(carpeta_base)\n",
        "\n",
        "for s in nombres_carpetas:\n",
        "    ruta_carpeta = os.path.join(carpeta_base, s)\n",
        "    if os.path.isdir(ruta_carpeta):\n",
        "        print(renombrar(ruta_carpeta, s))"
      ],
      "metadata": {
        "id": "yHUoHuVAmPS6",
        "colab": {
          "base_uri": "https://localhost:8080/"
        },
        "outputId": "6771355b-02b6-4458-f37d-f387d1e8c9cd"
      },
      "execution_count": null,
      "outputs": [
        {
          "output_type": "stream",
          "name": "stdout",
          "text": [
            "Archivos renombrados: hojas_sanas\n",
            "Archivos renombrados: angular_leafspot\n",
            "Archivos renombrados: leaf_spot\n",
            "Archivos renombrados: powdery_mildew\n"
          ]
        }
      ]
    },
    {
      "cell_type": "markdown",
      "source": [
        "REDIMENSIONAR TODAS LAS IMÁGENES A 224X224"
      ],
      "metadata": {
        "id": "HzOWloS3l-vr"
      }
    },
    {
      "cell_type": "code",
      "source": [
        "#creamos las mismas carpetas en el destino\n",
        "lista_carpetas_destino=[]\n",
        "subcarpetas_carpeta_original= os.listdir(src_directory)\n",
        "if not os.path.exists(dst_directory):\n",
        "    os.makedirs(dst_directory)\n",
        "\n",
        "for carpetas in subcarpetas_carpeta_original:\n",
        "    nueva_carpeta=os.path.join(dst_directory,carpetas)\n",
        "    if not os.path.exists(nueva_carpeta):\n",
        "        os.makedirs(nueva_carpeta)\n",
        "    lista_carpetas_destino.append(nueva_carpeta)\n",
        "\n",
        "\n",
        "# Recorremos las imágenes en el directorio\n",
        "for carpetas_origen in subcarpetas_carpeta_original:#tengo los nombres de carpetas\n",
        "    ruta=os.path.join(src_directory,carpetas_origen)\n",
        "    for filename in os.listdir(ruta):# por cada archivo dentro de la carpeta#nombres_archivo_por_carpeta\n",
        "        if filename.endswith(\".jpg\") or filename.endswith(\".jpeg\") or filename.endswith(\".png\"):\n",
        "            # Leemos la imagen\n",
        "\n",
        "            src = cv2.imread(os.path.join(ruta, filename))\n",
        "\n",
        "            # Redimensionamos la imagen\n",
        "            dst = cv2.resize(src, dst_size)\n",
        "\n",
        "            # Construimos el nombre de archivo de destino\n",
        "            dst_filename1 = os.path.join(dst_directory, carpetas_origen)\n",
        "            dst_filename2 = os.path.join(dst_filename1, filename)\n",
        "            # Guardamos la imagen redimensionada\n",
        "            cv2.imwrite(dst_filename2, dst)"
      ],
      "metadata": {
        "id": "9Psa8bGaf9o6"
      },
      "execution_count": null,
      "outputs": []
    },
    {
      "cell_type": "code",
      "execution_count": null,
      "metadata": {
        "id": "2KcWe6osK8YM"
      },
      "outputs": [],
      "source": [
        "#FUNCION PARA EXPLORAR LAS CARPETAS Y CONTAR LOS ARCHIVOS POR CARPETA\n",
        "indent_level = 0\n",
        "def count_files_in_directory(path):\n",
        "    count = 0\n",
        "    for dirpath, dirnames, filenames in os.walk(path):\n",
        "        count += len(filenames)\n",
        "    return count\n",
        "\n",
        "\n",
        "def print_directory_tree(path):\n",
        "    global indent_level\n",
        "    dirnames = [child for child in os.listdir(path) if os.path.isdir(os.path.join(path, child))]\n",
        "    for child in os.listdir(path):\n",
        "        child_path = os.path.join(path, child)\n",
        "        if os.path.isdir(child_path):\n",
        "            print(\" \" * indent_level + child + \"/\")\n",
        "            indent_level += 4\n",
        "            print_directory_tree(child_path)\n",
        "            indent_level -= 4\n",
        "\n",
        "    if not dirnames:\n",
        "        print(\" \" * indent_level + \"Numero de Archivos:{}\".format(count_files_in_directory(path)))"
      ]
    },
    {
      "cell_type": "code",
      "source": [
        "print(\"Árbol de directorios:\")\n",
        "print_directory_tree(dst_directory)"
      ],
      "metadata": {
        "colab": {
          "base_uri": "https://localhost:8080/"
        },
        "id": "DJKROBVO-KIX",
        "outputId": "fd78a797-5565-4e1f-de72-756d800fa68f"
      },
      "execution_count": null,
      "outputs": [
        {
          "output_type": "stream",
          "name": "stdout",
          "text": [
            "Árbol de directorios:\n",
            "hojas_sanas/\n",
            "    Numero de Archivos:874\n",
            "angular_leafspot/\n",
            "    Numero de Archivos:541\n",
            "leaf_spot/\n",
            "    Numero de Archivos:650\n",
            "powdery_mildew/\n",
            "    Numero de Archivos:558\n"
          ]
        }
      ]
    },
    {
      "cell_type": "code",
      "source": [
        "#FUNCION PARA COPIAR LOS ARCHIVOS A SU RESPECTIVA CARPETA MANTENIENDO UNA DISTRIBUCIÓN EQUITATIVA ENTRE TRAIN, VALIDATION Y TEST\n",
        "\"\"\"Comienza bloque de creación de carpetas\"\"\"\n",
        "#Creamos las 3 carpetas principales: TRAIN VALIDATION Y TEST\n",
        "\n",
        "particion=0.8 #80% de los datos para TRAIN\n",
        "division=[\"TRAIN\",\"TEST\",\"VALIDATION\"]\n",
        "\n",
        "\n",
        "base_dir=r\"/content/drive/MyDrive/CARPETA BASE/PRUEBA\"\n",
        "if not os.path.exists(base_dir):\n",
        "  os.mkdir(base_dir)\n",
        "src_directory=\"/content/drive/MyDrive/CARPETA BASE/TAM224x224\"\n",
        "nombres_carpetas=os.listdir(src_directory)\n",
        "\n",
        "lista_elementos=np.arange(4, dtype=object)#AREMOS UNA LISTA DE LISTAS CON RUTAS DE LOS ARCHIVOS\n",
        "\n",
        "\n",
        "for i in division:\n",
        "  b=0\n",
        "  dir = os.path.join(base_dir, i)\n",
        "  os.mkdir(dir)\n",
        "  for j in nombres_carpetas:\n",
        "    dir_class=os.path.join(dir,j)\n",
        "    os.mkdir(dir_class)#hasta aqui he creado la carpeta de la clase dentro de \"TRAIN\"\n",
        "\n",
        "    if i==\"TRAIN\":\n",
        "      origin=os.path.join(src_directory,j)\n",
        "      lista_elementos[b]=os.listdir(origin)#obteniendo la lista de elementos por carpeta desde TAM224x224\n",
        "      fnames = np.random.choice(lista_elementos[b], replace=False, size=round(len(lista_elementos[b])*particion))#copiaremos el 80% de las imágenes de cada carpeta y las meteremos a su destino\n",
        "      for fname in fnames:\n",
        "          src = os.path.join(origin, fname)\n",
        "          dst = os.path.join(dir_class, fname)\n",
        "          shutil.copyfile(src, dst)\n",
        "      #acabando de copiar los archivos, quitaremos de la lista los que ya usamos y los restantes serán distribuidos en las carpetas restantes\n",
        "      lista_elementos[b] = np.setdiff1d(lista_elementos[b], fnames)\n",
        "\n",
        "    if i==\"TEST\":\n",
        "      #fnames contiene 10% de las imágenes  de forma aleatoria obtenidas en el paso anterior\n",
        "      origin=os.path.join(src_directory,j)\n",
        "      fnames = np.random.choice(lista_elementos[b], replace=False, size=round(len(lista_elementos[b])*.5))\n",
        "      for fname in fnames:\n",
        "          src = os.path.join(origin, fname)\n",
        "          dst = os.path.join(dir_class, fname)\n",
        "          shutil.copyfile(src, dst)\n",
        "      #acabando de copiar los archivos, quitaremos de la lista los que ya usamos y los restantes serán distribuidos en las carpetas restantes\n",
        "      lista_elementos[b] = np.setdiff1d(lista_elementos[b], fnames)\n",
        "\n",
        "    if i==\"VALIDATION\":\n",
        "      origin=os.path.join(src_directory,j)\n",
        "      #fnames contiene 10% de las imágenes  de forma aleatoria obtenidas en el paso anterior\n",
        "      fnames = lista_elementos[b]\n",
        "      for fname in fnames:\n",
        "          src = os.path.join(origin, fname)\n",
        "          dst = os.path.join(dir_class, fname)\n",
        "          shutil.copyfile(src, dst)\n",
        "\n",
        "    b+=1"
      ],
      "metadata": {
        "id": "2TFmvslIajG7"
      },
      "execution_count": null,
      "outputs": []
    },
    {
      "cell_type": "code",
      "source": [
        "#CONTAMOS LOS ARCHIVOS EN EL DIRECTORIO DE DESTINO PARA VERIFICAR QUE ESTÉ CORRECTO\n",
        "print_directory_tree(base_dir)"
      ],
      "metadata": {
        "colab": {
          "base_uri": "https://localhost:8080/"
        },
        "id": "Q7Hpzb9C0k_S",
        "outputId": "eb070134-2232-47d0-b768-fd64c558ad9d"
      },
      "execution_count": null,
      "outputs": [
        {
          "output_type": "stream",
          "name": "stdout",
          "text": [
            "TRAIN/\n",
            "    hojas_sanas/\n",
            "        Numero de Archivos:699\n",
            "    angular_leafspot/\n",
            "        Numero de Archivos:433\n",
            "    leaf_spot/\n",
            "        Numero de Archivos:520\n",
            "    powdery_mildew/\n",
            "        Numero de Archivos:446\n",
            "TEST/\n",
            "    hojas_sanas/\n",
            "        Numero de Archivos:88\n",
            "    angular_leafspot/\n",
            "        Numero de Archivos:54\n",
            "    leaf_spot/\n",
            "        Numero de Archivos:65\n",
            "    powdery_mildew/\n",
            "        Numero de Archivos:56\n",
            "VALIDATION/\n",
            "    hojas_sanas/\n",
            "        Numero de Archivos:87\n",
            "    angular_leafspot/\n",
            "        Numero de Archivos:54\n",
            "    leaf_spot/\n",
            "        Numero de Archivos:65\n",
            "    powdery_mildew/\n",
            "        Numero de Archivos:56\n"
          ]
        }
      ]
    },
    {
      "cell_type": "markdown",
      "source": [
        "AUMENTANDO LA BASE DE DATOS"
      ],
      "metadata": {
        "id": "nWEvpCDm-BAl"
      }
    },
    {
      "cell_type": "code",
      "execution_count": null,
      "metadata": {
        "colab": {
          "base_uri": "https://localhost:8080/"
        },
        "outputId": "54f8a5a4-9161-4c15-e614-0e97f3f57802",
        "id": "DKQ_CnW1Lc8w"
      },
      "outputs": [
        {
          "output_type": "stream",
          "name": "stdout",
          "text": [
            "Found 699 images belonging to 1 classes.\n",
            "Found 433 images belonging to 1 classes.\n",
            "Found 520 images belonging to 1 classes.\n",
            "Found 446 images belonging to 1 classes.\n"
          ]
        }
      ],
      "source": [
        "\"\"\"Aumentaremos 4 veces la base de entrenamiento mediante trasformaciones\"\"\"\n",
        "\n",
        "#la carpeta donde están las carpetas del proceso anterior están en base_dir\n",
        "train_dir = base_dir+'/TRAIN'\n",
        "\n",
        "\"\"\"Definimos las transformaciones que llevaremos a cabo\"\"\"\n",
        "datagen = ImageDataGenerator(\n",
        "    rescale=1./255,           #transformacion de escala\n",
        "    rotation_range=25,        #Angulo de rotación\n",
        "    width_shift_range=0.2,    #Traslación Orizontal\n",
        "    height_shift_range=0.2,   #Traslación Vertical\n",
        "    shear_range=0.2,          #Distorción\n",
        "    zoom_range=0.2,           #Zoom o acercamiento\n",
        "    horizontal_flip=True,     #Volteado Horizontal\n",
        "    brightness_range=(0.5,2), #Rango de brillo; 1=sin_cambio, 1.5=brilloso, 0.5=Obscuro\n",
        "    vertical_flip=True)       #Volteado Vertical\n",
        "\n",
        "# Crear un generador de datos para cada subcarpeta\n",
        "for subdir in os.listdir(train_dir):\n",
        "    subdir_path = os.path.join(train_dir, subdir)\n",
        "    if os.path.isdir(subdir_path):\n",
        "        generator = datagen.flow_from_directory(\n",
        "            train_dir,\n",
        "            target_size=dst_size,\n",
        "            color_mode=\"rgb\",\n",
        "            #Si la clases no están balanceadas lo dejamos así. y si están balanceadas podemos cambiarlo por: rango_train\n",
        "            batch_size=len(os.listdir(subdir_path)),\n",
        "            save_to_dir=subdir_path,\n",
        "            save_prefix='aumentado',\n",
        "            classes=[subdir],\n",
        "            class_mode=\"categorical\",\n",
        "            save_format=\"jpg\",)\n",
        "            #si tomamos el número total de imágenes y la procesamos 4 veces , es decir habremos generado 4 transformaciones por cada imagen\n",
        "        for i in range(4):\n",
        "            generator.next()\n"
      ]
    },
    {
      "cell_type": "code",
      "source": [
        "print(\"Imágenes de TRAIN despues del aumento:\")\n",
        "print_directory_tree(train_dir)"
      ],
      "metadata": {
        "colab": {
          "base_uri": "https://localhost:8080/"
        },
        "id": "3qVPkibzfvb6",
        "outputId": "2a0e8733-5cab-4934-9b2f-02d53223d786"
      },
      "execution_count": null,
      "outputs": [
        {
          "output_type": "stream",
          "name": "stdout",
          "text": [
            "Imágenes de TRAIN despues del aumento:\n",
            "hojas_sanas/\n",
            "    Numero de Archivos:3495\n",
            "angular_leafspot/\n",
            "    Numero de Archivos:2165\n",
            "leaf_spot/\n",
            "    Numero de Archivos:2600\n",
            "powdery_mildew/\n",
            "    Numero de Archivos:2230\n"
          ]
        }
      ]
    },
    {
      "cell_type": "markdown",
      "metadata": {
        "id": "QydNfOMmZJoI"
      },
      "source": [
        "#COMIENZA LA ETAPA DE ENTRENAMIENTO DE LOS MODELOS\n"
      ]
    },
    {
      "cell_type": "code",
      "execution_count": null,
      "metadata": {
        "id": "0MAZMyPFZaRa"
      },
      "outputs": [],
      "source": [
        "\"\"\" SÍ TODO LO ANTERIOR SE EJECUTÓ CORRECTAMENTE PUEDE SEGUIR DESDE AQUÍ\"\"\""
      ]
    },
    {
      "cell_type": "code",
      "execution_count": null,
      "metadata": {
        "id": "W9C3HghfE77B"
      },
      "outputs": [],
      "source": [
        "#Cargaremos los directorios que utilizaremos en el proceso:\n",
        "original_dataset_dir=\"/content/drive/MyDrive/CARPETA BASE\"#todos los archivos para el experimento estarán dentro de esta carpeta\n",
        "base_dir=original_dataset_dir+\"/PRUEBA\"\n",
        "train_dir = base_dir+'/TRAIN'\n",
        "validation_dir = base_dir+'/VALIDATION'\n",
        "test_dir = base_dir+'/TEST'"
      ]
    },
    {
      "cell_type": "markdown",
      "metadata": {
        "id": "HT-tBEpeGl8t"
      },
      "source": [
        "#Carga de funciones para obtener métricas"
      ]
    },
    {
      "cell_type": "code",
      "execution_count": null,
      "metadata": {
        "id": "4n55io8RWBDS"
      },
      "outputs": [],
      "source": [
        "#Función para graficar la curva de aprendizaje\n",
        "def graficar_curva_aprendizaje(history=None,plt=plt):\n",
        "    accuracy = history.history[\"accuracy\"]\n",
        "    val_accuracy = history.history[\"val_accuracy\"]\n",
        "    loss = history.history[\"loss\"]\n",
        "    val_loss = history.history[\"val_loss\"]\n",
        "    epochs = range(1, len(accuracy) + 1)\n",
        "    plt.plot(epochs, accuracy, \"bo\", label=\"Precisión en Entrenamiento\")\n",
        "    plt.plot(epochs, val_accuracy, \"b\", label=\"Precisión en Validación\")\n",
        "    plt.title(\"Precisión en Entrenamiento y Validación\")\n",
        "    plt.legend()\n",
        "    plt.figure()\n",
        "    plt.plot(epochs, loss, \"bo\", label=\"Pérdida en Entrenamiento\")\n",
        "    plt.plot(epochs, val_loss, \"b\", label=\"Pérdida en Validación\")\n",
        "    plt.title(\"Pérdida en Entrenamiento y Validación\")\n",
        "    plt.legend()\n",
        "    plt.show()"
      ]
    },
    {
      "cell_type": "code",
      "execution_count": null,
      "metadata": {
        "id": "okr9yH72WK32"
      },
      "outputs": [],
      "source": [
        "#función para obtener las etiquetas del dataset y del modelo\n",
        "def get_actual_predicted_labels(dataset=None,model=None):\n",
        "\n",
        "  actual = [labels for _, labels in dataset.unbatch()]\n",
        "  actual = tf.argmax(actual, axis=1)\n",
        "\n",
        "  predicted = model.predict(dataset)\n",
        "  predicted = tf.argmax(predicted, axis=1)\n",
        "\n",
        "  return actual, predicted"
      ]
    },
    {
      "cell_type": "code",
      "execution_count": null,
      "metadata": {
        "id": "z6xdV31VWMu4"
      },
      "outputs": [],
      "source": [
        "#función para graficar la matriz de confusión\n",
        "def graficar_matriz_confusion(actual, predicted, labels):\n",
        "    cm = tf.math.confusion_matrix(actual, predicted)\n",
        "    cm_normalized = cm / np.sum(cm, axis=1, keepdims=True) # Normalizar la matriz de confusión\n",
        "    ax = sns.heatmap(cm_normalized, annot=True, fmt='.2f')\n",
        "    sns.set(rc={'figure.figsize': (9, 11)})\n",
        "    sns.set(font_scale=1.4)\n",
        "    ax.set_title('')\n",
        "    ax.set_xlabel('Predicho')\n",
        "    ax.set_ylabel('Observado')\n",
        "    plt.xticks(rotation=0)\n",
        "    plt.yticks(rotation=0)\n",
        "    ax.xaxis.set_ticklabels([\"A\",\"B\",\"C\",\"D\"])\n",
        "    #ax.xaxis.set_ticklabels(labels)\n",
        "    ax.yaxis.set_ticklabels([\"A\",\"B\",\"C\",\"D\"])\n",
        "    #ax.yaxis.set_ticklabels(labels)"
      ]
    },
    {
      "cell_type": "code",
      "execution_count": null,
      "metadata": {
        "id": "barzfXOxWRdK"
      },
      "outputs": [],
      "source": [
        "#función para calcula la precisión y la sensibilidad del modelo\n",
        "def calcular_precision_recall(y_actual, y_pred, labels):\n",
        "  \"\"\"\n",
        "    Calcula la precision y recall de un modelo de clasificación usando the los valores observados y los predichos.\n",
        "\n",
        "    Args:\n",
        "      y_actual: valores observados.\n",
        "      y_pred: valores predichos.\n",
        "      labels: lista de etiquedas.\n",
        "\n",
        "    Return:\n",
        "      Precisión y recall.\n",
        "  \"\"\"\n",
        "  cm = tf.math.confusion_matrix(y_actual,y_pred)\n",
        "  # La diagonal representa los verdaderos positivos\n",
        "  tp = np.diag(cm)\n",
        "  precision = dict()\n",
        "  recall = dict()\n",
        "  for i in range(len(labels)):\n",
        "    col = cm[:, i]\n",
        "    row = cm[i, :]\n",
        "    # La suma de la columna menos el verdadero positivo es un falso negativo\n",
        "    fp = np.sum(row) - tp[i]\n",
        "\n",
        "        # La suma de la columna menos el verdadero positivo es un falso negativo\n",
        "    fn = np.sum(col) - tp[i]\n",
        "\n",
        "    precision[labels[i]] = tp[i] / (tp[i] + fp) # Precision\n",
        "\n",
        "    recall[labels[i]] = tp[i] / (tp[i] + fn) # Sensibilidad (Recall)\n",
        "\n",
        "  return  precision, recall"
      ]
    },
    {
      "cell_type": "code",
      "execution_count": null,
      "metadata": {
        "id": "vEKrrh8rWWXs"
      },
      "outputs": [],
      "source": [
        "#funcion para calcular F1 score\n",
        "def calcular_f1_score(precision, recall):\n",
        "  \"\"\"\n",
        "    Calcula la puntuación F1 del modelo utilizando los valores de precisión y sensibilidad(recall).\n",
        "\n",
        "    Args:\n",
        "      precision: diccionario que contiene valores de precisión para cada clase.\n",
        "      recall: diccionario que contiene valores de recuperación para cada clase.\n",
        "\n",
        "    Return:\n",
        "      F1 score para cada clase.\n",
        "  \"\"\"\n",
        "  f1_scores = dict()\n",
        "  for label in precision.keys():\n",
        "    precision_val = precision[label]\n",
        "    recall_val = recall[label]\n",
        "    f1_scores[label] = 2 * (precision_val * recall_val) / (precision_val + recall_val)\n",
        "\n",
        "  return f1_scores"
      ]
    },
    {
      "cell_type": "code",
      "execution_count": null,
      "metadata": {
        "id": "Fmv2v2_uKX1a"
      },
      "outputs": [],
      "source": [
        "#Definimos los directorios donde guardaremos los resultados para cada modelo:\n",
        "modelos=original_dataset_dir+\"/Modelos\"\n",
        "if not os.path.exists(modelos):\n",
        "  os.makedirs(modelos)\n",
        "\n",
        "Guardar_CNN=modelos+\"/OPTIMO(CNN)\"\n",
        "if not os.path.exists(Guardar_CNN):\n",
        "  os.makedirs(Guardar_CNN)\n",
        "\n",
        "Guardar_CNNVGG=modelos+\"/OPTIMO(CNN-VGG16)\"\n",
        "if not os.path.exists(Guardar_CNNVGG):\n",
        "  os.makedirs(Guardar_CNNVGG)\n",
        "\n",
        "Guardar_CNNMobilNetV2=modelos+\"/OPTIMO(CNN-MobilNetV2)\"\n",
        "if not os.path.exists(Guardar_CNNMobilNetV2):\n",
        "  os.makedirs(Guardar_CNNMobilNetV2)"
      ]
    },
    {
      "cell_type": "markdown",
      "metadata": {
        "id": "NLiIye5fbjyT"
      },
      "source": [
        "#ENTRENAMIENTO DEL MODELO CNN ESTÁNDAR"
      ]
    },
    {
      "cell_type": "code",
      "execution_count": null,
      "metadata": {
        "id": "RGf8mDrVtv0j"
      },
      "outputs": [],
      "source": [
        "\n",
        "inicio=g.time()"
      ]
    },
    {
      "cell_type": "code",
      "execution_count": null,
      "metadata": {
        "id": "p6AZTtIwNSz8"
      },
      "outputs": [],
      "source": [
        "#MODELO CNN Estándar\n",
        "\n",
        "def Propio(kernel=3,dropout=0.5,activacion=\"softmax\",perdida=\"categorical_crossentropy\",metrica=\"accuracy\",neuronas=500,optimizador=\"Adamax\",pix=dst_size[0]):\n",
        "\n",
        "    inputs = Input(shape=(pix,pix,3))\n",
        "    x = layers.Rescaling(1./255)(inputs)\n",
        "    x= layers.Conv2D(filters=32, kernel_size=kernel, activation='relu')(x)\n",
        "    x= layers.MaxPooling2D(pool_size=2)(x)\n",
        "    x= layers.Conv2D(filters=64, kernel_size=kernel, activation='relu')(x)\n",
        "    x= layers.MaxPooling2D(pool_size=2)(x)\n",
        "    x= layers.Conv2D(filters=128, kernel_size=kernel, activation='relu')(x)\n",
        "    x= layers.MaxPooling2D(pool_size=2)(x)\n",
        "    x= layers.Flatten()(x)\n",
        "    x= layers.Dropout(dropout)(x)\n",
        "    x= layers.Dense(neuronas, activation='relu')(x)\n",
        "    x= layers.Dense(neuronas, activation='relu')(x)\n",
        "    x= layers.Dropout(dropout)(x)\n",
        "    x= layers.Dense(4, activation='softmax')(x)\n",
        "    outputs = layers.Dense(4, activation=activacion)(x)\n",
        "\n",
        "    model = models.Model(inputs, outputs)\n",
        "    model.compile(loss=perdida,\n",
        "                  optimizer=optimizador,\n",
        "                  metrics=[metrica])\n",
        "\n",
        "    return model"
      ]
    },
    {
      "cell_type": "code",
      "execution_count": null,
      "metadata": {
        "colab": {
          "base_uri": "https://localhost:8080/"
        },
        "id": "JBkTC2q9Npgv",
        "outputId": "758bed7b-edc3-4201-f423-236bdb73113d"
      },
      "outputs": [
        {
          "output_type": "stream",
          "name": "stdout",
          "text": [
            "Model: \"model\"\n",
            "_________________________________________________________________\n",
            " Layer (type)                Output Shape              Param #   \n",
            "=================================================================\n",
            " input_1 (InputLayer)        [(None, 224, 224, 3)]     0         \n",
            "                                                                 \n",
            " rescaling (Rescaling)       (None, 224, 224, 3)       0         \n",
            "                                                                 \n",
            " conv2d (Conv2D)             (None, 222, 222, 32)      896       \n",
            "                                                                 \n",
            " max_pooling2d (MaxPooling2D  (None, 111, 111, 32)     0         \n",
            " )                                                               \n",
            "                                                                 \n",
            " conv2d_1 (Conv2D)           (None, 109, 109, 64)      18496     \n",
            "                                                                 \n",
            " max_pooling2d_1 (MaxPooling  (None, 54, 54, 64)       0         \n",
            " 2D)                                                             \n",
            "                                                                 \n",
            " conv2d_2 (Conv2D)           (None, 52, 52, 128)       73856     \n",
            "                                                                 \n",
            " max_pooling2d_2 (MaxPooling  (None, 26, 26, 128)      0         \n",
            " 2D)                                                             \n",
            "                                                                 \n",
            " flatten (Flatten)           (None, 86528)             0         \n",
            "                                                                 \n",
            " dropout (Dropout)           (None, 86528)             0         \n",
            "                                                                 \n",
            " dense (Dense)               (None, 500)               43264500  \n",
            "                                                                 \n",
            " dense_1 (Dense)             (None, 500)               250500    \n",
            "                                                                 \n",
            " dropout_1 (Dropout)         (None, 500)               0         \n",
            "                                                                 \n",
            " dense_2 (Dense)             (None, 4)                 2004      \n",
            "                                                                 \n",
            " dense_3 (Dense)             (None, 4)                 20        \n",
            "                                                                 \n",
            "=================================================================\n",
            "Total params: 43,610,272\n",
            "Trainable params: 43,610,272\n",
            "Non-trainable params: 0\n",
            "_________________________________________________________________\n"
          ]
        }
      ],
      "source": [
        "#Revisamos brevemente como se compone la red\n",
        "revision_modelo=Propio()\n",
        "revision_modelo.summary()"
      ]
    },
    {
      "cell_type": "code",
      "execution_count": null,
      "metadata": {
        "colab": {
          "base_uri": "https://localhost:8080/"
        },
        "id": "NlS6h12CSFB7",
        "outputId": "4aeaec48-01fb-4828-e396-1a3fbae454e8"
      },
      "outputs": [
        {
          "output_type": "stream",
          "name": "stdout",
          "text": [
            "Found 10490 files belonging to 4 classes.\n",
            "Found 262 files belonging to 4 classes.\n",
            "Found 263 files belonging to 4 classes.\n"
          ]
        }
      ],
      "source": [
        "#Funciones de carga de imágenes\n",
        "train_dataset = image_dataset_from_directory(\n",
        "    train_dir,\n",
        "    image_size=dst_size,\n",
        "    batch_size=50,\n",
        "    seed=5,\n",
        "    label_mode=\"categorical\",\n",
        ")\n",
        "\n",
        "\n",
        "validation_dataset = image_dataset_from_directory(\n",
        "    validation_dir,\n",
        "    image_size=dst_size,\n",
        "    batch_size=10,\n",
        "    seed=5,\n",
        "    label_mode=\"categorical\",\n",
        ")\n",
        "\n",
        "\n",
        "test_dataset = image_dataset_from_directory(\n",
        "    test_dir,\n",
        "    image_size=dst_size,\n",
        "    batch_size=10,\n",
        "    label_mode=\"categorical\",\n",
        "    shuffle=False\n",
        ")"
      ]
    },
    {
      "cell_type": "code",
      "execution_count": null,
      "metadata": {
        "id": "BxJOBblnSWZ1"
      },
      "outputs": [],
      "source": [
        "#FASE DE ENTRENAMIENTO DEL MODELO\n",
        "\n",
        "callbacks = [\n",
        "keras.callbacks.ModelCheckpoint(\n",
        "filepath=Guardar_CNN,\n",
        "save_best_only=True,\n",
        "monitor='val_accuracy'),\n",
        "tf.keras.callbacks.EarlyStopping(\n",
        "    monitor='val_accuracy',\n",
        "    patience=5,\n",
        "    verbose=0,\n",
        "    mode='auto',\n",
        "    start_from_epoch=3)\n",
        "]\n"
      ]
    },
    {
      "cell_type": "code",
      "execution_count": null,
      "metadata": {
        "id": "KaG2Ja79SbiN"
      },
      "outputs": [],
      "source": [
        "def obtener_mejores_metricas_CNN(rangos_drop, rangos_neu, rangos_opt, rangos_ker):\n",
        "    mejores_metricas = np.zeros([5])\n",
        "\n",
        "    for drop in rangos_drop:\n",
        "        for neu in rangos_neu:\n",
        "            for opt in rangos_opt:\n",
        "                for ker in rangos_ker:\n",
        "                    modelo = Propio(kernel=ker, dropout=drop, neuronas=neu, optimizador=opt)\n",
        "                    history = modelo.fit(train_dataset, epochs=100, validation_data=validation_dataset, callbacks=callbacks)\n",
        "                    accuracy = history.history[\"val_accuracy\"][-1]\n",
        "\n",
        "                    if accuracy >= 0.90:\n",
        "                        nueva_fila = np.array([drop, neu, opt, ker, accuracy])\n",
        "                        mejores_metricas = np.vstack([mejores_metricas, nueva_fila])\n",
        "\n",
        "    return mejores_metricas"
      ]
    },
    {
      "cell_type": "code",
      "execution_count": null,
      "metadata": {
        "id": "oEUO7EepT4YE"
      },
      "outputs": [],
      "source": [
        "mejores_metricas = obtener_mejores_metricas_CNN(rangos_drop=[0.3, 0.5, 0.7], rangos_neu=[300, 400, 600, 800], rangos_opt=[\"Adamax\", \"RMSprop\", \"adadelta\", \"adam\"], rangos_ker=[2, 3])"
      ]
    },
    {
      "cell_type": "code",
      "execution_count": null,
      "metadata": {
        "colab": {
          "base_uri": "https://localhost:8080/",
          "height": 53
        },
        "id": "M7lxmlAxt0OI",
        "outputId": "61925dcf-6122-41e7-e613-44413605d1d0"
      },
      "outputs": [
        {
          "name": "stdout",
          "output_type": "stream",
          "text": [
            "Tiempo total de ejecución de CNN Estándar:13541.54141831398 Seg\n"
          ]
        },
        {
          "data": {
            "application/vnd.google.colaboratory.intrinsic+json": {
              "type": "string"
            },
            "text/plain": [
              "'Tiempo de 6 horas'"
            ]
          },
          "execution_count": 23,
          "metadata": {},
          "output_type": "execute_result"
        }
      ],
      "source": [
        "final=g.time()\n",
        "print(\"Tiempo total de ejecución de CNN Estándar:{} Seg\".format(final-inicio))\n",
        "\"\"\"Tiempo de 6 horas\"\"\""
      ]
    },
    {
      "cell_type": "code",
      "execution_count": null,
      "metadata": {
        "colab": {
          "base_uri": "https://localhost:8080/"
        },
        "id": "lfdj6l4x1VT3",
        "outputId": "ab7021d3-f9f9-49a6-f6ef-16e07ad355f6"
      },
      "outputs": [
        {
          "data": {
            "text/plain": [
              "array([['0.0', '0.0', '0.0', '0.0', '0.0'],\n",
              "       ['0.3', '300', 'Adamax', '3', '0.9742646813392639'],\n",
              "       ['0.3', '300', 'RMSprop', '2', '0.9375'],\n",
              "       ['0.3', '400', 'Adamax', '3', '0.970588207244873'],\n",
              "       ['0.3', '400', 'RMSprop', '2', '0.9338235259056091'],\n",
              "       ['0.3', '600', 'RMSprop', '3', '0.9595588445663452'],\n",
              "       ['0.5', '300', 'RMSprop', '2', '0.9522058963775635'],\n",
              "       ['0.5', '400', 'RMSprop', '2', '0.9485294222831726'],\n",
              "       ['0.5', '800', 'RMSprop', '2', '0.9264705777168274'],\n",
              "       ['0.7', '300', 'Adamax', '3', '0.9522058963775635'],\n",
              "       ['0.7', '300', 'RMSprop', '2', '0.9375'],\n",
              "       ['0.7', '400', 'Adamax', '2', '0.970588207244873'],\n",
              "       ['0.7', '400', 'RMSprop', '2', '0.9485294222831726'],\n",
              "       ['0.7', '600', 'RMSprop', '2', '0.9411764740943909'],\n",
              "       ['0.7', '800', 'RMSprop', '2', '0.9375'],\n",
              "       ['0.7', '800', 'RMSprop', '3', '0.9227941036224365']], dtype='<U32')"
            ]
          },
          "execution_count": 24,
          "metadata": {},
          "output_type": "execute_result"
        }
      ],
      "source": [
        "mejores_metricas"
      ]
    },
    {
      "cell_type": "code",
      "execution_count": null,
      "metadata": {
        "id": "z-Cn-6rIUDeS"
      },
      "outputs": [],
      "source": [
        "#guardar los resultados al archivo de txt\n",
        "file = open(Guardar_CNN+\"/resultados_de_busqueda_por_rejilla.txt\", \"w+\")\n",
        "content = str(mejores_metricas)\n",
        "file.write(content)\n",
        "file.close()\n",
        "\n",
        "\n",
        "# Obtener el índice de la fila con el máximo valor de accuracy\n",
        "max_index = np.argmax(mejores_metricas[:, -1])\n",
        "\n",
        "# Obtener los parámetros correspondientes a la fila con el máximo valor de accuracy\n",
        "kernel_max = int(mejores_metricas[max_index, 3])\n",
        "dropout_max = float(mejores_metricas[max_index, 0])\n",
        "neuronas_max = int(mejores_metricas[max_index, 1])\n",
        "optimizador_max = str(mejores_metricas[max_index, 2])\n",
        "\n",
        "# Recuperamos un modelo CNN estandar con la función Propio() con los parámetros correspondientes al máximo valor de accuracy\n",
        "modelo_CNN = Propio(kernel=kernel_max, dropout=dropout_max, neuronas=neuronas_max, optimizador=optimizador_max)\n"
      ]
    },
    {
      "cell_type": "code",
      "execution_count": null,
      "metadata": {
        "colab": {
          "base_uri": "https://localhost:8080/"
        },
        "id": "9wmOZCWlVsCI",
        "outputId": "cea0580f-0b0a-424a-a43a-19b1fc3046fd"
      },
      "outputs": [
        {
          "name": "stdout",
          "output_type": "stream",
          "text": [
            "Epoch 1/100\n",
            "126/126 [==============================] - 12s 78ms/step - loss: 1.2059 - accuracy: 0.5503 - val_loss: 1.1133 - val_accuracy: 0.6581\n",
            "Epoch 2/100\n",
            "126/126 [==============================] - 10s 77ms/step - loss: 1.0590 - accuracy: 0.6948 - val_loss: 0.9970 - val_accuracy: 0.7316\n",
            "Epoch 3/100\n",
            "126/126 [==============================] - 10s 77ms/step - loss: 0.9499 - accuracy: 0.8932 - val_loss: 0.9084 - val_accuracy: 0.9228\n",
            "Epoch 4/100\n",
            "126/126 [==============================] - 10s 77ms/step - loss: 0.8771 - accuracy: 0.9190 - val_loss: 0.8519 - val_accuracy: 0.8897\n",
            "Epoch 5/100\n",
            "126/126 [==============================] - 10s 77ms/step - loss: 0.8051 - accuracy: 0.9316 - val_loss: 0.7824 - val_accuracy: 0.9265\n",
            "Epoch 6/100\n",
            "126/126 [==============================] - 10s 77ms/step - loss: 0.7404 - accuracy: 0.9394 - val_loss: 0.7122 - val_accuracy: 0.9412\n",
            "Epoch 7/100\n",
            "126/126 [==============================] - 10s 77ms/step - loss: 0.6777 - accuracy: 0.9444 - val_loss: 0.6571 - val_accuracy: 0.9375\n",
            "Epoch 8/100\n",
            "126/126 [==============================] - 10s 77ms/step - loss: 0.6149 - accuracy: 0.9513 - val_loss: 0.6108 - val_accuracy: 0.9301\n",
            "Epoch 9/100\n",
            "126/126 [==============================] - 10s 77ms/step - loss: 0.5579 - accuracy: 0.9560 - val_loss: 0.5563 - val_accuracy: 0.9412\n",
            "Epoch 10/100\n",
            "126/126 [==============================] - 10s 77ms/step - loss: 0.5040 - accuracy: 0.9606 - val_loss: 0.5067 - val_accuracy: 0.9412\n",
            "Epoch 11/100\n",
            "126/126 [==============================] - 10s 77ms/step - loss: 0.4547 - accuracy: 0.9641 - val_loss: 0.4947 - val_accuracy: 0.9154\n"
          ]
        }
      ],
      "source": [
        "#Entrenamos nuevamente el modelo para obtener las metricas\n",
        "\"\"\"CUANDO EXISTÁN DOS MODELOS ÓPTIMOS CON MISMO ACC: Antes de ejecutar el siguiente código verifique que la carpeta de guardado(Guardar_CNN) esté vacía de lo contrario el modelo\n",
        "y los resultados se mostrarán en funcion del último modelo guardado en lugar del siguiente.\n",
        "\"\"\"\n",
        "history = modelo_CNN.fit(train_dataset, epochs=100, validation_data=validation_dataset, callbacks=callbacks)"
      ]
    },
    {
      "cell_type": "code",
      "execution_count": null,
      "metadata": {
        "colab": {
          "base_uri": "https://localhost:8080/"
        },
        "id": "3lWcWwtVUQSD",
        "outputId": "4f63fcfd-eafb-4c3b-f813-d35b1395f68c"
      },
      "outputs": [
        {
          "name": "stdout",
          "output_type": "stream",
          "text": [
            "27/27 [==============================] - 1s 13ms/step - loss: 0.3235 - accuracy: 0.9813\n",
            "Test ACC: 0.981\n"
          ]
        }
      ],
      "source": [
        "#EVALUACION FINAL DEL MODELO para determinar su ACC global\n",
        "\n",
        "test_model_cnn = keras.models.load_model(Guardar_CNN)\n",
        "test_loss, test_acc = test_model_cnn.evaluate(test_dataset)\n",
        "print(f\"Test ACC: {test_acc:.3f}\")\n"
      ]
    },
    {
      "cell_type": "code",
      "execution_count": null,
      "metadata": {
        "id": "Tg8Wq7Ej4PCC"
      },
      "outputs": [],
      "source": [
        "#config = test_model_cnn.get_config()\n",
        "#print(config)"
      ]
    },
    {
      "cell_type": "code",
      "execution_count": null,
      "metadata": {
        "id": "MmmJHnVYe70e"
      },
      "outputs": [],
      "source": [
        "#RESULTADOS FINALES PARA CNN ESTÁNDAR"
      ]
    },
    {
      "cell_type": "code",
      "execution_count": null,
      "metadata": {
        "colab": {
          "base_uri": "https://localhost:8080/",
          "height": 889
        },
        "id": "d6kt5Q60d2F2",
        "outputId": "11085979-4c29-41bb-c139-abce70a49ff4"
      },
      "outputs": [
        {
          "data": {
            "image/png": "[encoded data removed]",
            "text/plain": [
              "<Figure size 640x480 with 1 Axes>"
            ]
          },
          "metadata": {},
          "output_type": "display_data"
        },
        {
          "data": {
            "image/png": "[encoded data removed]",
            "text/plain": [
              "<Figure size 640x480 with 1 Axes>"
            ]
          },
          "metadata": {},
          "output_type": "display_data"
        }
      ],
      "source": [
        "graficar_curva_aprendizaje(history,plt=plt)"
      ]
    },
    {
      "cell_type": "code",
      "execution_count": null,
      "metadata": {
        "colab": {
          "base_uri": "https://localhost:8080/",
          "height": 463
        },
        "id": "Onaz06RPWOS0",
        "outputId": "6a8d1b2e-2982-454a-b0e9-1e50ee40645b"
      },
      "outputs": [
        {
          "name": "stdout",
          "output_type": "stream",
          "text": [
            "27/27 [==============================] - 0s 6ms/step\n"
          ]
        },
        {
          "data": {
            "image/png": "[encoded data removed]",
            "text/plain": [
              "<Figure size 640x480 with 2 Axes>"
            ]
          },
          "metadata": {},
          "output_type": "display_data"
        }
      ],
      "source": [
        "actual, predicted = get_actual_predicted_labels(dataset=test_dataset,model=test_model_cnn)\n",
        "graficar_matriz_confusion(actual, predicted, test_dataset.class_names)\n",
        "#print(actual,predicted)"
      ]
    },
    {
      "cell_type": "code",
      "execution_count": null,
      "metadata": {
        "id": "Cl6U2jt3WUnc"
      },
      "outputs": [],
      "source": [
        "precision, recall = calcular_precision_recall(actual, predicted, test_dataset.class_names)\n",
        "resultadosf1=calcular_f1_score(precision, recall)\n",
        "print(\"Resultado Precisión: {}\".format(precision))\n",
        "print(\"Resultado Recall: {}\".format( recall))\n",
        "print(\"Resultado F1_Score: {}\".format(resultadosf1))"
      ]
    },
    {
      "cell_type": "code",
      "execution_count": null,
      "metadata": {
        "id": "KJj-ilRsWYPU"
      },
      "outputs": [],
      "source": [
        "valores = list(resultadosf1.values())\n",
        "promedio = statistics.mean(valores)\n",
        "print(\"F1macro:\", promedio)"
      ]
    },
    {
      "cell_type": "markdown",
      "metadata": {
        "id": "wyM0HmEff7ZR"
      },
      "source": [
        "#ENTRENAMIENTO DEL MODELO CNN-VGG16"
      ]
    },
    {
      "cell_type": "code",
      "execution_count": null,
      "metadata": {
        "id": "c4nJ5X41H-eb"
      },
      "outputs": [],
      "source": [
        "inicio=g.time()"
      ]
    },
    {
      "cell_type": "code",
      "execution_count": null,
      "metadata": {
        "colab": {
          "base_uri": "https://localhost:8080/"
        },
        "id": "bDlpe9QOf_Hu",
        "outputId": "ff85b338-513e-4312-bca0-4a3b594380ce"
      },
      "outputs": [
        {
          "name": "stdout",
          "output_type": "stream",
          "text": [
            "Downloading data from https://storage.googleapis.com/tensorflow/keras-applications/vgg16/vgg16_weights_tf_dim_ordering_tf_kernels_notop.h5\n",
            "58889256/58889256 [==============================] - 4s 0us/step\n"
          ]
        }
      ],
      "source": [
        "#%% BASE COVOLUCIONAL VGG16\n",
        "\n",
        "conv_base = vgg.VGG16(\n",
        "weights=\"imagenet\",\n",
        "include_top=False,\n",
        "input_shape=(dst_size[0],dst_size[0],3))\n",
        "##bloquear capas de 1-4\n",
        "for layer in conv_base.layers:\n",
        "  if layer.name.startswith(\"block\") and not layer.name.startswith(\"block5\"):\n",
        "    layer.trainable = False"
      ]
    },
    {
      "cell_type": "code",
      "execution_count": null,
      "metadata": {
        "colab": {
          "base_uri": "https://localhost:8080/"
        },
        "id": "ixtgzZE5hJkr",
        "outputId": "f2015d31-54bc-4525-9467-cec4285d9924"
      },
      "outputs": [
        {
          "name": "stdout",
          "output_type": "stream",
          "text": [
            "block1_conv1 False\n",
            "block1_conv2 False\n",
            "block2_conv1 False\n",
            "block2_conv2 False\n",
            "block3_conv1 False\n",
            "block3_conv2 False\n",
            "block3_conv3 False\n",
            "block4_conv1 False\n",
            "block4_conv2 False\n",
            "block4_conv3 False\n",
            "block5_conv1 True\n",
            "block5_conv2 True\n",
            "block5_conv3 True\n"
          ]
        }
      ],
      "source": [
        "#verificar si las capas  finalesson entrenables\n",
        "for layer in conv_base.layers:\n",
        "  if isinstance(layer, keras.layers.Conv2D):\n",
        "    print(layer.name, layer.trainable)"
      ]
    },
    {
      "cell_type": "code",
      "execution_count": null,
      "metadata": {
        "colab": {
          "base_uri": "https://localhost:8080/"
        },
        "id": "_Bbo8ZrAHKTr",
        "outputId": "3d5159fd-fc2f-4a98-a7ec-d5264685fbd5"
      },
      "outputs": [
        {
          "name": "stdout",
          "output_type": "stream",
          "text": [
            "Found 6300 files belonging to 4 classes.\n",
            "Found 272 files belonging to 4 classes.\n",
            "Found 268 files belonging to 4 classes.\n"
          ]
        }
      ],
      "source": [
        "\n",
        "train_dataset = image_dataset_from_directory(\n",
        "    train_dir,\n",
        "    image_size=dst_size,\n",
        "    batch_size=50,\n",
        "    seed=5,\n",
        "    label_mode=\"categorical\",\n",
        ")\n",
        "\n",
        "\n",
        "validation_dataset = image_dataset_from_directory(\n",
        "    validation_dir,\n",
        "    image_size=dst_size,\n",
        "    batch_size=10,\n",
        "    seed=5,\n",
        "    label_mode=\"categorical\",\n",
        ")\n",
        "\n",
        "\n",
        "test_dataset = image_dataset_from_directory(\n",
        "    test_dir,\n",
        "    image_size=dst_size,\n",
        "    batch_size=10,\n",
        "    label_mode=\"categorical\",\n",
        "    shuffle=False\n",
        ")"
      ]
    },
    {
      "cell_type": "code",
      "execution_count": null,
      "metadata": {
        "id": "uYhDdXuthLqN"
      },
      "outputs": [],
      "source": [
        "# #MODELO DE LA RED CON VGG16\n",
        "def VGG(dropout1=0.5,dropout2=0.6,activacion=\"softmax\",perdida=\"categorical_crossentropy\",metrica=\"accuracy\",neuronas=256,optimizador=\"Adamax\",vgg=conv_base,preproces=vgg):\n",
        "\n",
        "  inputs = Input(shape=(dst_size[0], dst_size[0], 3))\n",
        "  x = preproces.preprocess_input(inputs)\n",
        "  x = vgg(x)\n",
        "  x = layers.Flatten()(x)\n",
        "  x = layers.Dropout(dropout1)(x)\n",
        "  x = layers.Dense(neuronas,activation='relu')(x)\n",
        "  x = layers.Dense(neuronas,activation='relu')(x)\n",
        "  x = layers.Dropout(dropout2)(x)\n",
        "  outputs = layers.Dense(4, activation=activacion)(x)\n",
        "\n",
        "  model = models.Model(inputs, outputs)\n",
        "  model.compile(loss=perdida,\n",
        "                optimizer=optimizador,\n",
        "                metrics=[metrica])\n",
        "  return model"
      ]
    },
    {
      "cell_type": "code",
      "execution_count": null,
      "metadata": {
        "id": "JwvgMNVth0y_"
      },
      "outputs": [],
      "source": [
        "#FASE DE ENTRENAMIENTO DEL MODELO\n",
        "\n",
        "callbacks2 = [\n",
        "keras.callbacks.ModelCheckpoint(\n",
        "filepath=Guardar_CNNVGG,\n",
        "save_best_only=True,\n",
        "monitor='val_accuracy'),\n",
        "tf.keras.callbacks.EarlyStopping(\n",
        "    monitor='val_accuracy',\n",
        "    patience=5,\n",
        "    verbose=0,\n",
        "    mode='auto',\n",
        "    start_from_epoch=5)\n",
        "]"
      ]
    },
    {
      "cell_type": "code",
      "execution_count": null,
      "metadata": {
        "id": "efQcRDcaiHY8"
      },
      "outputs": [],
      "source": [
        "#ÁSTA FUNCION TAMBIEN LA USAMOS EN VGG16 y MOBILENETV2\n",
        "def obtener_mejores_metricas(rangos_drop, rangos_neu, rangos_opt,callbacks=callbacks2,mod=None):\n",
        "    mejores_metricas = np.zeros([4])\n",
        "\n",
        "    for drop in rangos_drop:\n",
        "        for neu in rangos_neu:\n",
        "            for opt in rangos_opt:\n",
        "              modelo=mod(dropout1=drop,dropout2=drop+0.1,neuronas=neu,optimizador=opt)\n",
        "              history = modelo.fit(\n",
        "                    train_dataset,\n",
        "                    epochs=100,\n",
        "                    validation_data=validation_dataset\n",
        "                    ,callbacks=callbacks2\n",
        "                    )\n",
        "              accuracy = history.history[\"val_accuracy\"][-1]\n",
        "\n",
        "              if accuracy >= 0.95:\n",
        "                  nueva_fila = np.array([drop, neu, opt, accuracy])\n",
        "                  mejores_metricas = np.vstack([mejores_metricas, nueva_fila])\n",
        "\n",
        "    return mejores_metricas"
      ]
    },
    {
      "cell_type": "code",
      "execution_count": null,
      "metadata": {
        "colab": {
          "background_save": true,
          "base_uri": "https://localhost:8080/"
        },
        "id": "CkMwWvMrrKRF",
        "outputId": "b9a1a598-e7c1-46ea-debb-b24d342e07c0"
      },
      "outputs": [
        {
          "name": "stdout",
          "output_type": "stream",
          "text": [
            "Epoch 1/100\n",
            "126/126 [==============================] - ETA: 0s - loss: 1.2342 - accuracy: 0.4621"
          ]
        },
        {
          "name": "stderr",
          "output_type": "stream",
          "text": [
            "WARNING:absl:Found untraced functions such as _jit_compiled_convolution_op, _jit_compiled_convolution_op, _jit_compiled_convolution_op, _jit_compiled_convolution_op, _jit_compiled_convolution_op while saving (showing 5 of 13). These functions will not be directly callable after loading.\n"
          ]
        },
        {
          "name": "stdout",
          "output_type": "stream",
          "text": [
            "126/126 [==============================] - 49s 310ms/step - loss: 1.2342 - accuracy: 0.4621 - val_loss: 0.9631 - val_accuracy: 0.5110\n",
            "Epoch 2/100\n",
            "126/126 [==============================] - 33s 258ms/step - loss: 0.9430 - accuracy: 0.5048 - val_loss: 0.9069 - val_accuracy: 0.4926\n",
            "Epoch 3/100\n",
            "126/126 [==============================] - 33s 258ms/step - loss: 0.9069 - accuracy: 0.4997 - val_loss: 0.8611 - val_accuracy: 0.5037\n",
            "Epoch 4/100\n",
            "126/126 [==============================] - ETA: 0s - loss: 0.8515 - accuracy: 0.5127"
          ]
        },
        {
          "name": "stderr",
          "output_type": "stream",
          "text": [
            "WARNING:absl:Found untraced functions such as _jit_compiled_convolution_op, _jit_compiled_convolution_op, _jit_compiled_convolution_op, _jit_compiled_convolution_op, _jit_compiled_convolution_op while saving (showing 5 of 13). These functions will not be directly callable after loading.\n"
          ]
        },
        {
          "name": "stdout",
          "output_type": "stream",
          "text": [
            "126/126 [==============================] - 36s 287ms/step - loss: 0.8515 - accuracy: 0.5127 - val_loss: 0.7671 - val_accuracy: 0.5956\n",
            "Epoch 5/100\n",
            "126/126 [==============================] - 33s 259ms/step - loss: 0.8518 - accuracy: 0.5270 - val_loss: 0.8078 - val_accuracy: 0.5625\n",
            "Epoch 6/100\n",
            "126/126 [==============================] - ETA: 0s - loss: 0.7598 - accuracy: 0.6010"
          ]
        },
        {
          "name": "stderr",
          "output_type": "stream",
          "text": [
            "WARNING:absl:Found untraced functions such as _jit_compiled_convolution_op, _jit_compiled_convolution_op, _jit_compiled_convolution_op, _jit_compiled_convolution_op, _jit_compiled_convolution_op while saving (showing 5 of 13). These functions will not be directly callable after loading.\n"
          ]
        },
        {
          "name": "stdout",
          "output_type": "stream",
          "text": [
            "126/126 [==============================] - 37s 291ms/step - loss: 0.7598 - accuracy: 0.6010 - val_loss: 0.5845 - val_accuracy: 0.6985\n",
            "Epoch 7/100\n",
            "126/126 [==============================] - 33s 258ms/step - loss: 0.5819 - accuracy: 0.6951 - val_loss: 0.5150 - val_accuracy: 0.6985\n",
            "Epoch 8/100\n",
            "126/126 [==============================] - ETA: 0s - loss: 0.4982 - accuracy: 0.7341"
          ]
        },
        {
          "name": "stderr",
          "output_type": "stream",
          "text": [
            "WARNING:absl:Found untraced functions such as _jit_compiled_convolution_op, _jit_compiled_convolution_op, _jit_compiled_convolution_op, _jit_compiled_convolution_op, _jit_compiled_convolution_op while saving (showing 5 of 13). These functions will not be directly callable after loading.\n"
          ]
        },
        {
          "name": "stdout",
          "output_type": "stream",
          "text": [
            "126/126 [==============================] - 36s 287ms/step - loss: 0.4982 - accuracy: 0.7341 - val_loss: 0.4083 - val_accuracy: 0.7463\n",
            "Epoch 9/100\n",
            "126/126 [==============================] - ETA: 0s - loss: 0.4309 - accuracy: 0.7632"
          ]
        },
        {
          "name": "stderr",
          "output_type": "stream",
          "text": [
            "WARNING:absl:Found untraced functions such as _jit_compiled_convolution_op, _jit_compiled_convolution_op, _jit_compiled_convolution_op, _jit_compiled_convolution_op, _jit_compiled_convolution_op while saving (showing 5 of 13). These functions will not be directly callable after loading.\n"
          ]
        },
        {
          "name": "stdout",
          "output_type": "stream",
          "text": [
            "126/126 [==============================] - 37s 289ms/step - loss: 0.4309 - accuracy: 0.7632 - val_loss: 0.3673 - val_accuracy: 0.8309\n",
            "Epoch 10/100\n",
            "126/126 [==============================] - ETA: 0s - loss: 0.3406 - accuracy: 0.8587"
          ]
        },
        {
          "name": "stderr",
          "output_type": "stream",
          "text": [
            "WARNING:absl:Found untraced functions such as _jit_compiled_convolution_op, _jit_compiled_convolution_op, _jit_compiled_convolution_op, _jit_compiled_convolution_op, _jit_compiled_convolution_op while saving (showing 5 of 13). These functions will not be directly callable after loading.\n"
          ]
        },
        {
          "name": "stdout",
          "output_type": "stream",
          "text": [
            "126/126 [==============================] - 36s 286ms/step - loss: 0.3406 - accuracy: 0.8587 - val_loss: 0.2138 - val_accuracy: 0.9449\n",
            "Epoch 11/100\n",
            "126/126 [==============================] - ETA: 0s - loss: 0.2037 - accuracy: 0.9452"
          ]
        },
        {
          "name": "stderr",
          "output_type": "stream",
          "text": [
            "WARNING:absl:Found untraced functions such as _jit_compiled_convolution_op, _jit_compiled_convolution_op, _jit_compiled_convolution_op, _jit_compiled_convolution_op, _jit_compiled_convolution_op while saving (showing 5 of 13). These functions will not be directly callable after loading.\n"
          ]
        },
        {
          "name": "stdout",
          "output_type": "stream",
          "text": [
            "126/126 [==============================] - 36s 285ms/step - loss: 0.2037 - accuracy: 0.9452 - val_loss: 0.0589 - val_accuracy: 0.9890\n",
            "Epoch 12/100\n",
            "126/126 [==============================] - ETA: 0s - loss: 0.0546 - accuracy: 0.9884"
          ]
        },
        {
          "name": "stderr",
          "output_type": "stream",
          "text": [
            "WARNING:absl:Found untraced functions such as _jit_compiled_convolution_op, _jit_compiled_convolution_op, _jit_compiled_convolution_op, _jit_compiled_convolution_op, _jit_compiled_convolution_op while saving (showing 5 of 13). These functions will not be directly callable after loading.\n"
          ]
        },
        {
          "name": "stdout",
          "output_type": "stream",
          "text": [
            "126/126 [==============================] - 37s 290ms/step - loss: 0.0546 - accuracy: 0.9884 - val_loss: 0.0233 - val_accuracy: 0.9963\n",
            "Epoch 13/100\n",
            "126/126 [==============================] - 33s 258ms/step - loss: 0.0303 - accuracy: 0.9935 - val_loss: 0.0384 - val_accuracy: 0.9890\n",
            "Epoch 14/100\n",
            "126/126 [==============================] - ETA: 0s - loss: 0.0153 - accuracy: 0.9965"
          ]
        },
        {
          "name": "stderr",
          "output_type": "stream",
          "text": [
            "WARNING:absl:Found untraced functions such as _jit_compiled_convolution_op, _jit_compiled_convolution_op, _jit_compiled_convolution_op, _jit_compiled_convolution_op, _jit_compiled_convolution_op while saving (showing 5 of 13). These functions will not be directly callable after loading.\n"
          ]
        },
        {
          "name": "stdout",
          "output_type": "stream",
          "text": [
            "126/126 [==============================] - 36s 286ms/step - loss: 0.0153 - accuracy: 0.9965 - val_loss: 0.0057 - val_accuracy: 1.0000\n",
            "Epoch 15/100\n",
            "126/126 [==============================] - 33s 258ms/step - loss: 0.0080 - accuracy: 0.9986 - val_loss: 0.0034 - val_accuracy: 1.0000\n",
            "Epoch 16/100\n",
            "126/126 [==============================] - 33s 259ms/step - loss: 0.0051 - accuracy: 0.9994 - val_loss: 0.0065 - val_accuracy: 0.9963\n",
            "Epoch 17/100\n",
            "126/126 [==============================] - 33s 260ms/step - loss: 0.0327 - accuracy: 0.9940 - val_loss: 0.0139 - val_accuracy: 0.9926\n",
            "Epoch 18/100\n",
            "126/126 [==============================] - 33s 261ms/step - loss: 0.0064 - accuracy: 0.9979 - val_loss: 0.0129 - val_accuracy: 0.9926\n",
            "Epoch 19/100\n",
            "126/126 [==============================] - 33s 261ms/step - loss: 0.0022 - accuracy: 1.0000 - val_loss: 0.0161 - val_accuracy: 0.9926\n",
            "Epoch 1/100\n",
            "126/126 [==============================] - 35s 261ms/step - loss: 7.8855 - accuracy: 0.3651 - val_loss: 0.9673 - val_accuracy: 0.5515\n",
            "Epoch 2/100\n",
            "126/126 [==============================] - 33s 259ms/step - loss: 1.2775 - accuracy: 0.4943 - val_loss: 0.8767 - val_accuracy: 0.5441\n",
            "Epoch 3/100\n",
            "126/126 [==============================] - 33s 259ms/step - loss: 1.6367 - accuracy: 0.6310 - val_loss: 0.4090 - val_accuracy: 0.8162\n",
            "Epoch 4/100\n",
            "126/126 [==============================] - 33s 259ms/step - loss: 0.8282 - accuracy: 0.8006 - val_loss: 0.2247 - val_accuracy: 0.9485\n",
            "Epoch 5/100\n",
            "126/126 [==============================] - 33s 260ms/step - loss: 0.9570 - accuracy: 0.8368 - val_loss: 0.0668 - val_accuracy: 0.9816\n",
            "Epoch 6/100\n",
            "126/126 [==============================] - 33s 260ms/step - loss: 2.2938 - accuracy: 0.8479 - val_loss: 0.0753 - val_accuracy: 0.9890\n",
            "Epoch 7/100\n",
            "126/126 [==============================] - 33s 260ms/step - loss: 2.8123 - accuracy: 0.8473 - val_loss: 0.3194 - val_accuracy: 0.7390\n",
            "Epoch 8/100\n",
            "126/126 [==============================] - 33s 259ms/step - loss: 2.1512 - accuracy: 0.8365 - val_loss: 0.1027 - val_accuracy: 0.9596\n",
            "Epoch 9/100\n",
            "126/126 [==============================] - 33s 260ms/step - loss: 3.4264 - accuracy: 0.8414 - val_loss: 0.4310 - val_accuracy: 0.9044\n",
            "Epoch 10/100\n",
            "126/126 [==============================] - 33s 260ms/step - loss: 1.3849 - accuracy: 0.4678 - val_loss: 1.1868 - val_accuracy: 0.4081\n",
            "Epoch 11/100\n",
            "126/126 [==============================] - 33s 259ms/step - loss: 3.1037 - accuracy: 0.3030 - val_loss: 1.0665 - val_accuracy: 0.4522\n",
            "Epoch 1/100\n",
            "126/126 [==============================] - 36s 262ms/step - loss: 2057.1257 - accuracy: 0.2757 - val_loss: 266.9272 - val_accuracy: 0.4559\n",
            "Epoch 2/100\n",
            "126/126 [==============================] - 33s 262ms/step - loss: 1483.6416 - accuracy: 0.3108 - val_loss: 169.5910 - val_accuracy: 0.6287\n",
            "Epoch 3/100\n",
            "126/126 [==============================] - 33s 262ms/step - loss: 1212.2563 - accuracy: 0.3635 - val_loss: 206.8161 - val_accuracy: 0.6066\n",
            "Epoch 4/100\n",
            "126/126 [==============================] - 33s 261ms/step - loss: 1034.2216 - accuracy: 0.4073 - val_loss: 174.9448 - val_accuracy: 0.6397\n",
            "Epoch 5/100\n",
            "126/126 [==============================] - 33s 261ms/step - loss: 865.5981 - accuracy: 0.4625 - val_loss: 154.1709 - val_accuracy: 0.6801\n",
            "Epoch 6/100\n",
            "126/126 [==============================] - 33s 261ms/step - loss: 782.9916 - accuracy: 0.4737 - val_loss: 137.9261 - val_accuracy: 0.7059\n",
            "Epoch 7/100\n",
            "126/126 [==============================] - 33s 260ms/step - loss: 676.9854 - accuracy: 0.5217 - val_loss: 115.7345 - val_accuracy: 0.7243\n",
            "Epoch 8/100\n",
            "126/126 [==============================] - 33s 261ms/step - loss: 576.5249 - accuracy: 0.5500 - val_loss: 86.4642 - val_accuracy: 0.7721\n",
            "Epoch 9/100\n",
            "126/126 [==============================] - 33s 261ms/step - loss: 520.3176 - accuracy: 0.5795 - val_loss: 62.3065 - val_accuracy: 0.8419\n",
            "Epoch 10/100\n",
            "126/126 [==============================] - 33s 261ms/step - loss: 461.5696 - accuracy: 0.6089 - val_loss: 51.5610 - val_accuracy: 0.8566\n",
            "Epoch 11/100\n",
            "126/126 [==============================] - 33s 262ms/step - loss: 399.2212 - accuracy: 0.6371 - val_loss: 42.2006 - val_accuracy: 0.8676\n",
            "Epoch 12/100\n",
            "126/126 [==============================] - 33s 261ms/step - loss: 329.4367 - accuracy: 0.6702 - val_loss: 27.7805 - val_accuracy: 0.8971\n",
            "Epoch 13/100\n",
            "126/126 [==============================] - 33s 261ms/step - loss: 294.5804 - accuracy: 0.6889 - val_loss: 22.7705 - val_accuracy: 0.9118\n",
            "Epoch 14/100\n",
            "126/126 [==============================] - 33s 261ms/step - loss: 245.2032 - accuracy: 0.7173 - val_loss: 18.8882 - val_accuracy: 0.9228\n",
            "Epoch 15/100\n",
            "126/126 [==============================] - 33s 261ms/step - loss: 210.0544 - accuracy: 0.7473 - val_loss: 15.5116 - val_accuracy: 0.9375\n",
            "Epoch 16/100\n",
            "126/126 [==============================] - 33s 261ms/step - loss: 189.0811 - accuracy: 0.7570 - val_loss: 13.0378 - val_accuracy: 0.9485\n",
            "Epoch 17/100\n",
            "126/126 [==============================] - 33s 261ms/step - loss: 154.2811 - accuracy: 0.7927 - val_loss: 11.8976 - val_accuracy: 0.9632\n",
            "Epoch 18/100\n",
            "126/126 [==============================] - 33s 262ms/step - loss: 132.5761 - accuracy: 0.8097 - val_loss: 12.3353 - val_accuracy: 0.9632\n",
            "Epoch 19/100\n",
            "126/126 [==============================] - 33s 262ms/step - loss: 117.5635 - accuracy: 0.8257 - val_loss: 11.5335 - val_accuracy: 0.9632\n",
            "Epoch 20/100\n",
            "126/126 [==============================] - 33s 261ms/step - loss: 104.6881 - accuracy: 0.8471 - val_loss: 10.1339 - val_accuracy: 0.9632\n",
            "Epoch 21/100\n",
            "126/126 [==============================] - 33s 261ms/step - loss: 80.6651 - accuracy: 0.8656 - val_loss: 9.6022 - val_accuracy: 0.9632\n",
            "Epoch 22/100\n",
            "126/126 [==============================] - 33s 260ms/step - loss: 75.4476 - accuracy: 0.8721 - val_loss: 8.4128 - val_accuracy: 0.9669\n",
            "Epoch 23/100\n",
            "126/126 [==============================] - 33s 261ms/step - loss: 63.9557 - accuracy: 0.8865 - val_loss: 7.6912 - val_accuracy: 0.9669\n",
            "Epoch 24/100\n",
            "126/126 [==============================] - 33s 261ms/step - loss: 55.6022 - accuracy: 0.8970 - val_loss: 7.2320 - val_accuracy: 0.9669\n",
            "Epoch 25/100\n",
            "126/126 [==============================] - 33s 260ms/step - loss: 48.1873 - accuracy: 0.9106 - val_loss: 5.8823 - val_accuracy: 0.9706\n",
            "Epoch 26/100\n",
            "126/126 [==============================] - 33s 260ms/step - loss: 45.8615 - accuracy: 0.9159 - val_loss: 5.9289 - val_accuracy: 0.9706\n",
            "Epoch 27/100\n",
            "126/126 [==============================] - 33s 260ms/step - loss: 36.7406 - accuracy: 0.9227 - val_loss: 5.5260 - val_accuracy: 0.9743\n",
            "Epoch 28/100\n",
            "126/126 [==============================] - 33s 260ms/step - loss: 38.5163 - accuracy: 0.9262 - val_loss: 5.1116 - val_accuracy: 0.9779\n",
            "Epoch 29/100\n",
            "126/126 [==============================] - 33s 260ms/step - loss: 35.4095 - accuracy: 0.9319 - val_loss: 4.8054 - val_accuracy: 0.9779\n",
            "Epoch 30/100\n",
            "126/126 [==============================] - 33s 260ms/step - loss: 30.8263 - accuracy: 0.9343 - val_loss: 4.8163 - val_accuracy: 0.9816\n",
            "Epoch 31/100\n",
            "126/126 [==============================] - 33s 261ms/step - loss: 26.9713 - accuracy: 0.9429 - val_loss: 4.6218 - val_accuracy: 0.9816\n",
            "Epoch 32/100\n",
            "126/126 [==============================] - 33s 260ms/step - loss: 26.6570 - accuracy: 0.9379 - val_loss: 4.2540 - val_accuracy: 0.9853\n",
            "Epoch 33/100\n",
            "126/126 [==============================] - 33s 260ms/step - loss: 26.9158 - accuracy: 0.9448 - val_loss: 3.9800 - val_accuracy: 0.9853\n",
            "Epoch 34/100\n",
            "126/126 [==============================] - 33s 260ms/step - loss: 25.5909 - accuracy: 0.9471 - val_loss: 3.7843 - val_accuracy: 0.9853\n",
            "Epoch 35/100\n",
            "126/126 [==============================] - 33s 260ms/step - loss: 23.1080 - accuracy: 0.9535 - val_loss: 3.6352 - val_accuracy: 0.9816\n",
            "Epoch 36/100\n",
            "126/126 [==============================] - 33s 261ms/step - loss: 18.4814 - accuracy: 0.9592 - val_loss: 3.3872 - val_accuracy: 0.9816\n",
            "Epoch 37/100\n",
            "126/126 [==============================] - 33s 261ms/step - loss: 20.6839 - accuracy: 0.9568 - val_loss: 3.1488 - val_accuracy: 0.9853\n",
            "Epoch 1/100\n",
            "126/126 [==============================] - 35s 262ms/step - loss: 31.0669 - accuracy: 0.9756 - val_loss: 0.0000e+00 - val_accuracy: 1.0000\n",
            "Epoch 2/100\n",
            "126/126 [==============================] - 33s 262ms/step - loss: 1.6901 - accuracy: 0.9944 - val_loss: 0.0000e+00 - val_accuracy: 1.0000\n",
            "Epoch 3/100\n",
            "126/126 [==============================] - 33s 262ms/step - loss: 0.7004 - accuracy: 0.9959 - val_loss: 3.4994e-05 - val_accuracy: 1.0000\n",
            "Epoch 4/100\n",
            "126/126 [==============================] - 33s 261ms/step - loss: 0.3846 - accuracy: 0.9970 - val_loss: 9.2496e-04 - val_accuracy: 1.0000\n",
            "Epoch 5/100\n",
            "126/126 [==============================] - 33s 261ms/step - loss: 0.5229 - accuracy: 0.9970 - val_loss: 0.0689 - val_accuracy: 0.9963\n",
            "Epoch 6/100\n",
            "126/126 [==============================] - 33s 261ms/step - loss: 0.2353 - accuracy: 0.9983 - val_loss: 1.2675 - val_accuracy: 0.9926\n",
            "Epoch 7/100\n",
            "126/126 [==============================] - 33s 261ms/step - loss: 0.3058 - accuracy: 0.9975 - val_loss: 0.0000e+00 - val_accuracy: 1.0000\n",
            "Epoch 8/100\n",
            "126/126 [==============================] - 33s 261ms/step - loss: 0.0769 - accuracy: 0.9990 - val_loss: 0.0000e+00 - val_accuracy: 1.0000\n",
            "Epoch 9/100\n",
            "126/126 [==============================] - 33s 262ms/step - loss: 0.1433 - accuracy: 0.9986 - val_loss: 0.0803 - val_accuracy: 0.9963\n",
            "Epoch 10/100\n",
            "126/126 [==============================] - 33s 262ms/step - loss: 0.0951 - accuracy: 0.9986 - val_loss: 0.0000e+00 - val_accuracy: 1.0000\n",
            "Epoch 11/100\n",
            "126/126 [==============================] - 33s 262ms/step - loss: 0.1553 - accuracy: 0.9984 - val_loss: 0.0000e+00 - val_accuracy: 1.0000\n",
            "Epoch 12/100\n",
            "126/126 [==============================] - 33s 262ms/step - loss: 0.1222 - accuracy: 0.9992 - val_loss: 0.0000e+00 - val_accuracy: 1.0000\n",
            "Epoch 1/100\n",
            "126/126 [==============================] - 35s 262ms/step - loss: 113.3241 - accuracy: 0.8378 - val_loss: 0.2618 - val_accuracy: 0.9228\n",
            "Epoch 2/100\n",
            "126/126 [==============================] - 33s 260ms/step - loss: 1.5387 - accuracy: 0.5252 - val_loss: 0.8717 - val_accuracy: 0.5037\n",
            "Epoch 3/100\n",
            "126/126 [==============================] - 33s 260ms/step - loss: 2.2758 - accuracy: 0.4983 - val_loss: 0.8357 - val_accuracy: 0.5000\n",
            "Epoch 4/100\n",
            "126/126 [==============================] - 33s 260ms/step - loss: 4.7354 - accuracy: 0.4892 - val_loss: 0.5649 - val_accuracy: 0.7022\n",
            "Epoch 5/100\n",
            "126/126 [==============================] - 33s 260ms/step - loss: 1.0323 - accuracy: 0.5063 - val_loss: 0.8289 - val_accuracy: 0.5000\n",
            "Epoch 6/100\n",
            "126/126 [==============================] - 33s 261ms/step - loss: 1.7179 - accuracy: 0.4790 - val_loss: 0.8150 - val_accuracy: 0.4963\n",
            "Epoch 7/100\n",
            "126/126 [==============================] - 33s 261ms/step - loss: 0.9094 - accuracy: 0.5078 - val_loss: 0.6931 - val_accuracy: 0.7169\n",
            "Epoch 8/100\n",
            "126/126 [==============================] - 33s 261ms/step - loss: 2.1695 - accuracy: 0.5106 - val_loss: 0.7773 - val_accuracy: 0.5772\n",
            "Epoch 9/100\n",
            "126/126 [==============================] - 33s 262ms/step - loss: 0.9624 - accuracy: 0.5341 - val_loss: 0.7573 - val_accuracy: 0.5588\n",
            "Epoch 10/100\n",
            "126/126 [==============================] - 33s 261ms/step - loss: 1.4748 - accuracy: 0.7713 - val_loss: 0.6167 - val_accuracy: 0.8493\n",
            "Epoch 11/100\n",
            "126/126 [==============================] - 33s 260ms/step - loss: 0.7769 - accuracy: 0.9241 - val_loss: 0.5980 - val_accuracy: 0.9743\n",
            "Epoch 12/100\n",
            "126/126 [==============================] - 33s 260ms/step - loss: 1.6949 - accuracy: 0.8170 - val_loss: 0.4177 - val_accuracy: 0.8088\n",
            "Epoch 13/100\n",
            "126/126 [==============================] - 33s 260ms/step - loss: 3.1097 - accuracy: 0.9330 - val_loss: 0.6323 - val_accuracy: 0.9265\n",
            "Epoch 14/100\n",
            "126/126 [==============================] - 33s 260ms/step - loss: 0.7584 - accuracy: 0.9046 - val_loss: 0.5275 - val_accuracy: 0.7426\n",
            "Epoch 15/100\n",
            "126/126 [==============================] - 33s 261ms/step - loss: 0.7240 - accuracy: 0.8951 - val_loss: 0.1050 - val_accuracy: 0.9816\n",
            "Epoch 16/100\n",
            "126/126 [==============================] - 33s 261ms/step - loss: 1.5598 - accuracy: 0.9124 - val_loss: 1.0641 - val_accuracy: 0.9853\n",
            "Epoch 17/100\n",
            "126/126 [==============================] - 33s 261ms/step - loss: 1.0357 - accuracy: 0.9660 - val_loss: 0.0134 - val_accuracy: 0.9963\n",
            "Epoch 18/100\n",
            "126/126 [==============================] - 33s 261ms/step - loss: 0.9798 - accuracy: 0.9630 - val_loss: 0.0578 - val_accuracy: 0.9890\n",
            "Epoch 19/100\n",
            "126/126 [==============================] - 33s 261ms/step - loss: 0.7070 - accuracy: 0.9779 - val_loss: 0.0532 - val_accuracy: 0.9853\n",
            "Epoch 20/100\n",
            "126/126 [==============================] - 33s 261ms/step - loss: 0.4447 - accuracy: 0.9813 - val_loss: 0.0113 - val_accuracy: 0.9963\n",
            "Epoch 21/100\n",
            "126/126 [==============================] - 33s 261ms/step - loss: 0.7920 - accuracy: 0.9741 - val_loss: 0.0256 - val_accuracy: 0.9926\n",
            "Epoch 22/100\n",
            "126/126 [==============================] - 33s 261ms/step - loss: 0.3866 - accuracy: 0.9697 - val_loss: 0.1135 - val_accuracy: 0.9522\n",
            "Epoch 1/100\n",
            "126/126 [==============================] - 36s 263ms/step - loss: 193.3817 - accuracy: 0.4843 - val_loss: 4.1528 - val_accuracy: 0.9228\n",
            "Epoch 2/100\n",
            "126/126 [==============================] - 33s 262ms/step - loss: 91.0947 - accuracy: 0.6681 - val_loss: 1.8665 - val_accuracy: 0.9669\n",
            "Epoch 3/100\n",
            "126/126 [==============================] - 33s 262ms/step - loss: 56.8200 - accuracy: 0.7459 - val_loss: 1.4613 - val_accuracy: 0.9669\n",
            "Epoch 4/100\n",
            "126/126 [==============================] - 33s 262ms/step - loss: 36.5977 - accuracy: 0.8070 - val_loss: 1.0120 - val_accuracy: 0.9669\n",
            "Epoch 5/100\n",
            "126/126 [==============================] - 33s 258ms/step - loss: 27.4700 - accuracy: 0.8435 - val_loss: 0.6358 - val_accuracy: 0.9743\n",
            "Epoch 6/100\n",
            "126/126 [==============================] - 33s 260ms/step - loss: 21.0577 - accuracy: 0.8765 - val_loss: 0.4964 - val_accuracy: 0.9816\n",
            "Epoch 7/100\n",
            "126/126 [==============================] - 33s 261ms/step - loss: 16.2670 - accuracy: 0.8990 - val_loss: 0.3897 - val_accuracy: 0.9816\n",
            "Epoch 8/100\n",
            "126/126 [==============================] - 33s 261ms/step - loss: 12.8924 - accuracy: 0.9138 - val_loss: 0.2815 - val_accuracy: 0.9963\n",
            "Epoch 9/100\n",
            "126/126 [==============================] - 33s 261ms/step - loss: 11.7747 - accuracy: 0.9241 - val_loss: 0.2593 - val_accuracy: 0.9963\n",
            "Epoch 10/100\n",
            "126/126 [==============================] - 33s 261ms/step - loss: 8.8634 - accuracy: 0.9381 - val_loss: 0.2440 - val_accuracy: 0.9963\n",
            "Epoch 11/100\n",
            "126/126 [==============================] - 33s 261ms/step - loss: 7.4048 - accuracy: 0.9449 - val_loss: 0.2231 - val_accuracy: 0.9963\n",
            "Epoch 12/100\n",
            "126/126 [==============================] - 33s 262ms/step - loss: 6.3102 - accuracy: 0.9497 - val_loss: 0.1992 - val_accuracy: 0.9963\n",
            "Epoch 13/100\n",
            "126/126 [==============================] - 33s 262ms/step - loss: 7.1847 - accuracy: 0.9492 - val_loss: 0.1809 - val_accuracy: 0.9963\n",
            "Epoch 1/100\n",
            "126/126 [==============================] - 36s 264ms/step - loss: 4.7777 - accuracy: 0.9848 - val_loss: 0.0000e+00 - val_accuracy: 1.0000\n",
            "Epoch 2/100\n",
            "126/126 [==============================] - 33s 263ms/step - loss: 0.0560 - accuracy: 0.9987 - val_loss: 0.0000e+00 - val_accuracy: 1.0000\n",
            "Epoch 3/100\n",
            "126/126 [==============================] - 33s 263ms/step - loss: 0.0301 - accuracy: 0.9990 - val_loss: 0.0000e+00 - val_accuracy: 1.0000\n",
            "Epoch 4/100\n",
            "126/126 [==============================] - 33s 263ms/step - loss: 0.0459 - accuracy: 0.9990 - val_loss: 0.0000e+00 - val_accuracy: 1.0000\n",
            "Epoch 5/100\n",
            "126/126 [==============================] - 33s 262ms/step - loss: 0.0338 - accuracy: 0.9990 - val_loss: 0.0000e+00 - val_accuracy: 1.0000\n",
            "Epoch 6/100\n",
            "126/126 [==============================] - 33s 263ms/step - loss: 3.7787e-05 - accuracy: 1.0000 - val_loss: 0.0000e+00 - val_accuracy: 1.0000\n",
            "Epoch 7/100\n",
            "126/126 [==============================] - 33s 263ms/step - loss: 0.0088 - accuracy: 0.9997 - val_loss: 0.0000e+00 - val_accuracy: 1.0000\n",
            "Epoch 8/100\n",
            "126/126 [==============================] - 33s 263ms/step - loss: 0.0243 - accuracy: 0.9995 - val_loss: 0.0000e+00 - val_accuracy: 1.0000\n",
            "Epoch 9/100\n",
            "126/126 [==============================] - 33s 263ms/step - loss: 0.0159 - accuracy: 0.9997 - val_loss: 0.0000e+00 - val_accuracy: 1.0000\n",
            "Epoch 10/100\n",
            "126/126 [==============================] - 33s 263ms/step - loss: 0.0147 - accuracy: 0.9998 - val_loss: 0.0000e+00 - val_accuracy: 1.0000\n",
            "Epoch 11/100\n",
            "126/126 [==============================] - 33s 263ms/step - loss: 5.4533e-04 - accuracy: 0.9998 - val_loss: 0.0000e+00 - val_accuracy: 1.0000\n",
            "Epoch 1/100\n",
            "126/126 [==============================] - 35s 264ms/step - loss: 6.6678 - accuracy: 0.9248 - val_loss: 0.0548 - val_accuracy: 0.9816\n",
            "Epoch 2/100\n",
            "126/126 [==============================] - 33s 262ms/step - loss: 1.9225 - accuracy: 0.9598 - val_loss: 0.3597 - val_accuracy: 0.8346\n",
            "Epoch 3/100\n",
            "126/126 [==============================] - 33s 262ms/step - loss: 1.8958 - accuracy: 0.8568 - val_loss: 0.5207 - val_accuracy: 0.7316\n",
            "Epoch 4/100\n",
            "126/126 [==============================] - 33s 263ms/step - loss: 3.0653 - accuracy: 0.8871 - val_loss: 0.8316 - val_accuracy: 0.7574\n",
            "Epoch 5/100\n",
            "126/126 [==============================] - 33s 263ms/step - loss: 1.6699 - accuracy: 0.6948 - val_loss: 0.6440 - val_accuracy: 0.6324\n",
            "Epoch 6/100\n",
            "126/126 [==============================] - 33s 262ms/step - loss: 1.6099 - accuracy: 0.7140 - val_loss: 0.2392 - val_accuracy: 0.9485\n",
            "Epoch 7/100\n",
            "126/126 [==============================] - 33s 262ms/step - loss: 0.9255 - accuracy: 0.8435 - val_loss: 0.5891 - val_accuracy: 0.6691\n",
            "Epoch 8/100\n",
            "126/126 [==============================] - 33s 262ms/step - loss: 1.2210 - accuracy: 0.7217 - val_loss: 0.6775 - val_accuracy: 0.6985\n",
            "Epoch 9/100\n",
            "126/126 [==============================] - 33s 262ms/step - loss: 2.2908 - accuracy: 0.7063 - val_loss: 0.5723 - val_accuracy: 0.6801\n",
            "Epoch 10/100\n",
            "126/126 [==============================] - 33s 262ms/step - loss: 1.8869 - accuracy: 0.6475 - val_loss: 0.6830 - val_accuracy: 0.6213\n",
            "Epoch 11/100\n",
            "126/126 [==============================] - 33s 262ms/step - loss: 1.7597 - accuracy: 0.6463 - val_loss: 0.4323 - val_accuracy: 0.7353\n",
            "Epoch 1/100\n",
            "126/126 [==============================] - 36s 264ms/step - loss: 140.6899 - accuracy: 0.3590 - val_loss: 20.6838 - val_accuracy: 0.6213\n",
            "Epoch 2/100\n",
            "126/126 [==============================] - 33s 263ms/step - loss: 83.7311 - accuracy: 0.4767 - val_loss: 5.5428 - val_accuracy: 0.6838\n",
            "Epoch 3/100\n",
            "126/126 [==============================] - 33s 263ms/step - loss: 50.8490 - accuracy: 0.5283 - val_loss: 1.8211 - val_accuracy: 0.7206\n",
            "Epoch 4/100\n",
            "126/126 [==============================] - 33s 263ms/step - loss: 34.2115 - accuracy: 0.5729 - val_loss: 0.9753 - val_accuracy: 0.7243\n",
            "Epoch 5/100\n",
            "126/126 [==============================] - 33s 263ms/step - loss: 24.0049 - accuracy: 0.5922 - val_loss: 0.7808 - val_accuracy: 0.7279\n",
            "Epoch 6/100\n",
            "126/126 [==============================] - 33s 263ms/step - loss: 18.1890 - accuracy: 0.6176 - val_loss: 0.7174 - val_accuracy: 0.7316\n",
            "Epoch 7/100\n",
            "126/126 [==============================] - 33s 263ms/step - loss: 14.4417 - accuracy: 0.6222 - val_loss: 0.7172 - val_accuracy: 0.7316\n",
            "Epoch 8/100\n",
            "126/126 [==============================] - 33s 263ms/step - loss: 11.7605 - accuracy: 0.6286 - val_loss: 0.7169 - val_accuracy: 0.7316\n",
            "Epoch 9/100\n",
            "126/126 [==============================] - 33s 263ms/step - loss: 11.1423 - accuracy: 0.6416 - val_loss: 0.7166 - val_accuracy: 0.7316\n",
            "Epoch 10/100\n",
            "126/126 [==============================] - 33s 263ms/step - loss: 8.6032 - accuracy: 0.6486 - val_loss: 0.7164 - val_accuracy: 0.7316\n",
            "Epoch 11/100\n",
            "126/126 [==============================] - 33s 263ms/step - loss: 7.5080 - accuracy: 0.6554 - val_loss: 0.7161 - val_accuracy: 0.7316\n",
            "Epoch 1/100\n",
            "126/126 [==============================] - 35s 261ms/step - loss: 2.5557 - accuracy: 0.3794 - val_loss: 1.0043 - val_accuracy: 0.4963\n",
            "Epoch 2/100\n",
            "126/126 [==============================] - 33s 261ms/step - loss: 1.0544 - accuracy: 0.4640 - val_loss: 0.9207 - val_accuracy: 0.5110\n",
            "Epoch 3/100\n",
            "126/126 [==============================] - 33s 261ms/step - loss: 0.9869 - accuracy: 0.4732 - val_loss: 0.8964 - val_accuracy: 0.5074\n",
            "Epoch 4/100\n",
            "126/126 [==============================] - 33s 261ms/step - loss: 0.9559 - accuracy: 0.4846 - val_loss: 0.8671 - val_accuracy: 0.5110\n",
            "Epoch 5/100\n",
            "126/126 [==============================] - 33s 261ms/step - loss: 0.9774 - accuracy: 0.4722 - val_loss: 0.8643 - val_accuracy: 0.5074\n",
            "Epoch 6/100\n",
            "126/126 [==============================] - 33s 260ms/step - loss: 0.8960 - accuracy: 0.4941 - val_loss: 0.8483 - val_accuracy: 0.5110\n",
            "Epoch 7/100\n",
            "126/126 [==============================] - 33s 260ms/step - loss: 0.8825 - accuracy: 0.4983 - val_loss: 0.8402 - val_accuracy: 0.5110\n",
            "Epoch 8/100\n",
            "126/126 [==============================] - 33s 260ms/step - loss: 0.8826 - accuracy: 0.4976 - val_loss: 0.8399 - val_accuracy: 0.5074\n",
            "Epoch 9/100\n",
            "126/126 [==============================] - 33s 261ms/step - loss: 0.8748 - accuracy: 0.4995 - val_loss: 0.8314 - val_accuracy: 0.5110\n",
            "Epoch 10/100\n",
            "126/126 [==============================] - 33s 260ms/step - loss: 0.8879 - accuracy: 0.4851 - val_loss: 0.8293 - val_accuracy: 0.5110\n",
            "Epoch 11/100\n",
            "126/126 [==============================] - 33s 261ms/step - loss: 0.8704 - accuracy: 0.4890 - val_loss: 0.8289 - val_accuracy: 0.5110\n",
            "Epoch 1/100\n",
            "126/126 [==============================] - 36s 261ms/step - loss: 2.3583 - accuracy: 0.3105 - val_loss: 1.0160 - val_accuracy: 0.4926\n",
            "Epoch 2/100\n",
            "126/126 [==============================] - 33s 260ms/step - loss: 1.2777 - accuracy: 0.3824 - val_loss: 0.9010 - val_accuracy: 0.5000\n",
            "Epoch 3/100\n",
            "126/126 [==============================] - 33s 260ms/step - loss: 1.1448 - accuracy: 0.4497 - val_loss: 0.8727 - val_accuracy: 0.4963\n",
            "Epoch 4/100\n",
            "126/126 [==============================] - 33s 261ms/step - loss: 1.3237 - accuracy: 0.4821 - val_loss: 0.8389 - val_accuracy: 0.5000\n",
            "Epoch 5/100\n",
            "126/126 [==============================] - 33s 260ms/step - loss: 1.0475 - accuracy: 0.4805 - val_loss: 0.8348 - val_accuracy: 0.5000\n",
            "Epoch 6/100\n",
            "126/126 [==============================] - 33s 260ms/step - loss: 1.0522 - accuracy: 0.4890 - val_loss: 0.8525 - val_accuracy: 0.4963\n",
            "Epoch 7/100\n",
            "126/126 [==============================] - 33s 260ms/step - loss: 0.9561 - accuracy: 0.4800 - val_loss: 0.8551 - val_accuracy: 0.4963\n",
            "Epoch 8/100\n",
            "126/126 [==============================] - 33s 260ms/step - loss: 1.2744 - accuracy: 0.4797 - val_loss: 0.8713 - val_accuracy: 0.4926\n",
            "Epoch 9/100\n",
            "126/126 [==============================] - 33s 260ms/step - loss: 0.9970 - accuracy: 0.4775 - val_loss: 0.8675 - val_accuracy: 0.4926\n",
            "Epoch 10/100\n",
            "126/126 [==============================] - 33s 260ms/step - loss: 2.2171 - accuracy: 0.4900 - val_loss: 0.8380 - val_accuracy: 0.5000\n",
            "Epoch 11/100\n",
            "126/126 [==============================] - 33s 261ms/step - loss: 1.1073 - accuracy: 0.4854 - val_loss: 0.9116 - val_accuracy: 0.4816\n",
            "Epoch 12/100\n",
            "126/126 [==============================] - 33s 260ms/step - loss: 1.4401 - accuracy: 0.4703 - val_loss: 0.8500 - val_accuracy: 0.4963\n",
            "Epoch 13/100\n",
            "126/126 [==============================] - 33s 260ms/step - loss: 3.6638 - accuracy: 0.4762 - val_loss: 0.8353 - val_accuracy: 0.5000\n",
            "Epoch 14/100\n",
            "126/126 [==============================] - 33s 260ms/step - loss: 0.8888 - accuracy: 0.4911 - val_loss: 0.8332 - val_accuracy: 0.5000\n",
            "Epoch 15/100\n",
            "126/126 [==============================] - 33s 260ms/step - loss: 1.6292 - accuracy: 0.4837 - val_loss: 0.9791 - val_accuracy: 0.5000\n",
            "Epoch 1/100\n",
            "126/126 [==============================] - 35s 262ms/step - loss: 296.5722 - accuracy: 0.2463 - val_loss: 94.2419 - val_accuracy: 0.2574\n",
            "Epoch 2/100\n",
            "126/126 [==============================] - 33s 261ms/step - loss: 223.9130 - accuracy: 0.2690 - val_loss: 39.6293 - val_accuracy: 0.3382\n",
            "Epoch 3/100\n",
            "126/126 [==============================] - 33s 262ms/step - loss: 165.7133 - accuracy: 0.2868 - val_loss: 15.1894 - val_accuracy: 0.3897\n",
            "Epoch 4/100\n",
            "126/126 [==============================] - 33s 262ms/step - loss: 127.9790 - accuracy: 0.3079 - val_loss: 4.9215 - val_accuracy: 0.4485\n",
            "Epoch 5/100\n",
            "126/126 [==============================] - 33s 262ms/step - loss: 101.1928 - accuracy: 0.3214 - val_loss: 2.4088 - val_accuracy: 0.4779\n",
            "Epoch 6/100\n",
            "126/126 [==============================] - 33s 261ms/step - loss: 77.7284 - accuracy: 0.3438 - val_loss: 1.7162 - val_accuracy: 0.4890\n",
            "Epoch 7/100\n",
            "126/126 [==============================] - 33s 261ms/step - loss: 61.0116 - accuracy: 0.3560 - val_loss: 1.3278 - val_accuracy: 0.4926\n",
            "Epoch 8/100\n",
            "126/126 [==============================] - 33s 261ms/step - loss: 49.3061 - accuracy: 0.3754 - val_loss: 1.2466 - val_accuracy: 0.4926\n",
            "Epoch 9/100\n",
            "126/126 [==============================] - 33s 261ms/step - loss: 39.7280 - accuracy: 0.3863 - val_loss: 1.1762 - val_accuracy: 0.4926\n",
            "Epoch 10/100\n",
            "126/126 [==============================] - 33s 261ms/step - loss: 32.5273 - accuracy: 0.3975 - val_loss: 1.1279 - val_accuracy: 0.4963\n",
            "Epoch 11/100\n",
            "126/126 [==============================] - 33s 261ms/step - loss: 27.4951 - accuracy: 0.4097 - val_loss: 1.1027 - val_accuracy: 0.4963\n",
            "Epoch 12/100\n",
            "126/126 [==============================] - 33s 261ms/step - loss: 23.7396 - accuracy: 0.4208 - val_loss: 1.0818 - val_accuracy: 0.4963\n",
            "Epoch 13/100\n",
            "126/126 [==============================] - 33s 261ms/step - loss: 20.3183 - accuracy: 0.4263 - val_loss: 1.0650 - val_accuracy: 0.4963\n",
            "Epoch 14/100\n",
            "126/126 [==============================] - 33s 261ms/step - loss: 17.2263 - accuracy: 0.4346 - val_loss: 1.0578 - val_accuracy: 0.5000\n",
            "Epoch 15/100\n",
            "126/126 [==============================] - 33s 261ms/step - loss: 15.1965 - accuracy: 0.4427 - val_loss: 1.0581 - val_accuracy: 0.5000\n",
            "Epoch 16/100\n",
            "126/126 [==============================] - 33s 261ms/step - loss: 13.1535 - accuracy: 0.4456 - val_loss: 1.0584 - val_accuracy: 0.5000\n",
            "Epoch 17/100\n",
            "126/126 [==============================] - 33s 261ms/step - loss: 10.0892 - accuracy: 0.4500 - val_loss: 1.0591 - val_accuracy: 0.5000\n",
            "Epoch 18/100\n",
            "126/126 [==============================] - 33s 262ms/step - loss: 8.7848 - accuracy: 0.4565 - val_loss: 1.0593 - val_accuracy: 0.5000\n",
            "Epoch 19/100\n",
            "126/126 [==============================] - 33s 261ms/step - loss: 9.1754 - accuracy: 0.4549 - val_loss: 1.0602 - val_accuracy: 0.5000\n",
            "Epoch 1/100\n",
            "126/126 [==============================] - 35s 262ms/step - loss: 2.0928 - accuracy: 0.4773 - val_loss: 0.9388 - val_accuracy: 0.5000\n",
            "Epoch 2/100\n",
            "126/126 [==============================] - 33s 262ms/step - loss: 0.9237 - accuracy: 0.4946 - val_loss: 0.8653 - val_accuracy: 0.5000\n",
            "Epoch 3/100\n",
            "126/126 [==============================] - 33s 262ms/step - loss: 0.8794 - accuracy: 0.4835 - val_loss: 0.8464 - val_accuracy: 0.5000\n",
            "Epoch 4/100\n",
            "126/126 [==============================] - 33s 262ms/step - loss: 0.8643 - accuracy: 0.4884 - val_loss: 0.8391 - val_accuracy: 0.5000\n",
            "Epoch 5/100\n",
            "126/126 [==============================] - 33s 262ms/step - loss: 0.8489 - accuracy: 0.5054 - val_loss: 0.8347 - val_accuracy: 0.5000\n",
            "Epoch 6/100\n",
            "126/126 [==============================] - 33s 261ms/step - loss: 0.8536 - accuracy: 0.4981 - val_loss: 0.8330 - val_accuracy: 0.5000\n",
            "Epoch 7/100\n",
            "126/126 [==============================] - 33s 261ms/step - loss: 0.8509 - accuracy: 0.5014 - val_loss: 0.8319 - val_accuracy: 0.5000\n",
            "Epoch 8/100\n",
            "126/126 [==============================] - 33s 262ms/step - loss: 0.8494 - accuracy: 0.4997 - val_loss: 0.8306 - val_accuracy: 0.5000\n",
            "Epoch 9/100\n",
            "126/126 [==============================] - 33s 262ms/step - loss: 0.8552 - accuracy: 0.4983 - val_loss: 0.8305 - val_accuracy: 0.5000\n",
            "Epoch 10/100\n",
            "126/126 [==============================] - 33s 262ms/step - loss: 0.8774 - accuracy: 0.4903 - val_loss: 0.8300 - val_accuracy: 0.5000\n",
            "Epoch 11/100\n",
            "126/126 [==============================] - 33s 262ms/step - loss: 0.8509 - accuracy: 0.4990 - val_loss: 0.8296 - val_accuracy: 0.5000\n",
            "Epoch 1/100\n",
            "126/126 [==============================] - 35s 261ms/step - loss: 5.4180 - accuracy: 0.2944 - val_loss: 1.3933 - val_accuracy: 0.2500\n",
            "Epoch 2/100\n",
            "126/126 [==============================] - 33s 260ms/step - loss: 1.3921 - accuracy: 0.2422 - val_loss: 1.3865 - val_accuracy: 0.2500\n",
            "Epoch 3/100\n",
            "126/126 [==============================] - 33s 261ms/step - loss: 1.3866 - accuracy: 0.2435 - val_loss: 1.3864 - val_accuracy: 0.2500\n",
            "Epoch 4/100\n",
            "126/126 [==============================] - 33s 261ms/step - loss: 1.3867 - accuracy: 0.2444 - val_loss: 1.3863 - val_accuracy: 0.2500\n",
            "Epoch 5/100\n",
            "126/126 [==============================] - 33s 261ms/step - loss: 1.3864 - accuracy: 0.2524 - val_loss: 1.3864 - val_accuracy: 0.2500\n",
            "Epoch 6/100\n",
            "126/126 [==============================] - 33s 260ms/step - loss: 1.3867 - accuracy: 0.2427 - val_loss: 1.3863 - val_accuracy: 0.2500\n",
            "Epoch 7/100\n",
            "126/126 [==============================] - 33s 260ms/step - loss: 1.3867 - accuracy: 0.2378 - val_loss: 1.3863 - val_accuracy: 0.2500\n",
            "Epoch 8/100\n",
            "126/126 [==============================] - 33s 260ms/step - loss: 1.3865 - accuracy: 0.2492 - val_loss: 1.3863 - val_accuracy: 0.2500\n",
            "Epoch 9/100\n",
            "126/126 [==============================] - 33s 262ms/step - loss: 1.3865 - accuracy: 0.2402 - val_loss: 1.3863 - val_accuracy: 0.2500\n",
            "Epoch 10/100\n",
            "126/126 [==============================] - 33s 261ms/step - loss: 1.3865 - accuracy: 0.2465 - val_loss: 1.3863 - val_accuracy: 0.2500\n",
            "Epoch 11/100\n",
            "126/126 [==============================] - 33s 259ms/step - loss: 1.3865 - accuracy: 0.2484 - val_loss: 1.3863 - val_accuracy: 0.2500\n",
            "Epoch 1/100\n",
            "126/126 [==============================] - 36s 264ms/step - loss: 1.3863 - accuracy: 0.2403 - val_loss: 1.3863 - val_accuracy: 0.2500\n",
            "Epoch 2/100\n",
            "126/126 [==============================] - 33s 262ms/step - loss: 1.3863 - accuracy: 0.2398 - val_loss: 1.3863 - val_accuracy: 0.2500\n",
            "Epoch 3/100\n",
            "126/126 [==============================] - 33s 261ms/step - loss: 1.3863 - accuracy: 0.2452 - val_loss: 1.3863 - val_accuracy: 0.2500\n",
            "Epoch 4/100\n",
            "126/126 [==============================] - 33s 262ms/step - loss: 1.3863 - accuracy: 0.2451 - val_loss: 1.3863 - val_accuracy: 0.2500\n",
            "Epoch 5/100\n",
            "126/126 [==============================] - 33s 262ms/step - loss: 1.3863 - accuracy: 0.2449 - val_loss: 1.3863 - val_accuracy: 0.2500\n",
            "Epoch 6/100\n",
            "126/126 [==============================] - 33s 261ms/step - loss: 1.3863 - accuracy: 0.2424 - val_loss: 1.3863 - val_accuracy: 0.2500\n",
            "Epoch 7/100\n",
            "126/126 [==============================] - 33s 261ms/step - loss: 1.3863 - accuracy: 0.2427 - val_loss: 1.3863 - val_accuracy: 0.2500\n",
            "Epoch 8/100\n",
            "126/126 [==============================] - 33s 262ms/step - loss: 1.3863 - accuracy: 0.2483 - val_loss: 1.3863 - val_accuracy: 0.2500\n",
            "Epoch 9/100\n",
            "126/126 [==============================] - 33s 262ms/step - loss: 1.3863 - accuracy: 0.2421 - val_loss: 1.3863 - val_accuracy: 0.2500\n",
            "Epoch 10/100\n",
            "126/126 [==============================] - 33s 262ms/step - loss: 1.3863 - accuracy: 0.2421 - val_loss: 1.3863 - val_accuracy: 0.2500\n",
            "Epoch 11/100\n",
            "126/126 [==============================] - 33s 262ms/step - loss: 1.3863 - accuracy: 0.2481 - val_loss: 1.3863 - val_accuracy: 0.2500\n",
            "Epoch 1/100\n",
            "126/126 [==============================] - 36s 264ms/step - loss: 1.3864 - accuracy: 0.2441 - val_loss: 1.3863 - val_accuracy: 0.2500\n",
            "Epoch 2/100\n",
            "126/126 [==============================] - 33s 264ms/step - loss: 1.3863 - accuracy: 0.2446 - val_loss: 1.3863 - val_accuracy: 0.2500\n",
            "Epoch 3/100\n",
            "126/126 [==============================] - 33s 263ms/step - loss: 1.3863 - accuracy: 0.2500 - val_loss: 1.3863 - val_accuracy: 0.2500\n",
            "Epoch 4/100\n",
            "126/126 [==============================] - 33s 263ms/step - loss: 1.3863 - accuracy: 0.2463 - val_loss: 1.3863 - val_accuracy: 0.2500\n",
            "Epoch 5/100\n",
            "126/126 [==============================] - 33s 263ms/step - loss: 1.3863 - accuracy: 0.2430 - val_loss: 1.3863 - val_accuracy: 0.2500\n",
            "Epoch 6/100\n",
            "126/126 [==============================] - 916s 7s/step - loss: 1.3863 - accuracy: 0.2419 - val_loss: 1.3863 - val_accuracy: 0.2500\n",
            "Epoch 7/100\n",
            "126/126 [==============================] - 33s 263ms/step - loss: 1.3863 - accuracy: 0.2430 - val_loss: 1.3863 - val_accuracy: 0.2500\n",
            "Epoch 8/100\n",
            "126/126 [==============================] - 33s 262ms/step - loss: 1.3863 - accuracy: 0.2430 - val_loss: 1.3863 - val_accuracy: 0.2500\n",
            "Epoch 9/100\n",
            "126/126 [==============================] - 34s 264ms/step - loss: 1.3863 - accuracy: 0.2419 - val_loss: 1.3863 - val_accuracy: 0.2500\n",
            "Epoch 10/100\n",
            "126/126 [==============================] - 33s 263ms/step - loss: 1.3863 - accuracy: 0.2397 - val_loss: 1.3863 - val_accuracy: 0.2500\n",
            "Epoch 11/100\n",
            "126/126 [==============================] - 33s 263ms/step - loss: 1.3863 - accuracy: 0.2411 - val_loss: 1.3863 - val_accuracy: 0.2500\n",
            "Epoch 1/100\n",
            "126/126 [==============================] - 35s 264ms/step - loss: 1.3864 - accuracy: 0.2465 - val_loss: 1.3863 - val_accuracy: 0.2500\n",
            "Epoch 2/100\n",
            "126/126 [==============================] - 33s 262ms/step - loss: 1.3864 - accuracy: 0.2397 - val_loss: 1.3863 - val_accuracy: 0.2500\n",
            "Epoch 3/100\n",
            "126/126 [==============================] - 33s 262ms/step - loss: 1.3864 - accuracy: 0.2422 - val_loss: 1.3863 - val_accuracy: 0.2500\n",
            "Epoch 4/100\n",
            "126/126 [==============================] - 33s 262ms/step - loss: 1.3864 - accuracy: 0.2462 - val_loss: 1.3863 - val_accuracy: 0.2500\n",
            "Epoch 5/100\n",
            "126/126 [==============================] - 33s 261ms/step - loss: 1.3864 - accuracy: 0.2424 - val_loss: 1.3863 - val_accuracy: 0.2500\n",
            "Epoch 6/100\n",
            "126/126 [==============================] - 33s 262ms/step - loss: 1.3864 - accuracy: 0.2424 - val_loss: 1.3863 - val_accuracy: 0.2500\n",
            "Epoch 7/100\n",
            "126/126 [==============================] - 33s 262ms/step - loss: 1.3864 - accuracy: 0.2398 - val_loss: 1.3863 - val_accuracy: 0.2500\n",
            "Epoch 8/100\n",
            "126/126 [==============================] - 33s 262ms/step - loss: 1.3864 - accuracy: 0.2411 - val_loss: 1.3863 - val_accuracy: 0.2500\n",
            "Epoch 9/100\n",
            "126/126 [==============================] - 33s 262ms/step - loss: 1.3864 - accuracy: 0.2346 - val_loss: 1.3863 - val_accuracy: 0.2500\n",
            "Epoch 10/100\n",
            "126/126 [==============================] - 33s 262ms/step - loss: 1.3864 - accuracy: 0.2314 - val_loss: 1.3863 - val_accuracy: 0.2500\n",
            "Epoch 11/100\n",
            "126/126 [==============================] - 33s 262ms/step - loss: 1.3864 - accuracy: 0.2341 - val_loss: 1.3863 - val_accuracy: 0.2500\n",
            "Epoch 1/100\n",
            "126/126 [==============================] - 36s 264ms/step - loss: 1.3863 - accuracy: 0.2417 - val_loss: 1.3863 - val_accuracy: 0.2500\n",
            "Epoch 2/100\n",
            "126/126 [==============================] - 33s 263ms/step - loss: 1.3863 - accuracy: 0.2408 - val_loss: 1.3863 - val_accuracy: 0.2500\n",
            "Epoch 3/100\n",
            "126/126 [==============================] - 33s 263ms/step - loss: 1.3863 - accuracy: 0.2375 - val_loss: 1.3863 - val_accuracy: 0.2500\n",
            "Epoch 4/100\n",
            "126/126 [==============================] - 33s 263ms/step - loss: 1.3863 - accuracy: 0.2410 - val_loss: 1.3863 - val_accuracy: 0.2500\n",
            "Epoch 5/100\n",
            "126/126 [==============================] - 33s 263ms/step - loss: 1.3863 - accuracy: 0.2433 - val_loss: 1.3863 - val_accuracy: 0.2500\n",
            "Epoch 6/100\n",
            "126/126 [==============================] - 33s 263ms/step - loss: 1.3863 - accuracy: 0.2408 - val_loss: 1.3863 - val_accuracy: 0.2500\n",
            "Epoch 7/100\n",
            "126/126 [==============================] - 33s 263ms/step - loss: 1.3863 - accuracy: 0.2406 - val_loss: 1.3863 - val_accuracy: 0.2500\n",
            "Epoch 8/100\n",
            "126/126 [==============================] - 33s 263ms/step - loss: 1.3863 - accuracy: 0.2367 - val_loss: 1.3863 - val_accuracy: 0.2500\n",
            "Epoch 9/100\n",
            "126/126 [==============================] - 33s 263ms/step - loss: 1.3863 - accuracy: 0.2406 - val_loss: 1.3863 - val_accuracy: 0.2500\n",
            "Epoch 10/100\n",
            "126/126 [==============================] - 33s 263ms/step - loss: 1.3863 - accuracy: 0.2384 - val_loss: 1.3863 - val_accuracy: 0.2500\n",
            "Epoch 11/100\n",
            "126/126 [==============================] - 33s 263ms/step - loss: 1.3863 - accuracy: 0.2402 - val_loss: 1.3863 - val_accuracy: 0.2500\n",
            "Epoch 1/100\n",
            "126/126 [==============================] - 35s 262ms/step - loss: 1.3863 - accuracy: 0.2440 - val_loss: 1.3863 - val_accuracy: 0.2500\n",
            "Epoch 2/100\n",
            "126/126 [==============================] - 33s 261ms/step - loss: 1.3863 - accuracy: 0.2438 - val_loss: 1.3863 - val_accuracy: 0.2500\n",
            "Epoch 3/100\n",
            "126/126 [==============================] - 33s 261ms/step - loss: 1.3863 - accuracy: 0.2462 - val_loss: 1.3863 - val_accuracy: 0.2500\n",
            "Epoch 4/100\n",
            "126/126 [==============================] - 33s 260ms/step - loss: 1.3863 - accuracy: 0.2443 - val_loss: 1.3863 - val_accuracy: 0.2500\n",
            "Epoch 5/100\n",
            "126/126 [==============================] - 33s 261ms/step - loss: 1.3863 - accuracy: 0.2451 - val_loss: 1.3863 - val_accuracy: 0.2500\n",
            "Epoch 6/100\n",
            "126/126 [==============================] - 33s 260ms/step - loss: 1.3863 - accuracy: 0.2465 - val_loss: 1.3863 - val_accuracy: 0.2500\n",
            "Epoch 7/100\n",
            "126/126 [==============================] - 33s 260ms/step - loss: 1.3863 - accuracy: 0.2446 - val_loss: 1.3863 - val_accuracy: 0.2500\n",
            "Epoch 8/100\n",
            "126/126 [==============================] - 33s 260ms/step - loss: 1.3863 - accuracy: 0.2460 - val_loss: 1.3863 - val_accuracy: 0.2500\n",
            "Epoch 9/100\n",
            "126/126 [==============================] - 33s 261ms/step - loss: 1.3863 - accuracy: 0.2441 - val_loss: 1.3863 - val_accuracy: 0.2500\n",
            "Epoch 10/100\n",
            "126/126 [==============================] - 33s 261ms/step - loss: 1.3863 - accuracy: 0.2400 - val_loss: 1.3863 - val_accuracy: 0.2500\n",
            "Epoch 11/100\n",
            "126/126 [==============================] - 33s 261ms/step - loss: 1.3863 - accuracy: 0.2348 - val_loss: 1.3863 - val_accuracy: 0.2500\n",
            "Epoch 1/100\n",
            "126/126 [==============================] - 35s 261ms/step - loss: 1.3864 - accuracy: 0.2427 - val_loss: 1.3863 - val_accuracy: 0.2500\n",
            "Epoch 2/100\n",
            "126/126 [==============================] - 33s 261ms/step - loss: 1.3864 - accuracy: 0.2432 - val_loss: 1.3863 - val_accuracy: 0.2500\n",
            "Epoch 3/100\n",
            "126/126 [==============================] - 33s 260ms/step - loss: 1.3864 - accuracy: 0.2406 - val_loss: 1.3863 - val_accuracy: 0.2500\n",
            "Epoch 4/100\n",
            "126/126 [==============================] - 33s 260ms/step - loss: 1.3864 - accuracy: 0.2448 - val_loss: 1.3863 - val_accuracy: 0.2500\n",
            "Epoch 5/100\n",
            "126/126 [==============================] - 33s 260ms/step - loss: 1.3864 - accuracy: 0.2406 - val_loss: 1.3863 - val_accuracy: 0.2500\n",
            "Epoch 6/100\n",
            "126/126 [==============================] - 33s 260ms/step - loss: 1.3864 - accuracy: 0.2362 - val_loss: 1.3863 - val_accuracy: 0.2500\n",
            "Epoch 7/100\n",
            "126/126 [==============================] - 33s 260ms/step - loss: 1.3864 - accuracy: 0.2419 - val_loss: 1.3863 - val_accuracy: 0.2500\n",
            "Epoch 8/100\n",
            "126/126 [==============================] - 33s 260ms/step - loss: 1.3864 - accuracy: 0.2397 - val_loss: 1.3863 - val_accuracy: 0.2500\n",
            "Epoch 9/100\n",
            "126/126 [==============================] - 33s 261ms/step - loss: 1.3864 - accuracy: 0.2292 - val_loss: 1.3863 - val_accuracy: 0.2500\n",
            "Epoch 10/100\n",
            "126/126 [==============================] - 33s 260ms/step - loss: 1.3864 - accuracy: 0.2373 - val_loss: 1.3863 - val_accuracy: 0.2500\n",
            "Epoch 11/100\n",
            "126/126 [==============================] - 33s 259ms/step - loss: 1.3864 - accuracy: 0.2392 - val_loss: 1.3863 - val_accuracy: 0.2500\n",
            "Epoch 1/100\n",
            "126/126 [==============================] - 36s 269ms/step - loss: 1.3863 - accuracy: 0.2408 - val_loss: 1.3863 - val_accuracy: 0.2500\n",
            "Epoch 2/100\n",
            "126/126 [==============================] - 33s 261ms/step - loss: 1.3863 - accuracy: 0.2370 - val_loss: 1.3863 - val_accuracy: 0.2500\n",
            "Epoch 3/100\n",
            "126/126 [==============================] - 33s 261ms/step - loss: 1.3863 - accuracy: 0.2411 - val_loss: 1.3863 - val_accuracy: 0.2500\n",
            "Epoch 4/100\n",
            "126/126 [==============================] - 33s 261ms/step - loss: 1.3863 - accuracy: 0.2437 - val_loss: 1.3863 - val_accuracy: 0.2500\n",
            "Epoch 5/100\n",
            "126/126 [==============================] - 33s 261ms/step - loss: 1.3863 - accuracy: 0.2452 - val_loss: 1.3863 - val_accuracy: 0.2500\n",
            "Epoch 6/100\n",
            "126/126 [==============================] - 33s 261ms/step - loss: 1.3863 - accuracy: 0.2419 - val_loss: 1.3863 - val_accuracy: 0.2500\n",
            "Epoch 7/100\n",
            "126/126 [==============================] - 33s 261ms/step - loss: 1.3863 - accuracy: 0.2392 - val_loss: 1.3863 - val_accuracy: 0.2500\n",
            "Epoch 8/100\n",
            "126/126 [==============================] - 33s 261ms/step - loss: 1.3863 - accuracy: 0.2449 - val_loss: 1.3863 - val_accuracy: 0.2500\n",
            "Epoch 9/100\n",
            "126/126 [==============================] - 33s 262ms/step - loss: 1.3863 - accuracy: 0.2424 - val_loss: 1.3863 - val_accuracy: 0.2500\n",
            "Epoch 10/100\n",
            "126/126 [==============================] - 33s 261ms/step - loss: 1.3863 - accuracy: 0.2467 - val_loss: 1.3863 - val_accuracy: 0.2500\n",
            "Epoch 11/100\n",
            "126/126 [==============================] - 33s 261ms/step - loss: 1.3863 - accuracy: 0.2381 - val_loss: 1.3863 - val_accuracy: 0.2500\n",
            "Epoch 1/100\n",
            "126/126 [==============================] - 36s 263ms/step - loss: 1.3863 - accuracy: 0.2438 - val_loss: 1.3863 - val_accuracy: 0.2500\n",
            "Epoch 2/100\n",
            "126/126 [==============================] - 33s 262ms/step - loss: 1.3863 - accuracy: 0.2435 - val_loss: 1.3863 - val_accuracy: 0.2500\n",
            "Epoch 3/100\n",
            "126/126 [==============================] - 33s 262ms/step - loss: 1.3863 - accuracy: 0.2425 - val_loss: 1.3863 - val_accuracy: 0.2500\n",
            "Epoch 4/100\n",
            "126/126 [==============================] - 33s 262ms/step - loss: 1.3863 - accuracy: 0.2462 - val_loss: 1.3863 - val_accuracy: 0.2500\n",
            "Epoch 5/100\n",
            "126/126 [==============================] - 33s 261ms/step - loss: 1.3863 - accuracy: 0.2441 - val_loss: 1.3863 - val_accuracy: 0.2500\n",
            "Epoch 6/100\n",
            "126/126 [==============================] - 33s 263ms/step - loss: 1.3863 - accuracy: 0.2500 - val_loss: 1.3863 - val_accuracy: 0.2500\n",
            "Epoch 7/100\n",
            "126/126 [==============================] - 33s 262ms/step - loss: 1.3863 - accuracy: 0.2465 - val_loss: 1.3863 - val_accuracy: 0.2500\n",
            "Epoch 8/100\n",
            "126/126 [==============================] - 33s 262ms/step - loss: 1.3863 - accuracy: 0.2430 - val_loss: 1.3863 - val_accuracy: 0.2500\n",
            "Epoch 9/100\n",
            "126/126 [==============================] - 33s 262ms/step - loss: 1.3863 - accuracy: 0.2422 - val_loss: 1.3863 - val_accuracy: 0.2500\n",
            "Epoch 10/100\n",
            "126/126 [==============================] - 33s 262ms/step - loss: 1.3863 - accuracy: 0.2416 - val_loss: 1.3863 - val_accuracy: 0.2500\n",
            "Epoch 11/100\n",
            "126/126 [==============================] - 33s 262ms/step - loss: 1.3863 - accuracy: 0.2389 - val_loss: 1.3863 - val_accuracy: 0.2500\n",
            "Epoch 1/100\n",
            "126/126 [==============================] - 35s 263ms/step - loss: 1.3864 - accuracy: 0.2446 - val_loss: 1.3863 - val_accuracy: 0.2500\n",
            "Epoch 2/100\n",
            "126/126 [==============================] - 33s 262ms/step - loss: 1.3864 - accuracy: 0.2451 - val_loss: 1.3863 - val_accuracy: 0.2500\n",
            "Epoch 3/100\n",
            "126/126 [==============================] - 33s 262ms/step - loss: 1.3864 - accuracy: 0.2433 - val_loss: 1.3863 - val_accuracy: 0.2500\n",
            "Epoch 4/100\n",
            "126/126 [==============================] - 33s 261ms/step - loss: 1.3864 - accuracy: 0.2449 - val_loss: 1.3863 - val_accuracy: 0.2500\n",
            "Epoch 5/100\n",
            "126/126 [==============================] - 33s 260ms/step - loss: 1.3864 - accuracy: 0.2433 - val_loss: 1.3863 - val_accuracy: 0.2500\n",
            "Epoch 6/100\n",
            "126/126 [==============================] - 33s 262ms/step - loss: 1.3864 - accuracy: 0.2422 - val_loss: 1.3863 - val_accuracy: 0.2500\n",
            "Epoch 7/100\n",
            "126/126 [==============================] - 33s 261ms/step - loss: 1.3864 - accuracy: 0.2398 - val_loss: 1.3863 - val_accuracy: 0.2500\n",
            "Epoch 8/100\n",
            "126/126 [==============================] - 33s 260ms/step - loss: 1.3864 - accuracy: 0.2324 - val_loss: 1.3863 - val_accuracy: 0.2500\n",
            "Epoch 9/100\n",
            "126/126 [==============================] - 33s 261ms/step - loss: 1.3864 - accuracy: 0.2410 - val_loss: 1.3863 - val_accuracy: 0.2500\n",
            "Epoch 10/100\n",
            "126/126 [==============================] - 33s 261ms/step - loss: 1.3864 - accuracy: 0.2437 - val_loss: 1.3863 - val_accuracy: 0.2500\n",
            "Epoch 11/100\n",
            "126/126 [==============================] - 33s 261ms/step - loss: 1.3864 - accuracy: 0.2422 - val_loss: 1.3863 - val_accuracy: 0.2500\n",
            "Epoch 1/100\n",
            "126/126 [==============================] - 36s 264ms/step - loss: 1.3863 - accuracy: 0.2410 - val_loss: 1.3863 - val_accuracy: 0.2500\n",
            "Epoch 2/100\n",
            "126/126 [==============================] - 33s 262ms/step - loss: 1.3863 - accuracy: 0.2429 - val_loss: 1.3863 - val_accuracy: 0.2500\n",
            "Epoch 3/100\n",
            "126/126 [==============================] - 33s 262ms/step - loss: 1.3863 - accuracy: 0.2452 - val_loss: 1.3863 - val_accuracy: 0.2500\n",
            "Epoch 4/100\n",
            "126/126 [==============================] - 33s 262ms/step - loss: 1.3863 - accuracy: 0.2417 - val_loss: 1.3863 - val_accuracy: 0.2500\n",
            "Epoch 5/100\n",
            "126/126 [==============================] - 33s 261ms/step - loss: 1.3863 - accuracy: 0.2411 - val_loss: 1.3863 - val_accuracy: 0.2500\n",
            "Epoch 6/100\n",
            "126/126 [==============================] - 33s 262ms/step - loss: 1.3863 - accuracy: 0.2327 - val_loss: 1.3863 - val_accuracy: 0.2500\n",
            "Epoch 7/100\n",
            "126/126 [==============================] - 33s 262ms/step - loss: 1.3863 - accuracy: 0.2397 - val_loss: 1.3863 - val_accuracy: 0.2500\n",
            "Epoch 8/100\n",
            "126/126 [==============================] - 33s 262ms/step - loss: 1.3863 - accuracy: 0.2383 - val_loss: 1.3863 - val_accuracy: 0.2500\n",
            "Epoch 9/100\n",
            "126/126 [==============================] - 33s 262ms/step - loss: 1.3863 - accuracy: 0.2419 - val_loss: 1.3863 - val_accuracy: 0.2500\n",
            "Epoch 10/100\n",
            "126/126 [==============================] - 33s 262ms/step - loss: 1.3863 - accuracy: 0.2465 - val_loss: 1.3863 - val_accuracy: 0.2500\n",
            "Epoch 11/100\n",
            "126/126 [==============================] - 33s 262ms/step - loss: 1.3863 - accuracy: 0.2411 - val_loss: 1.3863 - val_accuracy: 0.2500\n",
            "Epoch 1/100\n",
            "126/126 [==============================] - 36s 264ms/step - loss: 1.3863 - accuracy: 0.2354 - val_loss: 1.3863 - val_accuracy: 0.2500\n",
            "Epoch 2/100\n",
            "126/126 [==============================] - 33s 264ms/step - loss: 1.3863 - accuracy: 0.2429 - val_loss: 1.3863 - val_accuracy: 0.2500\n",
            "Epoch 3/100\n",
            "126/126 [==============================] - 33s 263ms/step - loss: 1.3863 - accuracy: 0.2400 - val_loss: 1.3863 - val_accuracy: 0.2500\n",
            "Epoch 4/100\n",
            "126/126 [==============================] - 33s 263ms/step - loss: 1.3863 - accuracy: 0.2417 - val_loss: 1.3863 - val_accuracy: 0.2500\n",
            "Epoch 5/100\n",
            "126/126 [==============================] - 33s 264ms/step - loss: 1.3863 - accuracy: 0.2432 - val_loss: 1.3863 - val_accuracy: 0.2500\n",
            "Epoch 6/100\n",
            "126/126 [==============================] - 33s 263ms/step - loss: 1.3863 - accuracy: 0.2444 - val_loss: 1.3863 - val_accuracy: 0.2500\n",
            "Epoch 7/100\n",
            "126/126 [==============================] - 33s 263ms/step - loss: 1.3863 - accuracy: 0.2440 - val_loss: 1.3863 - val_accuracy: 0.2500\n",
            "Epoch 8/100\n",
            "126/126 [==============================] - 33s 263ms/step - loss: 1.3863 - accuracy: 0.2398 - val_loss: 1.3863 - val_accuracy: 0.2500\n",
            "Epoch 9/100\n",
            "126/126 [==============================] - 33s 263ms/step - loss: 1.3863 - accuracy: 0.2392 - val_loss: 1.3863 - val_accuracy: 0.2500\n",
            "Epoch 10/100\n",
            "126/126 [==============================] - 33s 263ms/step - loss: 1.3863 - accuracy: 0.2449 - val_loss: 1.3863 - val_accuracy: 0.2500\n",
            "Epoch 11/100\n",
            "126/126 [==============================] - 33s 263ms/step - loss: 1.3863 - accuracy: 0.2359 - val_loss: 1.3863 - val_accuracy: 0.2500\n",
            "Epoch 1/100\n",
            "126/126 [==============================] - 35s 264ms/step - loss: 1.3864 - accuracy: 0.2398 - val_loss: 1.3863 - val_accuracy: 0.2500\n",
            "Epoch 2/100\n",
            "126/126 [==============================] - 33s 263ms/step - loss: 1.3864 - accuracy: 0.2430 - val_loss: 1.3863 - val_accuracy: 0.2500\n",
            "Epoch 3/100\n",
            "126/126 [==============================] - 33s 262ms/step - loss: 1.3864 - accuracy: 0.2437 - val_loss: 1.3863 - val_accuracy: 0.2500\n",
            "Epoch 4/100\n",
            "126/126 [==============================] - 33s 262ms/step - loss: 1.3864 - accuracy: 0.2410 - val_loss: 1.3863 - val_accuracy: 0.2500\n",
            "Epoch 5/100\n",
            "126/126 [==============================] - 33s 263ms/step - loss: 1.3864 - accuracy: 0.2422 - val_loss: 1.3863 - val_accuracy: 0.2500\n",
            "Epoch 6/100\n",
            "126/126 [==============================] - 33s 263ms/step - loss: 1.3864 - accuracy: 0.2424 - val_loss: 1.3863 - val_accuracy: 0.2500\n",
            "Epoch 7/100\n",
            "126/126 [==============================] - 33s 263ms/step - loss: 1.3864 - accuracy: 0.2329 - val_loss: 1.3863 - val_accuracy: 0.2500\n",
            "Epoch 8/100\n",
            "126/126 [==============================] - 33s 262ms/step - loss: 1.3864 - accuracy: 0.2395 - val_loss: 1.3863 - val_accuracy: 0.2500\n",
            "Epoch 9/100\n",
            "126/126 [==============================] - 33s 262ms/step - loss: 1.3864 - accuracy: 0.2406 - val_loss: 1.3863 - val_accuracy: 0.2500\n",
            "Epoch 10/100\n",
            "126/126 [==============================] - 33s 263ms/step - loss: 1.3864 - accuracy: 0.2387 - val_loss: 1.3863 - val_accuracy: 0.2500\n",
            "Epoch 11/100\n",
            "126/126 [==============================] - 33s 262ms/step - loss: 1.3864 - accuracy: 0.2421 - val_loss: 1.3863 - val_accuracy: 0.2500\n",
            "Epoch 1/100\n",
            "126/126 [==============================] - 36s 265ms/step - loss: 1.3863 - accuracy: 0.2456 - val_loss: 1.3863 - val_accuracy: 0.2500\n",
            "Epoch 2/100\n",
            "126/126 [==============================] - 33s 264ms/step - loss: 1.3863 - accuracy: 0.2451 - val_loss: 1.3863 - val_accuracy: 0.2500\n",
            "Epoch 3/100\n",
            "126/126 [==============================] - 33s 260ms/step - loss: 1.3863 - accuracy: 0.2411 - val_loss: 1.3863 - val_accuracy: 0.2500\n",
            "Epoch 4/100\n",
            "126/126 [==============================] - 33s 262ms/step - loss: 1.3863 - accuracy: 0.2400 - val_loss: 1.3863 - val_accuracy: 0.2500\n",
            "Epoch 5/100\n",
            "126/126 [==============================] - 33s 263ms/step - loss: 1.3863 - accuracy: 0.2456 - val_loss: 1.3863 - val_accuracy: 0.2500\n",
            "Epoch 6/100\n",
            "126/126 [==============================] - 33s 263ms/step - loss: 1.3863 - accuracy: 0.2473 - val_loss: 1.3863 - val_accuracy: 0.2500\n",
            "Epoch 7/100\n",
            "126/126 [==============================] - 33s 263ms/step - loss: 1.3863 - accuracy: 0.2386 - val_loss: 1.3863 - val_accuracy: 0.2500\n",
            "Epoch 8/100\n",
            "126/126 [==============================] - 33s 264ms/step - loss: 1.3863 - accuracy: 0.2411 - val_loss: 1.3863 - val_accuracy: 0.2500\n",
            "Epoch 9/100\n",
            "126/126 [==============================] - 33s 263ms/step - loss: 1.3863 - accuracy: 0.2443 - val_loss: 1.3863 - val_accuracy: 0.2500\n",
            "Epoch 10/100\n",
            "126/126 [==============================] - 33s 263ms/step - loss: 1.3863 - accuracy: 0.2478 - val_loss: 1.3863 - val_accuracy: 0.2500\n",
            "Epoch 11/100\n",
            "126/126 [==============================] - 33s 263ms/step - loss: 1.3863 - accuracy: 0.2459 - val_loss: 1.3863 - val_accuracy: 0.2500\n",
            "Epoch 1/100\n",
            "126/126 [==============================] - 35s 262ms/step - loss: 1.3863 - accuracy: 0.2379 - val_loss: 1.3863 - val_accuracy: 0.2500\n",
            "Epoch 2/100\n",
            "126/126 [==============================] - 33s 262ms/step - loss: 1.3863 - accuracy: 0.2444 - val_loss: 1.3863 - val_accuracy: 0.2500\n",
            "Epoch 3/100\n",
            "126/126 [==============================] - 33s 262ms/step - loss: 1.3863 - accuracy: 0.2452 - val_loss: 1.3863 - val_accuracy: 0.2500\n",
            "Epoch 4/100\n",
            "126/126 [==============================] - 33s 261ms/step - loss: 1.3863 - accuracy: 0.2413 - val_loss: 1.3863 - val_accuracy: 0.2500\n",
            "Epoch 5/100\n",
            "126/126 [==============================] - 33s 261ms/step - loss: 1.3863 - accuracy: 0.2417 - val_loss: 1.3863 - val_accuracy: 0.2500\n",
            "Epoch 6/100\n",
            "126/126 [==============================] - 33s 261ms/step - loss: 1.3863 - accuracy: 0.2433 - val_loss: 1.3863 - val_accuracy: 0.2500\n",
            "Epoch 7/100\n",
            "126/126 [==============================] - 33s 261ms/step - loss: 1.3863 - accuracy: 0.2443 - val_loss: 1.3863 - val_accuracy: 0.2500\n",
            "Epoch 8/100\n",
            "126/126 [==============================] - 33s 263ms/step - loss: 1.3863 - accuracy: 0.2398 - val_loss: 1.3863 - val_accuracy: 0.2500\n",
            "Epoch 9/100\n",
            "126/126 [==============================] - 33s 261ms/step - loss: 1.3863 - accuracy: 0.2433 - val_loss: 1.3863 - val_accuracy: 0.2500\n",
            "Epoch 10/100\n",
            "126/126 [==============================] - 33s 262ms/step - loss: 1.3863 - accuracy: 0.2444 - val_loss: 1.3863 - val_accuracy: 0.2500\n",
            "Epoch 11/100\n",
            "126/126 [==============================] - 33s 262ms/step - loss: 1.3863 - accuracy: 0.2403 - val_loss: 1.3863 - val_accuracy: 0.2500\n",
            "Epoch 1/100\n",
            "126/126 [==============================] - 35s 261ms/step - loss: 1.3864 - accuracy: 0.2413 - val_loss: 1.3863 - val_accuracy: 0.2500\n",
            "Epoch 2/100\n",
            "126/126 [==============================] - 33s 263ms/step - loss: 1.3864 - accuracy: 0.2478 - val_loss: 1.3863 - val_accuracy: 0.2500\n",
            "Epoch 3/100\n",
            "126/126 [==============================] - 33s 261ms/step - loss: 1.3864 - accuracy: 0.2414 - val_loss: 1.3863 - val_accuracy: 0.2500\n",
            "Epoch 4/100\n",
            "126/126 [==============================] - 33s 259ms/step - loss: 1.3864 - accuracy: 0.2386 - val_loss: 1.3863 - val_accuracy: 0.2500\n",
            "Epoch 5/100\n",
            "126/126 [==============================] - 33s 262ms/step - loss: 1.3864 - accuracy: 0.2405 - val_loss: 1.3863 - val_accuracy: 0.2500\n",
            "Epoch 6/100\n",
            "126/126 [==============================] - 33s 260ms/step - loss: 1.3864 - accuracy: 0.2478 - val_loss: 1.3863 - val_accuracy: 0.2500\n",
            "Epoch 7/100\n",
            "126/126 [==============================] - 33s 260ms/step - loss: 1.3864 - accuracy: 0.2383 - val_loss: 1.3863 - val_accuracy: 0.2500\n",
            "Epoch 8/100\n",
            "126/126 [==============================] - 33s 261ms/step - loss: 1.3864 - accuracy: 0.2357 - val_loss: 1.3863 - val_accuracy: 0.2500\n",
            "Epoch 9/100\n",
            "126/126 [==============================] - 33s 261ms/step - loss: 1.3864 - accuracy: 0.2433 - val_loss: 1.3863 - val_accuracy: 0.2500\n",
            "Epoch 10/100\n",
            "126/126 [==============================] - 33s 260ms/step - loss: 1.3864 - accuracy: 0.2395 - val_loss: 1.3863 - val_accuracy: 0.2500\n",
            "Epoch 11/100\n",
            "126/126 [==============================] - 33s 260ms/step - loss: 1.3864 - accuracy: 0.2362 - val_loss: 1.3863 - val_accuracy: 0.2500\n",
            "Epoch 1/100\n",
            "126/126 [==============================] - 35s 263ms/step - loss: 1.3863 - accuracy: 0.2424 - val_loss: 1.3863 - val_accuracy: 0.2500\n",
            "Epoch 2/100\n",
            "126/126 [==============================] - 33s 262ms/step - loss: 1.3863 - accuracy: 0.2435 - val_loss: 1.3863 - val_accuracy: 0.2500\n",
            "Epoch 3/100\n",
            "126/126 [==============================] - 33s 261ms/step - loss: 1.3863 - accuracy: 0.2402 - val_loss: 1.3863 - val_accuracy: 0.2500\n",
            "Epoch 4/100\n",
            "126/126 [==============================] - 33s 261ms/step - loss: 1.3863 - accuracy: 0.2444 - val_loss: 1.3863 - val_accuracy: 0.2500\n",
            "Epoch 5/100\n",
            "126/126 [==============================] - 33s 261ms/step - loss: 1.3863 - accuracy: 0.2473 - val_loss: 1.3863 - val_accuracy: 0.2500\n",
            "Epoch 6/100\n",
            "126/126 [==============================] - 33s 262ms/step - loss: 1.3863 - accuracy: 0.2392 - val_loss: 1.3863 - val_accuracy: 0.2500\n",
            "Epoch 7/100\n",
            "126/126 [==============================] - 33s 261ms/step - loss: 1.3863 - accuracy: 0.2430 - val_loss: 1.3863 - val_accuracy: 0.2500\n",
            "Epoch 8/100\n",
            "126/126 [==============================] - 33s 261ms/step - loss: 1.3863 - accuracy: 0.2449 - val_loss: 1.3863 - val_accuracy: 0.2500\n",
            "Epoch 9/100\n",
            "126/126 [==============================] - 33s 261ms/step - loss: 1.3863 - accuracy: 0.2402 - val_loss: 1.3863 - val_accuracy: 0.2500\n",
            "Epoch 10/100\n",
            "126/126 [==============================] - 33s 261ms/step - loss: 1.3863 - accuracy: 0.2429 - val_loss: 1.3863 - val_accuracy: 0.2500\n",
            "Epoch 11/100\n",
            "126/126 [==============================] - 33s 261ms/step - loss: 1.3863 - accuracy: 0.2408 - val_loss: 1.3863 - val_accuracy: 0.2500\n",
            "Epoch 1/100\n",
            "126/126 [==============================] - 35s 264ms/step - loss: 1.3864 - accuracy: 0.2413 - val_loss: 1.3863 - val_accuracy: 0.2500\n",
            "Epoch 2/100\n",
            "126/126 [==============================] - 33s 263ms/step - loss: 1.3863 - accuracy: 0.2392 - val_loss: 1.3863 - val_accuracy: 0.2500\n",
            "Epoch 3/100\n",
            "126/126 [==============================] - 33s 262ms/step - loss: 1.3863 - accuracy: 0.2411 - val_loss: 1.3863 - val_accuracy: 0.2500\n",
            "Epoch 4/100\n",
            "126/126 [==============================] - 33s 262ms/step - loss: 1.3863 - accuracy: 0.2414 - val_loss: 1.3863 - val_accuracy: 0.2500\n",
            "Epoch 5/100\n",
            "126/126 [==============================] - 33s 262ms/step - loss: 1.3863 - accuracy: 0.2425 - val_loss: 1.3863 - val_accuracy: 0.2500\n",
            "Epoch 6/100\n",
            "126/126 [==============================] - 33s 263ms/step - loss: 1.3863 - accuracy: 0.2452 - val_loss: 1.3863 - val_accuracy: 0.2500\n",
            "Epoch 7/100\n",
            "126/126 [==============================] - 33s 263ms/step - loss: 1.3863 - accuracy: 0.2378 - val_loss: 1.3863 - val_accuracy: 0.2500\n",
            "Epoch 8/100\n",
            "126/126 [==============================] - 33s 263ms/step - loss: 1.3863 - accuracy: 0.2419 - val_loss: 1.3863 - val_accuracy: 0.2500\n",
            "Epoch 9/100\n",
            "126/126 [==============================] - 33s 263ms/step - loss: 1.3863 - accuracy: 0.2427 - val_loss: 1.3863 - val_accuracy: 0.2500\n",
            "Epoch 10/100\n",
            "126/126 [==============================] - 33s 263ms/step - loss: 1.3863 - accuracy: 0.2405 - val_loss: 1.3863 - val_accuracy: 0.2500\n",
            "Epoch 11/100\n",
            "126/126 [==============================] - 33s 263ms/step - loss: 1.3863 - accuracy: 0.2392 - val_loss: 1.3863 - val_accuracy: 0.2500\n",
            "Epoch 1/100\n",
            "126/126 [==============================] - 36s 264ms/step - loss: 1.3864 - accuracy: 0.2457 - val_loss: 1.3863 - val_accuracy: 0.2500\n",
            "Epoch 2/100\n",
            "126/126 [==============================] - 34s 264ms/step - loss: 1.3864 - accuracy: 0.2457 - val_loss: 1.3863 - val_accuracy: 0.2500\n",
            "Epoch 3/100\n",
            "126/126 [==============================] - 33s 263ms/step - loss: 1.3864 - accuracy: 0.2416 - val_loss: 1.3863 - val_accuracy: 0.2500\n",
            "Epoch 4/100\n",
            "126/126 [==============================] - 33s 261ms/step - loss: 1.3864 - accuracy: 0.2440 - val_loss: 1.3863 - val_accuracy: 0.2500\n",
            "Epoch 5/100\n",
            "126/126 [==============================] - 33s 263ms/step - loss: 1.3864 - accuracy: 0.2422 - val_loss: 1.3863 - val_accuracy: 0.2500\n",
            "Epoch 6/100\n",
            "126/126 [==============================] - 33s 262ms/step - loss: 1.3864 - accuracy: 0.2337 - val_loss: 1.3863 - val_accuracy: 0.2500\n",
            "Epoch 7/100\n",
            "126/126 [==============================] - 33s 262ms/step - loss: 1.3864 - accuracy: 0.2468 - val_loss: 1.3863 - val_accuracy: 0.2500\n",
            "Epoch 8/100\n",
            "126/126 [==============================] - 33s 262ms/step - loss: 1.3864 - accuracy: 0.2395 - val_loss: 1.3863 - val_accuracy: 0.2500\n",
            "Epoch 9/100\n",
            "126/126 [==============================] - 33s 263ms/step - loss: 1.3864 - accuracy: 0.2413 - val_loss: 1.3863 - val_accuracy: 0.2500\n",
            "Epoch 10/100\n",
            "126/126 [==============================] - 33s 262ms/step - loss: 1.3864 - accuracy: 0.2427 - val_loss: 1.3863 - val_accuracy: 0.2500\n",
            "Epoch 11/100\n",
            "126/126 [==============================] - 33s 262ms/step - loss: 1.3864 - accuracy: 0.2356 - val_loss: 1.3863 - val_accuracy: 0.2500\n",
            "Epoch 1/100\n",
            "126/126 [==============================] - 36s 265ms/step - loss: 1.3863 - accuracy: 0.2398 - val_loss: 1.3863 - val_accuracy: 0.2500\n",
            "Epoch 2/100\n",
            "126/126 [==============================] - 33s 264ms/step - loss: 1.3863 - accuracy: 0.2406 - val_loss: 1.3863 - val_accuracy: 0.2500\n",
            "Epoch 3/100\n",
            "126/126 [==============================] - 33s 263ms/step - loss: 1.3863 - accuracy: 0.2422 - val_loss: 1.3863 - val_accuracy: 0.2500\n",
            "Epoch 4/100\n",
            "126/126 [==============================] - 33s 263ms/step - loss: 1.3863 - accuracy: 0.2433 - val_loss: 1.3863 - val_accuracy: 0.2500\n",
            "Epoch 5/100\n",
            "126/126 [==============================] - 33s 263ms/step - loss: 1.3863 - accuracy: 0.2479 - val_loss: 1.3863 - val_accuracy: 0.2500\n",
            "Epoch 6/100\n",
            "126/126 [==============================] - 33s 263ms/step - loss: 1.3863 - accuracy: 0.2398 - val_loss: 1.3863 - val_accuracy: 0.2500\n",
            "Epoch 7/100\n",
            "126/126 [==============================] - 33s 260ms/step - loss: 1.3863 - accuracy: 0.2387 - val_loss: 1.3863 - val_accuracy: 0.2500\n",
            "Epoch 8/100\n",
            "126/126 [==============================] - 33s 262ms/step - loss: 1.3863 - accuracy: 0.2462 - val_loss: 1.3863 - val_accuracy: 0.2500\n",
            "Epoch 9/100\n",
            "126/126 [==============================] - 33s 262ms/step - loss: 1.3863 - accuracy: 0.2408 - val_loss: 1.3863 - val_accuracy: 0.2500\n",
            "Epoch 10/100\n",
            "126/126 [==============================] - 33s 262ms/step - loss: 1.3863 - accuracy: 0.2441 - val_loss: 1.3863 - val_accuracy: 0.2500\n",
            "Epoch 11/100\n",
            "126/126 [==============================] - 33s 259ms/step - loss: 1.3863 - accuracy: 0.2416 - val_loss: 1.3863 - val_accuracy: 0.2500\n",
            "Epoch 1/100\n",
            "126/126 [==============================] - 36s 264ms/step - loss: 1.3863 - accuracy: 0.2489 - val_loss: 1.3863 - val_accuracy: 0.2500\n",
            "Epoch 2/100\n",
            "126/126 [==============================] - 33s 263ms/step - loss: 1.3863 - accuracy: 0.2444 - val_loss: 1.3863 - val_accuracy: 0.2500\n",
            "Epoch 3/100\n",
            "126/126 [==============================] - 33s 263ms/step - loss: 1.3863 - accuracy: 0.2468 - val_loss: 1.3863 - val_accuracy: 0.2500\n",
            "Epoch 4/100\n",
            "126/126 [==============================] - 33s 263ms/step - loss: 1.3863 - accuracy: 0.2449 - val_loss: 1.3863 - val_accuracy: 0.2500\n",
            "Epoch 5/100\n",
            "126/126 [==============================] - 33s 263ms/step - loss: 1.3863 - accuracy: 0.2438 - val_loss: 1.3863 - val_accuracy: 0.2500\n",
            "Epoch 6/100\n",
            "126/126 [==============================] - 33s 263ms/step - loss: 1.3863 - accuracy: 0.2435 - val_loss: 1.3863 - val_accuracy: 0.2500\n",
            "Epoch 7/100\n",
            "126/126 [==============================] - 33s 264ms/step - loss: 1.3863 - accuracy: 0.2448 - val_loss: 1.3863 - val_accuracy: 0.2500\n",
            "Epoch 8/100\n",
            "126/126 [==============================] - 33s 258ms/step - loss: 1.3863 - accuracy: 0.2430 - val_loss: 1.3863 - val_accuracy: 0.2500\n",
            "Epoch 9/100\n",
            "126/126 [==============================] - 33s 259ms/step - loss: 1.3863 - accuracy: 0.2386 - val_loss: 1.3863 - val_accuracy: 0.2500\n",
            "Epoch 10/100\n",
            "126/126 [==============================] - 33s 261ms/step - loss: 1.3863 - accuracy: 0.2451 - val_loss: 1.3863 - val_accuracy: 0.2500\n",
            "Epoch 11/100\n",
            "126/126 [==============================] - 33s 262ms/step - loss: 1.3863 - accuracy: 0.2432 - val_loss: 1.3863 - val_accuracy: 0.2500\n",
            "Epoch 1/100\n",
            "126/126 [==============================] - 35s 265ms/step - loss: 1.3864 - accuracy: 0.2408 - val_loss: 1.3863 - val_accuracy: 0.2500\n",
            "Epoch 2/100\n",
            "126/126 [==============================] - 33s 263ms/step - loss: 1.3864 - accuracy: 0.2432 - val_loss: 1.3863 - val_accuracy: 0.2500\n",
            "Epoch 3/100\n",
            "126/126 [==============================] - 33s 263ms/step - loss: 1.3864 - accuracy: 0.2424 - val_loss: 1.3863 - val_accuracy: 0.2500\n",
            "Epoch 4/100\n",
            "126/126 [==============================] - 33s 263ms/step - loss: 1.3864 - accuracy: 0.2429 - val_loss: 1.3863 - val_accuracy: 0.2500\n",
            "Epoch 5/100\n",
            "126/126 [==============================] - 33s 263ms/step - loss: 1.3864 - accuracy: 0.2352 - val_loss: 1.3863 - val_accuracy: 0.2500\n",
            "Epoch 6/100\n",
            "126/126 [==============================] - 33s 263ms/step - loss: 1.3864 - accuracy: 0.2390 - val_loss: 1.3863 - val_accuracy: 0.2500\n",
            "Epoch 7/100\n",
            "126/126 [==============================] - 33s 263ms/step - loss: 1.3864 - accuracy: 0.2421 - val_loss: 1.3863 - val_accuracy: 0.2500\n",
            "Epoch 8/100\n",
            "126/126 [==============================] - 33s 263ms/step - loss: 1.3864 - accuracy: 0.2397 - val_loss: 1.3863 - val_accuracy: 0.2500\n",
            "Epoch 9/100\n",
            "126/126 [==============================] - 33s 263ms/step - loss: 1.3864 - accuracy: 0.2373 - val_loss: 1.3863 - val_accuracy: 0.2500\n",
            "Epoch 10/100\n",
            "126/126 [==============================] - 33s 262ms/step - loss: 1.3864 - accuracy: 0.2422 - val_loss: 1.3863 - val_accuracy: 0.2500\n",
            "Epoch 11/100\n",
            "126/126 [==============================] - 33s 262ms/step - loss: 1.3864 - accuracy: 0.2402 - val_loss: 1.3863 - val_accuracy: 0.2500\n",
            "Epoch 1/100\n",
            "126/126 [==============================] - 36s 266ms/step - loss: 1.3863 - accuracy: 0.2400 - val_loss: 1.3863 - val_accuracy: 0.2500\n",
            "Epoch 2/100\n",
            "126/126 [==============================] - 33s 264ms/step - loss: 1.3863 - accuracy: 0.2419 - val_loss: 1.3863 - val_accuracy: 0.2500\n",
            "Epoch 3/100\n",
            "126/126 [==============================] - 33s 263ms/step - loss: 1.3863 - accuracy: 0.2425 - val_loss: 1.3863 - val_accuracy: 0.2500\n",
            "Epoch 4/100\n",
            "126/126 [==============================] - 34s 264ms/step - loss: 1.3863 - accuracy: 0.2443 - val_loss: 1.3863 - val_accuracy: 0.2500\n",
            "Epoch 5/100\n",
            "126/126 [==============================] - 33s 264ms/step - loss: 1.3863 - accuracy: 0.2443 - val_loss: 1.3863 - val_accuracy: 0.2500\n",
            "Epoch 6/100\n",
            "126/126 [==============================] - 33s 263ms/step - loss: 1.3863 - accuracy: 0.2424 - val_loss: 1.3863 - val_accuracy: 0.2500\n",
            "Epoch 7/100\n",
            "126/126 [==============================] - 34s 264ms/step - loss: 1.3863 - accuracy: 0.2359 - val_loss: 1.3863 - val_accuracy: 0.2500\n",
            "Epoch 8/100\n",
            "126/126 [==============================] - 33s 263ms/step - loss: 1.3863 - accuracy: 0.2441 - val_loss: 1.3863 - val_accuracy: 0.2500\n",
            "Epoch 9/100\n",
            "126/126 [==============================] - 33s 263ms/step - loss: 1.3863 - accuracy: 0.2402 - val_loss: 1.3863 - val_accuracy: 0.2500\n",
            "Epoch 10/100\n",
            "126/126 [==============================] - 33s 264ms/step - loss: 1.3863 - accuracy: 0.2411 - val_loss: 1.3863 - val_accuracy: 0.2500\n",
            "Epoch 11/100\n",
            "126/126 [==============================] - 34s 264ms/step - loss: 1.3863 - accuracy: 0.2454 - val_loss: 1.3863 - val_accuracy: 0.2500\n",
            "Epoch 1/100\n",
            "126/126 [==============================] - 36s 264ms/step - loss: 1.3863 - accuracy: 0.2454 - val_loss: 1.3863 - val_accuracy: 0.2500\n",
            "Epoch 2/100\n",
            "126/126 [==============================] - 33s 262ms/step - loss: 1.3863 - accuracy: 0.2435 - val_loss: 1.3863 - val_accuracy: 0.2500\n",
            "Epoch 3/100\n",
            "126/126 [==============================] - 33s 262ms/step - loss: 1.3863 - accuracy: 0.2435 - val_loss: 1.3863 - val_accuracy: 0.2500\n",
            "Epoch 4/100\n",
            "126/126 [==============================] - 33s 262ms/step - loss: 1.3863 - accuracy: 0.2471 - val_loss: 1.3863 - val_accuracy: 0.2500\n",
            "Epoch 5/100\n",
            "126/126 [==============================] - 33s 262ms/step - loss: 1.3863 - accuracy: 0.2419 - val_loss: 1.3863 - val_accuracy: 0.2500\n",
            "Epoch 6/100\n",
            "126/126 [==============================] - 33s 262ms/step - loss: 1.3863 - accuracy: 0.2437 - val_loss: 1.3863 - val_accuracy: 0.2500\n",
            "Epoch 7/100\n",
            "126/126 [==============================] - 33s 262ms/step - loss: 1.3863 - accuracy: 0.2421 - val_loss: 1.3863 - val_accuracy: 0.2500\n",
            "Epoch 8/100\n",
            "126/126 [==============================] - 33s 262ms/step - loss: 1.3863 - accuracy: 0.2406 - val_loss: 1.3863 - val_accuracy: 0.2500\n",
            "Epoch 9/100\n",
            "126/126 [==============================] - 33s 262ms/step - loss: 1.3863 - accuracy: 0.2425 - val_loss: 1.3863 - val_accuracy: 0.2500\n",
            "Epoch 10/100\n",
            "126/126 [==============================] - 33s 262ms/step - loss: 1.3863 - accuracy: 0.2433 - val_loss: 1.3863 - val_accuracy: 0.2500\n",
            "Epoch 11/100\n",
            "126/126 [==============================] - 33s 262ms/step - loss: 1.3863 - accuracy: 0.2367 - val_loss: 1.3863 - val_accuracy: 0.2500\n",
            "Epoch 1/100\n",
            "126/126 [==============================] - 35s 262ms/step - loss: 1.3864 - accuracy: 0.2356 - val_loss: 1.3863 - val_accuracy: 0.2500\n",
            "Epoch 2/100\n",
            "126/126 [==============================] - 33s 261ms/step - loss: 1.3864 - accuracy: 0.2435 - val_loss: 1.3863 - val_accuracy: 0.2500\n",
            "Epoch 3/100\n",
            "126/126 [==============================] - 33s 261ms/step - loss: 1.3864 - accuracy: 0.2351 - val_loss: 1.3863 - val_accuracy: 0.2500\n",
            "Epoch 4/100\n",
            "126/126 [==============================] - 33s 262ms/step - loss: 1.3864 - accuracy: 0.2403 - val_loss: 1.3863 - val_accuracy: 0.2500\n",
            "Epoch 5/100\n",
            "126/126 [==============================] - 33s 262ms/step - loss: 1.3864 - accuracy: 0.2383 - val_loss: 1.3863 - val_accuracy: 0.2500\n",
            "Epoch 6/100\n",
            "126/126 [==============================] - 33s 261ms/step - loss: 1.3864 - accuracy: 0.2395 - val_loss: 1.3863 - val_accuracy: 0.2500\n",
            "Epoch 7/100\n",
            "126/126 [==============================] - 33s 261ms/step - loss: 1.3864 - accuracy: 0.2402 - val_loss: 1.3863 - val_accuracy: 0.2500\n",
            "Epoch 8/100\n",
            "126/126 [==============================] - 33s 261ms/step - loss: 1.3864 - accuracy: 0.2433 - val_loss: 1.3863 - val_accuracy: 0.2500\n",
            "Epoch 9/100\n",
            "126/126 [==============================] - 33s 261ms/step - loss: 1.3864 - accuracy: 0.2414 - val_loss: 1.3863 - val_accuracy: 0.2500\n",
            "Epoch 10/100\n",
            "126/126 [==============================] - 33s 260ms/step - loss: 1.3864 - accuracy: 0.2449 - val_loss: 1.3863 - val_accuracy: 0.2500\n",
            "Epoch 11/100\n",
            "126/126 [==============================] - 33s 261ms/step - loss: 1.3864 - accuracy: 0.2383 - val_loss: 1.3863 - val_accuracy: 0.2500\n",
            "Epoch 1/100\n",
            "126/126 [==============================] - 35s 262ms/step - loss: 1.3863 - accuracy: 0.2449 - val_loss: 1.3863 - val_accuracy: 0.2500\n",
            "Epoch 2/100\n",
            "126/126 [==============================] - 33s 259ms/step - loss: 1.3863 - accuracy: 0.2448 - val_loss: 1.3863 - val_accuracy: 0.2500\n",
            "Epoch 3/100\n",
            "126/126 [==============================] - 33s 258ms/step - loss: 1.3863 - accuracy: 0.2387 - val_loss: 1.3863 - val_accuracy: 0.2500\n",
            "Epoch 4/100\n",
            "126/126 [==============================] - 33s 261ms/step - loss: 1.3863 - accuracy: 0.2395 - val_loss: 1.3863 - val_accuracy: 0.2500\n",
            "Epoch 5/100\n",
            "126/126 [==============================] - 33s 262ms/step - loss: 1.3863 - accuracy: 0.2405 - val_loss: 1.3863 - val_accuracy: 0.2500\n",
            "Epoch 6/100\n",
            "126/126 [==============================] - 33s 262ms/step - loss: 1.3863 - accuracy: 0.2414 - val_loss: 1.3863 - val_accuracy: 0.2500\n",
            "Epoch 7/100\n",
            "126/126 [==============================] - 33s 262ms/step - loss: 1.3863 - accuracy: 0.2422 - val_loss: 1.3863 - val_accuracy: 0.2500\n",
            "Epoch 8/100\n",
            "126/126 [==============================] - 33s 261ms/step - loss: 1.3863 - accuracy: 0.2414 - val_loss: 1.3863 - val_accuracy: 0.2500\n",
            "Epoch 9/100\n",
            "126/126 [==============================] - 33s 262ms/step - loss: 1.3863 - accuracy: 0.2383 - val_loss: 1.3863 - val_accuracy: 0.2500\n",
            "Epoch 10/100\n",
            "126/126 [==============================] - 33s 262ms/step - loss: 1.3863 - accuracy: 0.2375 - val_loss: 1.3863 - val_accuracy: 0.2500\n",
            "Epoch 11/100\n",
            "126/126 [==============================] - 33s 262ms/step - loss: 1.3863 - accuracy: 0.2443 - val_loss: 1.3863 - val_accuracy: 0.2500\n",
            "Epoch 1/100\n",
            "126/126 [==============================] - 36s 265ms/step - loss: 1.3864 - accuracy: 0.2444 - val_loss: 1.3863 - val_accuracy: 0.2500\n",
            "Epoch 2/100\n",
            "126/126 [==============================] - 33s 262ms/step - loss: 1.3863 - accuracy: 0.2446 - val_loss: 1.3863 - val_accuracy: 0.2500\n",
            "Epoch 3/100\n",
            "126/126 [==============================] - 33s 262ms/step - loss: 1.3863 - accuracy: 0.2438 - val_loss: 1.3863 - val_accuracy: 0.2500\n",
            "Epoch 4/100\n",
            "126/126 [==============================] - 33s 262ms/step - loss: 1.3863 - accuracy: 0.2413 - val_loss: 1.3863 - val_accuracy: 0.2500\n",
            "Epoch 5/100\n",
            "126/126 [==============================] - 33s 262ms/step - loss: 1.3863 - accuracy: 0.2465 - val_loss: 1.3863 - val_accuracy: 0.2500\n",
            "Epoch 6/100\n",
            "126/126 [==============================] - 33s 262ms/step - loss: 1.3863 - accuracy: 0.2429 - val_loss: 1.3863 - val_accuracy: 0.2500\n",
            "Epoch 7/100\n",
            "126/126 [==============================] - 33s 262ms/step - loss: 1.3863 - accuracy: 0.2462 - val_loss: 1.3863 - val_accuracy: 0.2500\n",
            "Epoch 8/100\n",
            "126/126 [==============================] - 33s 262ms/step - loss: 1.3863 - accuracy: 0.2406 - val_loss: 1.3863 - val_accuracy: 0.2500\n",
            "Epoch 9/100\n",
            "126/126 [==============================] - 33s 262ms/step - loss: 1.3863 - accuracy: 0.2413 - val_loss: 1.3863 - val_accuracy: 0.2500\n",
            "Epoch 10/100\n",
            "126/126 [==============================] - 33s 262ms/step - loss: 1.3863 - accuracy: 0.2417 - val_loss: 1.3863 - val_accuracy: 0.2500\n",
            "Epoch 11/100\n",
            "126/126 [==============================] - 33s 262ms/step - loss: 1.3863 - accuracy: 0.2408 - val_loss: 1.3863 - val_accuracy: 0.2500\n",
            "Epoch 1/100\n",
            "126/126 [==============================] - 35s 262ms/step - loss: 1.3864 - accuracy: 0.2429 - val_loss: 1.3863 - val_accuracy: 0.2500\n",
            "Epoch 2/100\n",
            "126/126 [==============================] - 33s 261ms/step - loss: 1.3864 - accuracy: 0.2444 - val_loss: 1.3863 - val_accuracy: 0.2500\n",
            "Epoch 3/100\n",
            "126/126 [==============================] - 33s 262ms/step - loss: 1.3864 - accuracy: 0.2402 - val_loss: 1.3863 - val_accuracy: 0.2500\n",
            "Epoch 4/100\n",
            "126/126 [==============================] - 33s 261ms/step - loss: 1.3864 - accuracy: 0.2362 - val_loss: 1.3863 - val_accuracy: 0.2500\n",
            "Epoch 5/100\n",
            "126/126 [==============================] - 33s 261ms/step - loss: 1.3864 - accuracy: 0.2419 - val_loss: 1.3863 - val_accuracy: 0.2500\n",
            "Epoch 6/100\n",
            "126/126 [==============================] - 33s 261ms/step - loss: 1.3864 - accuracy: 0.2405 - val_loss: 1.3863 - val_accuracy: 0.2500\n",
            "Epoch 7/100\n",
            "126/126 [==============================] - 33s 261ms/step - loss: 1.3864 - accuracy: 0.2416 - val_loss: 1.3863 - val_accuracy: 0.2500\n",
            "Epoch 8/100\n",
            "126/126 [==============================] - 33s 261ms/step - loss: 1.3864 - accuracy: 0.2422 - val_loss: 1.3863 - val_accuracy: 0.2500\n",
            "Epoch 9/100\n",
            "126/126 [==============================] - 33s 261ms/step - loss: 1.3864 - accuracy: 0.2360 - val_loss: 1.3863 - val_accuracy: 0.2500\n",
            "Epoch 10/100\n",
            "126/126 [==============================] - 33s 258ms/step - loss: 1.3864 - accuracy: 0.2379 - val_loss: 1.3863 - val_accuracy: 0.2500\n",
            "Epoch 11/100\n",
            "126/126 [==============================] - 33s 260ms/step - loss: 1.3864 - accuracy: 0.2422 - val_loss: 1.3863 - val_accuracy: 0.2500\n",
            "Epoch 1/100\n",
            "126/126 [==============================] - 35s 262ms/step - loss: 1.3863 - accuracy: 0.2390 - val_loss: 1.3863 - val_accuracy: 0.2500\n",
            "Epoch 2/100\n",
            "126/126 [==============================] - 33s 261ms/step - loss: 1.3863 - accuracy: 0.2427 - val_loss: 1.3863 - val_accuracy: 0.2500\n",
            "Epoch 3/100\n",
            "126/126 [==============================] - 33s 261ms/step - loss: 1.3863 - accuracy: 0.2400 - val_loss: 1.3863 - val_accuracy: 0.2500\n",
            "Epoch 4/100\n",
            "126/126 [==============================] - 33s 261ms/step - loss: 1.3863 - accuracy: 0.2486 - val_loss: 1.3863 - val_accuracy: 0.2500\n",
            "Epoch 5/100\n",
            "126/126 [==============================] - 33s 261ms/step - loss: 1.3863 - accuracy: 0.2475 - val_loss: 1.3863 - val_accuracy: 0.2500\n",
            "Epoch 6/100\n",
            "126/126 [==============================] - 33s 262ms/step - loss: 1.3863 - accuracy: 0.2489 - val_loss: 1.3863 - val_accuracy: 0.2500\n",
            "Epoch 7/100\n",
            "126/126 [==============================] - 33s 262ms/step - loss: 1.3863 - accuracy: 0.2500 - val_loss: 1.3863 - val_accuracy: 0.2500\n",
            "Epoch 8/100\n",
            "126/126 [==============================] - 33s 263ms/step - loss: 1.3863 - accuracy: 0.2500 - val_loss: 1.3863 - val_accuracy: 0.2500\n",
            "Epoch 9/100\n",
            "126/126 [==============================] - 33s 263ms/step - loss: 1.3863 - accuracy: 0.2500 - val_loss: 1.3863 - val_accuracy: 0.2500\n",
            "Epoch 10/100\n",
            "126/126 [==============================] - 33s 262ms/step - loss: 1.3863 - accuracy: 0.2492 - val_loss: 1.3863 - val_accuracy: 0.2500\n",
            "Epoch 11/100\n",
            "126/126 [==============================] - 33s 262ms/step - loss: 1.3863 - accuracy: 0.2495 - val_loss: 1.3863 - val_accuracy: 0.2500\n",
            "Epoch 1/100\n",
            "126/126 [==============================] - 36s 264ms/step - loss: 1.3863 - accuracy: 0.2441 - val_loss: 1.3863 - val_accuracy: 0.2500\n",
            "Epoch 2/100\n",
            "126/126 [==============================] - 33s 263ms/step - loss: 1.3863 - accuracy: 0.2432 - val_loss: 1.3863 - val_accuracy: 0.2500\n",
            "Epoch 3/100\n",
            "126/126 [==============================] - 33s 260ms/step - loss: 1.3863 - accuracy: 0.2440 - val_loss: 1.3863 - val_accuracy: 0.2500\n",
            "Epoch 4/100\n",
            "126/126 [==============================] - 33s 262ms/step - loss: 1.3863 - accuracy: 0.2456 - val_loss: 1.3863 - val_accuracy: 0.2500\n",
            "Epoch 5/100\n",
            "126/126 [==============================] - 33s 262ms/step - loss: 1.3863 - accuracy: 0.2475 - val_loss: 1.3863 - val_accuracy: 0.2500\n",
            "Epoch 6/100\n",
            "126/126 [==============================] - 33s 259ms/step - loss: 1.3863 - accuracy: 0.2449 - val_loss: 1.3863 - val_accuracy: 0.2500\n",
            "Epoch 7/100\n",
            "126/126 [==============================] - 33s 261ms/step - loss: 1.3863 - accuracy: 0.2484 - val_loss: 1.3863 - val_accuracy: 0.2500\n",
            "Epoch 8/100\n",
            "126/126 [==============================] - 33s 262ms/step - loss: 1.3863 - accuracy: 0.2459 - val_loss: 1.3863 - val_accuracy: 0.2500\n",
            "Epoch 9/100\n",
            "126/126 [==============================] - 33s 262ms/step - loss: 1.3863 - accuracy: 0.2462 - val_loss: 1.3863 - val_accuracy: 0.2500\n",
            "Epoch 10/100\n",
            "126/126 [==============================] - 33s 263ms/step - loss: 1.3863 - accuracy: 0.2440 - val_loss: 1.3863 - val_accuracy: 0.2500\n",
            "Epoch 11/100\n",
            "126/126 [==============================] - 33s 263ms/step - loss: 1.3863 - accuracy: 0.2346 - val_loss: 1.3863 - val_accuracy: 0.2500\n",
            "Epoch 1/100\n",
            "126/126 [==============================] - 35s 264ms/step - loss: 1.3864 - accuracy: 0.2446 - val_loss: 1.3863 - val_accuracy: 0.2500\n",
            "Epoch 2/100\n",
            "126/126 [==============================] - 33s 262ms/step - loss: 1.3864 - accuracy: 0.2384 - val_loss: 1.3863 - val_accuracy: 0.2500\n",
            "Epoch 3/100\n",
            "126/126 [==============================] - 33s 262ms/step - loss: 1.3864 - accuracy: 0.2422 - val_loss: 1.3863 - val_accuracy: 0.2500\n",
            "Epoch 4/100\n",
            "126/126 [==============================] - 33s 263ms/step - loss: 1.3864 - accuracy: 0.2395 - val_loss: 1.3863 - val_accuracy: 0.2500\n",
            "Epoch 5/100\n",
            "126/126 [==============================] - 161s 1s/step - loss: 1.3864 - accuracy: 0.2448 - val_loss: 1.3863 - val_accuracy: 0.2500\n",
            "Epoch 6/100\n",
            "126/126 [==============================] - 32s 253ms/step - loss: 1.3864 - accuracy: 0.2419 - val_loss: 1.3863 - val_accuracy: 0.2500\n",
            "Epoch 7/100\n",
            "126/126 [==============================] - 32s 255ms/step - loss: 1.3864 - accuracy: 0.2381 - val_loss: 1.3863 - val_accuracy: 0.2500\n",
            "Epoch 8/100\n",
            "126/126 [==============================] - 32s 255ms/step - loss: 1.3864 - accuracy: 0.2368 - val_loss: 1.3863 - val_accuracy: 0.2500\n",
            "Epoch 9/100\n",
            "126/126 [==============================] - 32s 256ms/step - loss: 1.3864 - accuracy: 0.2389 - val_loss: 1.3863 - val_accuracy: 0.2500\n",
            "Epoch 10/100\n",
            "126/126 [==============================] - 33s 258ms/step - loss: 1.3864 - accuracy: 0.2457 - val_loss: 1.3863 - val_accuracy: 0.2500\n",
            "Epoch 11/100\n",
            "126/126 [==============================] - 33s 259ms/step - loss: 1.3864 - accuracy: 0.2425 - val_loss: 1.3863 - val_accuracy: 0.2500\n",
            "Epoch 1/100\n",
            "126/126 [==============================] - 35s 262ms/step - loss: 1.3863 - accuracy: 0.2371 - val_loss: 1.3863 - val_accuracy: 0.2500\n",
            "Epoch 2/100\n",
            "126/126 [==============================] - 33s 261ms/step - loss: 1.3863 - accuracy: 0.2410 - val_loss: 1.3863 - val_accuracy: 0.2500\n",
            "Epoch 3/100\n",
            "126/126 [==============================] - 33s 262ms/step - loss: 1.3863 - accuracy: 0.2433 - val_loss: 1.3863 - val_accuracy: 0.2500\n",
            "Epoch 4/100\n",
            "126/126 [==============================] - 33s 262ms/step - loss: 1.3863 - accuracy: 0.2467 - val_loss: 1.3863 - val_accuracy: 0.2500\n",
            "Epoch 5/100\n",
            "126/126 [==============================] - 33s 260ms/step - loss: 1.3863 - accuracy: 0.2483 - val_loss: 1.3863 - val_accuracy: 0.2500\n",
            "Epoch 6/100\n",
            "126/126 [==============================] - 33s 262ms/step - loss: 1.3863 - accuracy: 0.2451 - val_loss: 1.3863 - val_accuracy: 0.2500\n",
            "Epoch 7/100\n",
            "126/126 [==============================] - 33s 262ms/step - loss: 1.3863 - accuracy: 0.2424 - val_loss: 1.3863 - val_accuracy: 0.2500\n",
            "Epoch 8/100\n",
            "126/126 [==============================] - 33s 262ms/step - loss: 1.3863 - accuracy: 0.2457 - val_loss: 1.3863 - val_accuracy: 0.2500\n",
            "Epoch 9/100\n",
            "126/126 [==============================] - 33s 263ms/step - loss: 1.3863 - accuracy: 0.2422 - val_loss: 1.3863 - val_accuracy: 0.2500\n",
            "Epoch 10/100\n",
            "126/126 [==============================] - 33s 263ms/step - loss: 1.3863 - accuracy: 0.2438 - val_loss: 1.3863 - val_accuracy: 0.2500\n",
            "Epoch 11/100\n",
            "126/126 [==============================] - 33s 263ms/step - loss: 1.3863 - accuracy: 0.2476 - val_loss: 1.3863 - val_accuracy: 0.2500\n"
          ]
        }
      ],
      "source": [
        "mejores_metricas = obtener_mejores_metricas(rangos_drop=[0.3,0.4,0.5,0.6,0.7], rangos_neu=[300,400,600], rangos_opt=[\"Adamax\",\"RMSprop\",\"adadelta\"],,callbacks=callbacks2,mod=VGG)"
      ]
    },
    {
      "cell_type": "code",
      "execution_count": null,
      "metadata": {
        "colab": {
          "background_save": true
        },
        "id": "9f_mpff23Vkd",
        "outputId": "f8523da1-13ad-4cc6-d3e6-679e72c2111f"
      },
      "outputs": [
        {
          "data": {
            "text/plain": [
              "array([['0.0', '0.0', '0.0', '0.0'],\n",
              "       ['0.3', '300', 'Adamax', '0.9926470518112183'],\n",
              "       ['0.3', '300', 'adadelta', '0.9852941036224365'],\n",
              "       ['0.3', '400', 'Adamax', '1.0'],\n",
              "       ['0.3', '400', 'RMSprop', '0.9522058963775635'],\n",
              "       ['0.3', '400', 'adadelta', '0.9963235259056091'],\n",
              "       ['0.3', '600', 'Adamax', '1.0']], dtype='<U32')"
            ]
          },
          "execution_count": 42,
          "metadata": {},
          "output_type": "execute_result"
        }
      ],
      "source": [
        "mejores_metricas"
      ]
    },
    {
      "cell_type": "code",
      "execution_count": null,
      "metadata": {
        "colab": {
          "background_save": true
        },
        "id": "yUnnWKrSICTA",
        "outputId": "62d112a2-bd01-45b2-b734-97a9956cd926"
      },
      "outputs": [
        {
          "name": "stdout",
          "output_type": "stream",
          "text": [
            "Tiempo total de  busqueda por rejilla VGG16: 19703.78045153618 Seg\n"
          ]
        }
      ],
      "source": [
        "final=g.time()\n",
        "print(f\"Tiempo total de  busqueda por rejilla VGG16: {final-inicio} Seg\",)"
      ]
    },
    {
      "cell_type": "code",
      "execution_count": null,
      "metadata": {
        "colab": {
          "background_save": true
        },
        "id": "AuTKXQPWjF9N"
      },
      "outputs": [],
      "source": [
        "#guardar los resultados al archivo de txt\n",
        "file = open(Guardar_CNNVGG+\"/resultados_de_busqueda_por_rejilla.txt\", \"w+\")\n",
        "content = str(mejores_metricas)\n",
        "file.write(content)\n",
        "file.close()\n",
        "\n",
        "# Obtener el índice de la fila con el máximo valor de accuracy\n",
        "max_index = np.argmax(mejores_metricas[:, -1])\n",
        "\n",
        "# Obtener los parámetros correspondientes a la fila con el máximo valor de accuracy\n",
        "dropout_max = float(mejores_metricas[max_index, 0])\n",
        "neuronas_max = int(mejores_metricas[max_index, 1])\n",
        "optimizador_max = str(mejores_metricas[max_index, 2])\n",
        "\n",
        "# Recuperamos un modelo CNN estandar con la función VGG() con los parámetros correspondientes al máximo valor de accuracy\n",
        "modelo_VGG = VGG(dropout1=dropout_max,dropout2=dropout_max+0.1,neuronas=neuronas_max,optimizador=optimizador_max)"
      ]
    },
    {
      "cell_type": "code",
      "execution_count": null,
      "metadata": {
        "colab": {
          "background_save": true
        },
        "id": "1ms05oy6mI65"
      },
      "outputs": [],
      "source": [
        "#Entrenamos nuevamente el modelo para obtener las metricas\n",
        "\"\"\"CUANDO EXISTÁN DOS MODELOS ÓPTIMOS CON MISMO ACC: Antes de ejecutar el siguiente código verifique que la carpeta de guardado(Guardar_CNNVGG) esté vacía de lo contrario el modelo\n",
        "y los resultados se mostrarán en funcion del último modelo guardado en lugar del siguiente.\n",
        "\"\"\"\n",
        "historyvgg16 = modelo_VGG.fit(train_dataset, epochs=100, validation_data=validation_dataset, callbacks=callbacks2)"
      ]
    },
    {
      "cell_type": "code",
      "execution_count": null,
      "metadata": {
        "colab": {
          "background_save": true
        },
        "id": "luKIYE_rmSfq",
        "outputId": "6af8f6a3-d1f7-436b-9380-7485d789d65a"
      },
      "outputs": [
        {
          "name": "stdout",
          "output_type": "stream",
          "text": [
            "27/27 [==============================] - 3s 109ms/step - loss: 0.0256 - accuracy: 0.9888\n",
            "Test ACC : 0.989\n"
          ]
        }
      ],
      "source": [
        "#EVALUACION FINAL DEL MODELO VGG para determinar su ACC global\n",
        "\n",
        "test_model_vgg = keras.models.load_model(Guardar_CNNVGG)\n",
        "test_loss, test_acc = test_model_vgg.evaluate(test_dataset)\n",
        "print(f\"Test ACC : {test_acc:.3f}\")\n"
      ]
    },
    {
      "cell_type": "code",
      "execution_count": null,
      "metadata": {
        "colab": {
          "background_save": true
        },
        "id": "bbPJNUXHmgFO"
      },
      "outputs": [],
      "source": [
        "graficar_curva_aprendizaje(historyvgg16,plt=plt)\n",
        "#la grafica salió rara porque no se entrenó correctamente, pero el modelo entrenado se cargó desde el archivo."
      ]
    },
    {
      "cell_type": "code",
      "execution_count": null,
      "metadata": {
        "colab": {
          "background_save": true
        },
        "id": "4DnyaQkamgFO",
        "outputId": "457f1833-fff4-445f-a0d0-cb31d3c0225f"
      },
      "outputs": [
        {
          "name": "stdout",
          "output_type": "stream",
          "text": [
            "27/27 [==============================] - 2s 51ms/step\n"
          ]
        },
        {
          "data": {
            "image/png": "[encoded data removed]",
            "text/plain": [
              "<Figure size 900x900 with 2 Axes>"
            ]
          },
          "metadata": {},
          "output_type": "display_data"
        }
      ],
      "source": [
        "actual, predicted = get_actual_predicted_labels(dataset=test_dataset,model=test_model_vgg)\n",
        "graficar_matriz_confusion(actual, predicted, test_dataset.class_names)\n",
        "#print(actual,predicted)"
      ]
    },
    {
      "cell_type": "code",
      "execution_count": null,
      "metadata": {
        "colab": {
          "background_save": true
        },
        "id": "ryOH7Na3mgFO",
        "outputId": "db20acb8-f75a-41ef-b35c-3b434021226d"
      },
      "outputs": [
        {
          "name": "stdout",
          "output_type": "stream",
          "text": [
            "Resultado F1_Score: {'angular_leafspot': 0.9852941176470589, 'hojas_sanas': 1.0, 'leaf_spot': 0.9770992366412213, 'powdery_mildew': 0.9925925925925926}\n"
          ]
        }
      ],
      "source": [
        "precision, recall = calcular_precision_recall(actual, predicted, test_dataset.class_names)\n",
        "resultadosf1=calcular_f1_score(precision, recall)\n",
        "print(\"Resultado Precisión: {}\".format(precision))\n",
        "print(\"Resultado Recall: {}\".format( recall))\n",
        "print(\"Resultado F1_Score: {}\".format(resultadosf1))"
      ]
    },
    {
      "cell_type": "code",
      "execution_count": null,
      "metadata": {
        "colab": {
          "background_save": true
        },
        "id": "nLyprAYsmgFO",
        "outputId": "6b81c116-f26c-4105-926a-d4bbfac49166"
      },
      "outputs": [
        {
          "name": "stdout",
          "output_type": "stream",
          "text": [
            "Promedio: 0.9887464867202183\n"
          ]
        }
      ],
      "source": [
        "valores = list(resultadosf1.values())\n",
        "promedio = statistics.mean(valores)\n",
        "print(\"F1macro:\", promedio)"
      ]
    },
    {
      "cell_type": "markdown",
      "metadata": {
        "id": "h3rDA1TAp_jn"
      },
      "source": [
        "#ENTRENAMIENTO DEL MODELO CNN-MobileNetV2"
      ]
    },
    {
      "cell_type": "code",
      "execution_count": null,
      "metadata": {
        "id": "5DUWvaBHIa3v"
      },
      "outputs": [],
      "source": [
        "incio=g.time()"
      ]
    },
    {
      "cell_type": "code",
      "execution_count": null,
      "metadata": {
        "colab": {
          "base_uri": "https://localhost:8080/"
        },
        "id": "zDFTpI-6qCoa",
        "outputId": "6111336d-2953-45e9-f7b4-16159e67c4ca"
      },
      "outputs": [
        {
          "name": "stdout",
          "output_type": "stream",
          "text": [
            "Model: \"mobilenetv2_1.00_224\"\n",
            "__________________________________________________________________________________________________\n",
            " Layer (type)                   Output Shape         Param #     Connected to                     \n",
            "==================================================================================================\n",
            " input_3 (InputLayer)           [(None, 224, 224, 3  0           []                               \n",
            "                                )]                                                                \n",
            "                                                                                                  \n",
            " Conv1 (Conv2D)                 (None, 112, 112, 32  864         ['input_3[0][0]']                \n",
            "                                )                                                                 \n",
            "                                                                                                  \n",
            " bn_Conv1 (BatchNormalization)  (None, 112, 112, 32  128         ['Conv1[0][0]']                  \n",
            "                                )                                                                 \n",
            "                                                                                                  \n",
            " Conv1_relu (ReLU)              (None, 112, 112, 32  0           ['bn_Conv1[0][0]']               \n",
            "                                )                                                                 \n",
            "                                                                                                  \n",
            " expanded_conv_depthwise (Depth  (None, 112, 112, 32  288        ['Conv1_relu[0][0]']             \n",
            " wiseConv2D)                    )                                                                 \n",
            "                                                                                                  \n",
            " expanded_conv_depthwise_BN (Ba  (None, 112, 112, 32  128        ['expanded_conv_depthwise[0][0]']\n",
            " tchNormalization)              )                                                                 \n",
            "                                                                                                  \n",
            " expanded_conv_depthwise_relu (  (None, 112, 112, 32  0          ['expanded_conv_depthwise_BN[0][0\n",
            " ReLU)                          )                                ]']                              \n",
            "                                                                                                  \n",
            " expanded_conv_project (Conv2D)  (None, 112, 112, 16  512        ['expanded_conv_depthwise_relu[0]\n",
            "                                )                                [0]']                            \n",
            "                                                                                                  \n",
            " expanded_conv_project_BN (Batc  (None, 112, 112, 16  64         ['expanded_conv_project[0][0]']  \n",
            " hNormalization)                )                                                                 \n",
            "                                                                                                  \n",
            " block_1_expand (Conv2D)        (None, 112, 112, 96  1536        ['expanded_conv_project_BN[0][0]'\n",
            "                                )                                ]                                \n",
            "                                                                                                  \n",
            " block_1_expand_BN (BatchNormal  (None, 112, 112, 96  384        ['block_1_expand[0][0]']         \n",
            " ization)                       )                                                                 \n",
            "                                                                                                  \n",
            " block_1_expand_relu (ReLU)     (None, 112, 112, 96  0           ['block_1_expand_BN[0][0]']      \n",
            "                                )                                                                 \n",
            "                                                                                                  \n",
            " block_1_pad (ZeroPadding2D)    (None, 113, 113, 96  0           ['block_1_expand_relu[0][0]']    \n",
            "                                )                                                                 \n",
            "                                                                                                  \n",
            " block_1_depthwise (DepthwiseCo  (None, 56, 56, 96)  864         ['block_1_pad[0][0]']            \n",
            " nv2D)                                                                                            \n",
            "                                                                                                  \n",
            " block_1_depthwise_BN (BatchNor  (None, 56, 56, 96)  384         ['block_1_depthwise[0][0]']      \n",
            " malization)                                                                                      \n",
            "                                                                                                  \n",
            " block_1_depthwise_relu (ReLU)  (None, 56, 56, 96)   0           ['block_1_depthwise_BN[0][0]']   \n",
            "                                                                                                  \n",
            " block_1_project (Conv2D)       (None, 56, 56, 24)   2304        ['block_1_depthwise_relu[0][0]'] \n",
            "                                                                                                  \n",
            " block_1_project_BN (BatchNorma  (None, 56, 56, 24)  96          ['block_1_project[0][0]']        \n",
            " lization)                                                                                        \n",
            "                                                                                                  \n",
            " block_2_expand (Conv2D)        (None, 56, 56, 144)  3456        ['block_1_project_BN[0][0]']     \n",
            "                                                                                                  \n",
            " block_2_expand_BN (BatchNormal  (None, 56, 56, 144)  576        ['block_2_expand[0][0]']         \n",
            " ization)                                                                                         \n",
            "                                                                                                  \n",
            " block_2_expand_relu (ReLU)     (None, 56, 56, 144)  0           ['block_2_expand_BN[0][0]']      \n",
            "                                                                                                  \n",
            " block_2_depthwise (DepthwiseCo  (None, 56, 56, 144)  1296       ['block_2_expand_relu[0][0]']    \n",
            " nv2D)                                                                                            \n",
            "                                                                                                  \n",
            " block_2_depthwise_BN (BatchNor  (None, 56, 56, 144)  576        ['block_2_depthwise[0][0]']      \n",
            " malization)                                                                                      \n",
            "                                                                                                  \n",
            " block_2_depthwise_relu (ReLU)  (None, 56, 56, 144)  0           ['block_2_depthwise_BN[0][0]']   \n",
            "                                                                                                  \n",
            " block_2_project (Conv2D)       (None, 56, 56, 24)   3456        ['block_2_depthwise_relu[0][0]'] \n",
            "                                                                                                  \n",
            " block_2_project_BN (BatchNorma  (None, 56, 56, 24)  96          ['block_2_project[0][0]']        \n",
            " lization)                                                                                        \n",
            "                                                                                                  \n",
            " block_2_add (Add)              (None, 56, 56, 24)   0           ['block_1_project_BN[0][0]',     \n",
            "                                                                  'block_2_project_BN[0][0]']     \n",
            "                                                                                                  \n",
            " block_3_expand (Conv2D)        (None, 56, 56, 144)  3456        ['block_2_add[0][0]']            \n",
            "                                                                                                  \n",
            " block_3_expand_BN (BatchNormal  (None, 56, 56, 144)  576        ['block_3_expand[0][0]']         \n",
            " ization)                                                                                         \n",
            "                                                                                                  \n",
            " block_3_expand_relu (ReLU)     (None, 56, 56, 144)  0           ['block_3_expand_BN[0][0]']      \n",
            "                                                                                                  \n",
            " block_3_pad (ZeroPadding2D)    (None, 57, 57, 144)  0           ['block_3_expand_relu[0][0]']    \n",
            "                                                                                                  \n",
            " block_3_depthwise (DepthwiseCo  (None, 28, 28, 144)  1296       ['block_3_pad[0][0]']            \n",
            " nv2D)                                                                                            \n",
            "                                                                                                  \n",
            " block_3_depthwise_BN (BatchNor  (None, 28, 28, 144)  576        ['block_3_depthwise[0][0]']      \n",
            " malization)                                                                                      \n",
            "                                                                                                  \n",
            " block_3_depthwise_relu (ReLU)  (None, 28, 28, 144)  0           ['block_3_depthwise_BN[0][0]']   \n",
            "                                                                                                  \n",
            " block_3_project (Conv2D)       (None, 28, 28, 32)   4608        ['block_3_depthwise_relu[0][0]'] \n",
            "                                                                                                  \n",
            " block_3_project_BN (BatchNorma  (None, 28, 28, 32)  128         ['block_3_project[0][0]']        \n",
            " lization)                                                                                        \n",
            "                                                                                                  \n",
            " block_4_expand (Conv2D)        (None, 28, 28, 192)  6144        ['block_3_project_BN[0][0]']     \n",
            "                                                                                                  \n",
            " block_4_expand_BN (BatchNormal  (None, 28, 28, 192)  768        ['block_4_expand[0][0]']         \n",
            " ization)                                                                                         \n",
            "                                                                                                  \n",
            " block_4_expand_relu (ReLU)     (None, 28, 28, 192)  0           ['block_4_expand_BN[0][0]']      \n",
            "                                                                                                  \n",
            " block_4_depthwise (DepthwiseCo  (None, 28, 28, 192)  1728       ['block_4_expand_relu[0][0]']    \n",
            " nv2D)                                                                                            \n",
            "                                                                                                  \n",
            " block_4_depthwise_BN (BatchNor  (None, 28, 28, 192)  768        ['block_4_depthwise[0][0]']      \n",
            " malization)                                                                                      \n",
            "                                                                                                  \n",
            " block_4_depthwise_relu (ReLU)  (None, 28, 28, 192)  0           ['block_4_depthwise_BN[0][0]']   \n",
            "                                                                                                  \n",
            " block_4_project (Conv2D)       (None, 28, 28, 32)   6144        ['block_4_depthwise_relu[0][0]'] \n",
            "                                                                                                  \n",
            " block_4_project_BN (BatchNorma  (None, 28, 28, 32)  128         ['block_4_project[0][0]']        \n",
            " lization)                                                                                        \n",
            "                                                                                                  \n",
            " block_4_add (Add)              (None, 28, 28, 32)   0           ['block_3_project_BN[0][0]',     \n",
            "                                                                  'block_4_project_BN[0][0]']     \n",
            "                                                                                                  \n",
            " block_5_expand (Conv2D)        (None, 28, 28, 192)  6144        ['block_4_add[0][0]']            \n",
            "                                                                                                  \n",
            " block_5_expand_BN (BatchNormal  (None, 28, 28, 192)  768        ['block_5_expand[0][0]']         \n",
            " ization)                                                                                         \n",
            "                                                                                                  \n",
            " block_5_expand_relu (ReLU)     (None, 28, 28, 192)  0           ['block_5_expand_BN[0][0]']      \n",
            "                                                                                                  \n",
            " block_5_depthwise (DepthwiseCo  (None, 28, 28, 192)  1728       ['block_5_expand_relu[0][0]']    \n",
            " nv2D)                                                                                            \n",
            "                                                                                                  \n",
            " block_5_depthwise_BN (BatchNor  (None, 28, 28, 192)  768        ['block_5_depthwise[0][0]']      \n",
            " malization)                                                                                      \n",
            "                                                                                                  \n",
            " block_5_depthwise_relu (ReLU)  (None, 28, 28, 192)  0           ['block_5_depthwise_BN[0][0]']   \n",
            "                                                                                                  \n",
            " block_5_project (Conv2D)       (None, 28, 28, 32)   6144        ['block_5_depthwise_relu[0][0]'] \n",
            "                                                                                                  \n",
            " block_5_project_BN (BatchNorma  (None, 28, 28, 32)  128         ['block_5_project[0][0]']        \n",
            " lization)                                                                                        \n",
            "                                                                                                  \n",
            " block_5_add (Add)              (None, 28, 28, 32)   0           ['block_4_add[0][0]',            \n",
            "                                                                  'block_5_project_BN[0][0]']     \n",
            "                                                                                                  \n",
            " block_6_expand (Conv2D)        (None, 28, 28, 192)  6144        ['block_5_add[0][0]']            \n",
            "                                                                                                  \n",
            " block_6_expand_BN (BatchNormal  (None, 28, 28, 192)  768        ['block_6_expand[0][0]']         \n",
            " ization)                                                                                         \n",
            "                                                                                                  \n",
            " block_6_expand_relu (ReLU)     (None, 28, 28, 192)  0           ['block_6_expand_BN[0][0]']      \n",
            "                                                                                                  \n",
            " block_6_pad (ZeroPadding2D)    (None, 29, 29, 192)  0           ['block_6_expand_relu[0][0]']    \n",
            "                                                                                                  \n",
            " block_6_depthwise (DepthwiseCo  (None, 14, 14, 192)  1728       ['block_6_pad[0][0]']            \n",
            " nv2D)                                                                                            \n",
            "                                                                                                  \n",
            " block_6_depthwise_BN (BatchNor  (None, 14, 14, 192)  768        ['block_6_depthwise[0][0]']      \n",
            " malization)                                                                                      \n",
            "                                                                                                  \n",
            " block_6_depthwise_relu (ReLU)  (None, 14, 14, 192)  0           ['block_6_depthwise_BN[0][0]']   \n",
            "                                                                                                  \n",
            " block_6_project (Conv2D)       (None, 14, 14, 64)   12288       ['block_6_depthwise_relu[0][0]'] \n",
            "                                                                                                  \n",
            " block_6_project_BN (BatchNorma  (None, 14, 14, 64)  256         ['block_6_project[0][0]']        \n",
            " lization)                                                                                        \n",
            "                                                                                                  \n",
            " block_7_expand (Conv2D)        (None, 14, 14, 384)  24576       ['block_6_project_BN[0][0]']     \n",
            "                                                                                                  \n",
            " block_7_expand_BN (BatchNormal  (None, 14, 14, 384)  1536       ['block_7_expand[0][0]']         \n",
            " ization)                                                                                         \n",
            "                                                                                                  \n",
            " block_7_expand_relu (ReLU)     (None, 14, 14, 384)  0           ['block_7_expand_BN[0][0]']      \n",
            "                                                                                                  \n",
            " block_7_depthwise (DepthwiseCo  (None, 14, 14, 384)  3456       ['block_7_expand_relu[0][0]']    \n",
            " nv2D)                                                                                            \n",
            "                                                                                                  \n",
            " block_7_depthwise_BN (BatchNor  (None, 14, 14, 384)  1536       ['block_7_depthwise[0][0]']      \n",
            " malization)                                                                                      \n",
            "                                                                                                  \n",
            " block_7_depthwise_relu (ReLU)  (None, 14, 14, 384)  0           ['block_7_depthwise_BN[0][0]']   \n",
            "                                                                                                  \n",
            " block_7_project (Conv2D)       (None, 14, 14, 64)   24576       ['block_7_depthwise_relu[0][0]'] \n",
            "                                                                                                  \n",
            " block_7_project_BN (BatchNorma  (None, 14, 14, 64)  256         ['block_7_project[0][0]']        \n",
            " lization)                                                                                        \n",
            "                                                                                                  \n",
            " block_7_add (Add)              (None, 14, 14, 64)   0           ['block_6_project_BN[0][0]',     \n",
            "                                                                  'block_7_project_BN[0][0]']     \n",
            "                                                                                                  \n",
            " block_8_expand (Conv2D)        (None, 14, 14, 384)  24576       ['block_7_add[0][0]']            \n",
            "                                                                                                  \n",
            " block_8_expand_BN (BatchNormal  (None, 14, 14, 384)  1536       ['block_8_expand[0][0]']         \n",
            " ization)                                                                                         \n",
            "                                                                                                  \n",
            " block_8_expand_relu (ReLU)     (None, 14, 14, 384)  0           ['block_8_expand_BN[0][0]']      \n",
            "                                                                                                  \n",
            " block_8_depthwise (DepthwiseCo  (None, 14, 14, 384)  3456       ['block_8_expand_relu[0][0]']    \n",
            " nv2D)                                                                                            \n",
            "                                                                                                  \n",
            " block_8_depthwise_BN (BatchNor  (None, 14, 14, 384)  1536       ['block_8_depthwise[0][0]']      \n",
            " malization)                                                                                      \n",
            "                                                                                                  \n",
            " block_8_depthwise_relu (ReLU)  (None, 14, 14, 384)  0           ['block_8_depthwise_BN[0][0]']   \n",
            "                                                                                                  \n",
            " block_8_project (Conv2D)       (None, 14, 14, 64)   24576       ['block_8_depthwise_relu[0][0]'] \n",
            "                                                                                                  \n",
            " block_8_project_BN (BatchNorma  (None, 14, 14, 64)  256         ['block_8_project[0][0]']        \n",
            " lization)                                                                                        \n",
            "                                                                                                  \n",
            " block_8_add (Add)              (None, 14, 14, 64)   0           ['block_7_add[0][0]',            \n",
            "                                                                  'block_8_project_BN[0][0]']     \n",
            "                                                                                                  \n",
            " block_9_expand (Conv2D)        (None, 14, 14, 384)  24576       ['block_8_add[0][0]']            \n",
            "                                                                                                  \n",
            " block_9_expand_BN (BatchNormal  (None, 14, 14, 384)  1536       ['block_9_expand[0][0]']         \n",
            " ization)                                                                                         \n",
            "                                                                                                  \n",
            " block_9_expand_relu (ReLU)     (None, 14, 14, 384)  0           ['block_9_expand_BN[0][0]']      \n",
            "                                                                                                  \n",
            " block_9_depthwise (DepthwiseCo  (None, 14, 14, 384)  3456       ['block_9_expand_relu[0][0]']    \n",
            " nv2D)                                                                                            \n",
            "                                                                                                  \n",
            " block_9_depthwise_BN (BatchNor  (None, 14, 14, 384)  1536       ['block_9_depthwise[0][0]']      \n",
            " malization)                                                                                      \n",
            "                                                                                                  \n",
            " block_9_depthwise_relu (ReLU)  (None, 14, 14, 384)  0           ['block_9_depthwise_BN[0][0]']   \n",
            "                                                                                                  \n",
            " block_9_project (Conv2D)       (None, 14, 14, 64)   24576       ['block_9_depthwise_relu[0][0]'] \n",
            "                                                                                                  \n",
            " block_9_project_BN (BatchNorma  (None, 14, 14, 64)  256         ['block_9_project[0][0]']        \n",
            " lization)                                                                                        \n",
            "                                                                                                  \n",
            " block_9_add (Add)              (None, 14, 14, 64)   0           ['block_8_add[0][0]',            \n",
            "                                                                  'block_9_project_BN[0][0]']     \n",
            "                                                                                                  \n",
            " block_10_expand (Conv2D)       (None, 14, 14, 384)  24576       ['block_9_add[0][0]']            \n",
            "                                                                                                  \n",
            " block_10_expand_BN (BatchNorma  (None, 14, 14, 384)  1536       ['block_10_expand[0][0]']        \n",
            " lization)                                                                                        \n",
            "                                                                                                  \n",
            " block_10_expand_relu (ReLU)    (None, 14, 14, 384)  0           ['block_10_expand_BN[0][0]']     \n",
            "                                                                                                  \n",
            " block_10_depthwise (DepthwiseC  (None, 14, 14, 384)  3456       ['block_10_expand_relu[0][0]']   \n",
            " onv2D)                                                                                           \n",
            "                                                                                                  \n",
            " block_10_depthwise_BN (BatchNo  (None, 14, 14, 384)  1536       ['block_10_depthwise[0][0]']     \n",
            " rmalization)                                                                                     \n",
            "                                                                                                  \n",
            " block_10_depthwise_relu (ReLU)  (None, 14, 14, 384)  0          ['block_10_depthwise_BN[0][0]']  \n",
            "                                                                                                  \n",
            " block_10_project (Conv2D)      (None, 14, 14, 96)   36864       ['block_10_depthwise_relu[0][0]']\n",
            "                                                                                                  \n",
            " block_10_project_BN (BatchNorm  (None, 14, 14, 96)  384         ['block_10_project[0][0]']       \n",
            " alization)                                                                                       \n",
            "                                                                                                  \n",
            " block_11_expand (Conv2D)       (None, 14, 14, 576)  55296       ['block_10_project_BN[0][0]']    \n",
            "                                                                                                  \n",
            " block_11_expand_BN (BatchNorma  (None, 14, 14, 576)  2304       ['block_11_expand[0][0]']        \n",
            " lization)                                                                                        \n",
            "                                                                                                  \n",
            " block_11_expand_relu (ReLU)    (None, 14, 14, 576)  0           ['block_11_expand_BN[0][0]']     \n",
            "                                                                                                  \n",
            " block_11_depthwise (DepthwiseC  (None, 14, 14, 576)  5184       ['block_11_expand_relu[0][0]']   \n",
            " onv2D)                                                                                           \n",
            "                                                                                                  \n",
            " block_11_depthwise_BN (BatchNo  (None, 14, 14, 576)  2304       ['block_11_depthwise[0][0]']     \n",
            " rmalization)                                                                                     \n",
            "                                                                                                  \n",
            " block_11_depthwise_relu (ReLU)  (None, 14, 14, 576)  0          ['block_11_depthwise_BN[0][0]']  \n",
            "                                                                                                  \n",
            " block_11_project (Conv2D)      (None, 14, 14, 96)   55296       ['block_11_depthwise_relu[0][0]']\n",
            "                                                                                                  \n",
            " block_11_project_BN (BatchNorm  (None, 14, 14, 96)  384         ['block_11_project[0][0]']       \n",
            " alization)                                                                                       \n",
            "                                                                                                  \n",
            " block_11_add (Add)             (None, 14, 14, 96)   0           ['block_10_project_BN[0][0]',    \n",
            "                                                                  'block_11_project_BN[0][0]']    \n",
            "                                                                                                  \n",
            " block_12_expand (Conv2D)       (None, 14, 14, 576)  55296       ['block_11_add[0][0]']           \n",
            "                                                                                                  \n",
            " block_12_expand_BN (BatchNorma  (None, 14, 14, 576)  2304       ['block_12_expand[0][0]']        \n",
            " lization)                                                                                        \n",
            "                                                                                                  \n",
            " block_12_expand_relu (ReLU)    (None, 14, 14, 576)  0           ['block_12_expand_BN[0][0]']     \n",
            "                                                                                                  \n",
            " block_12_depthwise (DepthwiseC  (None, 14, 14, 576)  5184       ['block_12_expand_relu[0][0]']   \n",
            " onv2D)                                                                                           \n",
            "                                                                                                  \n",
            " block_12_depthwise_BN (BatchNo  (None, 14, 14, 576)  2304       ['block_12_depthwise[0][0]']     \n",
            " rmalization)                                                                                     \n",
            "                                                                                                  \n",
            " block_12_depthwise_relu (ReLU)  (None, 14, 14, 576)  0          ['block_12_depthwise_BN[0][0]']  \n",
            "                                                                                                  \n",
            " block_12_project (Conv2D)      (None, 14, 14, 96)   55296       ['block_12_depthwise_relu[0][0]']\n",
            "                                                                                                  \n",
            " block_12_project_BN (BatchNorm  (None, 14, 14, 96)  384         ['block_12_project[0][0]']       \n",
            " alization)                                                                                       \n",
            "                                                                                                  \n",
            " block_12_add (Add)             (None, 14, 14, 96)   0           ['block_11_add[0][0]',           \n",
            "                                                                  'block_12_project_BN[0][0]']    \n",
            "                                                                                                  \n",
            " block_13_expand (Conv2D)       (None, 14, 14, 576)  55296       ['block_12_add[0][0]']           \n",
            "                                                                                                  \n",
            " block_13_expand_BN (BatchNorma  (None, 14, 14, 576)  2304       ['block_13_expand[0][0]']        \n",
            " lization)                                                                                        \n",
            "                                                                                                  \n",
            " block_13_expand_relu (ReLU)    (None, 14, 14, 576)  0           ['block_13_expand_BN[0][0]']     \n",
            "                                                                                                  \n",
            " block_13_pad (ZeroPadding2D)   (None, 15, 15, 576)  0           ['block_13_expand_relu[0][0]']   \n",
            "                                                                                                  \n",
            " block_13_depthwise (DepthwiseC  (None, 7, 7, 576)   5184        ['block_13_pad[0][0]']           \n",
            " onv2D)                                                                                           \n",
            "                                                                                                  \n",
            " block_13_depthwise_BN (BatchNo  (None, 7, 7, 576)   2304        ['block_13_depthwise[0][0]']     \n",
            " rmalization)                                                                                     \n",
            "                                                                                                  \n",
            " block_13_depthwise_relu (ReLU)  (None, 7, 7, 576)   0           ['block_13_depthwise_BN[0][0]']  \n",
            "                                                                                                  \n",
            " block_13_project (Conv2D)      (None, 7, 7, 160)    92160       ['block_13_depthwise_relu[0][0]']\n",
            "                                                                                                  \n",
            " block_13_project_BN (BatchNorm  (None, 7, 7, 160)   640         ['block_13_project[0][0]']       \n",
            " alization)                                                                                       \n",
            "                                                                                                  \n",
            " block_14_expand (Conv2D)       (None, 7, 7, 960)    153600      ['block_13_project_BN[0][0]']    \n",
            "                                                                                                  \n",
            " block_14_expand_BN (BatchNorma  (None, 7, 7, 960)   3840        ['block_14_expand[0][0]']        \n",
            " lization)                                                                                        \n",
            "                                                                                                  \n",
            " block_14_expand_relu (ReLU)    (None, 7, 7, 960)    0           ['block_14_expand_BN[0][0]']     \n",
            "                                                                                                  \n",
            " block_14_depthwise (DepthwiseC  (None, 7, 7, 960)   8640        ['block_14_expand_relu[0][0]']   \n",
            " onv2D)                                                                                           \n",
            "                                                                                                  \n",
            " block_14_depthwise_BN (BatchNo  (None, 7, 7, 960)   3840        ['block_14_depthwise[0][0]']     \n",
            " rmalization)                                                                                     \n",
            "                                                                                                  \n",
            " block_14_depthwise_relu (ReLU)  (None, 7, 7, 960)   0           ['block_14_depthwise_BN[0][0]']  \n",
            "                                                                                                  \n",
            " block_14_project (Conv2D)      (None, 7, 7, 160)    153600      ['block_14_depthwise_relu[0][0]']\n",
            "                                                                                                  \n",
            " block_14_project_BN (BatchNorm  (None, 7, 7, 160)   640         ['block_14_project[0][0]']       \n",
            " alization)                                                                                       \n",
            "                                                                                                  \n",
            " block_14_add (Add)             (None, 7, 7, 160)    0           ['block_13_project_BN[0][0]',    \n",
            "                                                                  'block_14_project_BN[0][0]']    \n",
            "                                                                                                  \n",
            " block_15_expand (Conv2D)       (None, 7, 7, 960)    153600      ['block_14_add[0][0]']           \n",
            "                                                                                                  \n",
            " block_15_expand_BN (BatchNorma  (None, 7, 7, 960)   3840        ['block_15_expand[0][0]']        \n",
            " lization)                                                                                        \n",
            "                                                                                                  \n",
            " block_15_expand_relu (ReLU)    (None, 7, 7, 960)    0           ['block_15_expand_BN[0][0]']     \n",
            "                                                                                                  \n",
            " block_15_depthwise (DepthwiseC  (None, 7, 7, 960)   8640        ['block_15_expand_relu[0][0]']   \n",
            " onv2D)                                                                                           \n",
            "                                                                                                  \n",
            " block_15_depthwise_BN (BatchNo  (None, 7, 7, 960)   3840        ['block_15_depthwise[0][0]']     \n",
            " rmalization)                                                                                     \n",
            "                                                                                                  \n",
            " block_15_depthwise_relu (ReLU)  (None, 7, 7, 960)   0           ['block_15_depthwise_BN[0][0]']  \n",
            "                                                                                                  \n",
            " block_15_project (Conv2D)      (None, 7, 7, 160)    153600      ['block_15_depthwise_relu[0][0]']\n",
            "                                                                                                  \n",
            " block_15_project_BN (BatchNorm  (None, 7, 7, 160)   640         ['block_15_project[0][0]']       \n",
            " alization)                                                                                       \n",
            "                                                                                                  \n",
            " block_15_add (Add)             (None, 7, 7, 160)    0           ['block_14_add[0][0]',           \n",
            "                                                                  'block_15_project_BN[0][0]']    \n",
            "                                                                                                  \n",
            " block_16_expand (Conv2D)       (None, 7, 7, 960)    153600      ['block_15_add[0][0]']           \n",
            "                                                                                                  \n",
            " block_16_expand_BN (BatchNorma  (None, 7, 7, 960)   3840        ['block_16_expand[0][0]']        \n",
            " lization)                                                                                        \n",
            "                                                                                                  \n",
            " block_16_expand_relu (ReLU)    (None, 7, 7, 960)    0           ['block_16_expand_BN[0][0]']     \n",
            "                                                                                                  \n",
            " block_16_depthwise (DepthwiseC  (None, 7, 7, 960)   8640        ['block_16_expand_relu[0][0]']   \n",
            " onv2D)                                                                                           \n",
            "                                                                                                  \n",
            " block_16_depthwise_BN (BatchNo  (None, 7, 7, 960)   3840        ['block_16_depthwise[0][0]']     \n",
            " rmalization)                                                                                     \n",
            "                                                                                                  \n",
            " block_16_depthwise_relu (ReLU)  (None, 7, 7, 960)   0           ['block_16_depthwise_BN[0][0]']  \n",
            "                                                                                                  \n",
            " block_16_project (Conv2D)      (None, 7, 7, 320)    307200      ['block_16_depthwise_relu[0][0]']\n",
            "                                                                                                  \n",
            " block_16_project_BN (BatchNorm  (None, 7, 7, 320)   1280        ['block_16_project[0][0]']       \n",
            " alization)                                                                                       \n",
            "                                                                                                  \n",
            " Conv_1 (Conv2D)                (None, 7, 7, 1280)   409600      ['block_16_project_BN[0][0]']    \n",
            "                                                                                                  \n",
            " Conv_1_bn (BatchNormalization)  (None, 7, 7, 1280)  5120        ['Conv_1[0][0]']                 \n",
            "                                                                                                  \n",
            " out_relu (ReLU)                (None, 7, 7, 1280)   0           ['Conv_1_bn[0][0]']              \n",
            "                                                                                                  \n",
            "==================================================================================================\n",
            "Total params: 2,257,984\n",
            "Trainable params: 2,223,872\n",
            "Non-trainable params: 34,112\n",
            "__________________________________________________________________________________________________\n"
          ]
        }
      ],
      "source": [
        "#%% BASE COVOLUCIONAL MobileNet\n",
        "\n",
        "conv_base2 = tf.keras.applications.MobileNetV2(\n",
        "weights=\"imagenet\",\n",
        "include_top=False,\n",
        "input_shape=(dst_size[0],dst_size[0], 3))\n",
        "conv_base2.trainable=True\n",
        "conv_base2.summary()"
      ]
    },
    {
      "cell_type": "code",
      "execution_count": null,
      "metadata": {
        "colab": {
          "base_uri": "https://localhost:8080/"
        },
        "id": "LoJ9Y4v_qUdU",
        "outputId": "bc8ced6e-5cc8-497f-92e1-5c2833a68135"
      },
      "outputs": [
        {
          "name": "stdout",
          "output_type": "stream",
          "text": [
            "Conv1 True\n",
            "expanded_conv_project True\n",
            "block_1_expand True\n",
            "block_1_project True\n",
            "block_2_expand True\n",
            "block_2_project True\n",
            "block_3_expand True\n",
            "block_3_project True\n",
            "block_4_expand True\n",
            "block_4_project True\n",
            "block_5_expand True\n",
            "block_5_project True\n",
            "block_6_expand True\n",
            "block_6_project True\n",
            "block_7_expand True\n",
            "block_7_project True\n",
            "block_8_expand True\n",
            "block_8_project True\n",
            "block_9_expand True\n",
            "block_9_project True\n",
            "block_10_expand True\n",
            "block_10_project True\n",
            "block_11_expand True\n",
            "block_11_project True\n",
            "block_12_expand True\n",
            "block_12_project True\n",
            "block_13_expand True\n",
            "block_13_project True\n",
            "block_14_expand True\n",
            "block_14_project True\n",
            "block_15_expand True\n",
            "block_15_project True\n",
            "block_16_expand True\n",
            "block_16_project True\n",
            "Conv_1 True\n"
          ]
        }
      ],
      "source": [
        "#verificar si las capas  finalesson entrenables\n",
        "\n",
        "for layer in conv_base2.layers:\n",
        "  if isinstance(layer, keras.layers.Conv2D):\n",
        "    print(layer.name, layer.trainable)"
      ]
    },
    {
      "cell_type": "code",
      "execution_count": null,
      "metadata": {
        "colab": {
          "base_uri": "https://localhost:8080/"
        },
        "id": "pocPDAMuqhTB",
        "outputId": "de2f4130-2a96-460b-ee47-38210ae91c22"
      },
      "outputs": [
        {
          "name": "stdout",
          "output_type": "stream",
          "text": [
            "Found 6300 files belonging to 4 classes.\n",
            "Found 272 files belonging to 4 classes.\n",
            "Found 268 files belonging to 4 classes.\n"
          ]
        }
      ],
      "source": [
        "train_dataset = image_dataset_from_directory(\n",
        "    train_dir,\n",
        "    image_size=dst_size,\n",
        "    batch_size=50,\n",
        "    seed=5,\n",
        "    label_mode=\"categorical\",\n",
        ")\n",
        "\n",
        "\n",
        "validation_dataset = image_dataset_from_directory(\n",
        "    validation_dir,\n",
        "    image_size=dst_size,\n",
        "    batch_size=10,\n",
        "    seed=5,\n",
        "    label_mode=\"categorical\",\n",
        ")\n",
        "\n",
        "\n",
        "test_dataset = image_dataset_from_directory(\n",
        "    test_dir,\n",
        "    image_size=dst_size,\n",
        "    batch_size=10,\n",
        "    label_mode=\"categorical\",\n",
        "    shuffle=False\n",
        ")"
      ]
    },
    {
      "cell_type": "code",
      "execution_count": null,
      "metadata": {
        "id": "xY2cT7H7qZOy"
      },
      "outputs": [],
      "source": [
        "#MODELO DE LA RED CON MobileNetv2\n",
        "def MobileNet(dropout1=0.5,dropout2=0.6,activacion=\"softmax\",perdida=\"categorical_crossentropy\",metrica=\"accuracy\",neuronas=256,optimizador=\"Adamax\",mobile=conv_base2):\n",
        "\n",
        "  inputs = Input(shape=(dst_size[0], dst_size[0], 3))\n",
        "  x = mobile(inputs)\n",
        "  x = layers.Flatten()(x)\n",
        "  x = layers.Dropout(dropout1)(x)\n",
        "  x = layers.Dense(neuronas,activation='relu')(x)\n",
        "  x = layers.Dense(neuronas,activation='relu')(x)\n",
        "  x = layers.Dropout(dropout2)(x)\n",
        "  outputs = layers.Dense(4, activation=activacion)(x)\n",
        "\n",
        "  model = models.Model(inputs, outputs)\n",
        "  model.compile(loss=perdida,\n",
        "                optimizer=optimizador,\n",
        "                metrics=[metrica])\n",
        "  return model"
      ]
    },
    {
      "cell_type": "code",
      "execution_count": null,
      "metadata": {
        "id": "IRP0-v4oqwi_"
      },
      "outputs": [],
      "source": [
        "#FASE DE ENTRENAMIENTO DEL MODELO\n",
        "\n",
        "callbacks3 = [\n",
        "keras.callbacks.ModelCheckpoint(\n",
        "filepath=Guardar_CNNMobilNetV2,\n",
        "save_best_only=True,\n",
        "monitor='val_accuracy'),\n",
        "tf.keras.callbacks.EarlyStopping(\n",
        "    monitor='val_accuracy',\n",
        "    patience=5,\n",
        "    verbose=0,\n",
        "    mode='auto',\n",
        "    start_from_epoch=3)\n",
        "]"
      ]
    },
    {
      "cell_type": "code",
      "execution_count": null,
      "metadata": {
        "colab": {
          "base_uri": "https://localhost:8080/"
        },
        "id": "jWYwmt4wsi9B",
        "outputId": "7ecf5344-61ad-484c-8d36-81d5ee309c9f"
      },
      "outputs": [
        {
          "metadata": {
            "tags": null
          },
          "name": "stdout",
          "output_type": "stream",
          "text": [
            "Epoch 1/100\n",
            "126/126 [==============================] - ETA: 0s - loss: 0.3225 - accuracy: 0.9452"
          ]
        },
        {
          "metadata": {
            "tags": null
          },
          "name": "stderr",
          "output_type": "stream",
          "text": [
            "WARNING:absl:Found untraced functions such as _jit_compiled_convolution_op, _jit_compiled_convolution_op, _jit_compiled_convolution_op, _jit_compiled_convolution_op, _jit_compiled_convolution_op while saving (showing 5 of 52). These functions will not be directly callable after loading.\n"
          ]
        },
        {
          "metadata": {
            "tags": null
          },
          "name": "stdout",
          "output_type": "stream",
          "text": [
            "126/126 [==============================] - 574s 4s/step - loss: 0.3225 - accuracy: 0.9452 - val_loss: 22.5147 - val_accuracy: 0.4485\n",
            "Epoch 2/100\n",
            "126/126 [==============================] - ETA: 0s - loss: 0.0179 - accuracy: 0.9944"
          ]
        },
        {
          "metadata": {
            "tags": null
          },
          "name": "stderr",
          "output_type": "stream",
          "text": [
            "WARNING:absl:Found untraced functions such as _jit_compiled_convolution_op, _jit_compiled_convolution_op, _jit_compiled_convolution_op, _jit_compiled_convolution_op, _jit_compiled_convolution_op while saving (showing 5 of 52). These functions will not be directly callable after loading.\n"
          ]
        },
        {
          "metadata": {
            "tags": null
          },
          "name": "stdout",
          "output_type": "stream",
          "text": [
            "126/126 [==============================] - 49s 392ms/step - loss: 0.0179 - accuracy: 0.9944 - val_loss: 10.0928 - val_accuracy: 0.6581\n",
            "Epoch 3/100\n",
            "126/126 [==============================] - ETA: 0s - loss: 0.0144 - accuracy: 0.9976"
          ]
        },
        {
          "metadata": {
            "tags": null
          },
          "name": "stderr",
          "output_type": "stream",
          "text": [
            "WARNING:absl:Found untraced functions such as _jit_compiled_convolution_op, _jit_compiled_convolution_op, _jit_compiled_convolution_op, _jit_compiled_convolution_op, _jit_compiled_convolution_op while saving (showing 5 of 52). These functions will not be directly callable after loading.\n"
          ]
        },
        {
          "metadata": {
            "tags": null
          },
          "name": "stdout",
          "output_type": "stream",
          "text": [
            "126/126 [==============================] - 49s 390ms/step - loss: 0.0144 - accuracy: 0.9976 - val_loss: 4.2679 - val_accuracy: 0.8272\n",
            "Epoch 4/100\n",
            "126/126 [==============================] - ETA: 0s - loss: 0.0031 - accuracy: 0.9987"
          ]
        },
        {
          "metadata": {
            "tags": null
          },
          "name": "stderr",
          "output_type": "stream",
          "text": [
            "WARNING:absl:Found untraced functions such as _jit_compiled_convolution_op, _jit_compiled_convolution_op, _jit_compiled_convolution_op, _jit_compiled_convolution_op, _jit_compiled_convolution_op while saving (showing 5 of 52). These functions will not be directly callable after loading.\n"
          ]
        },
        {
          "metadata": {
            "tags": null
          },
          "name": "stdout",
          "output_type": "stream",
          "text": [
            "126/126 [==============================] - 49s 391ms/step - loss: 0.0031 - accuracy: 0.9987 - val_loss: 2.6046 - val_accuracy: 0.8676\n",
            "Epoch 5/100\n",
            "126/126 [==============================] - ETA: 0s - loss: 0.0031 - accuracy: 0.9989"
          ]
        },
        {
          "metadata": {
            "tags": null
          },
          "name": "stderr",
          "output_type": "stream",
          "text": [
            "WARNING:absl:Found untraced functions such as _jit_compiled_convolution_op, _jit_compiled_convolution_op, _jit_compiled_convolution_op, _jit_compiled_convolution_op, _jit_compiled_convolution_op while saving (showing 5 of 52). These functions will not be directly callable after loading.\n"
          ]
        },
        {
          "metadata": {
            "tags": null
          },
          "name": "stdout",
          "output_type": "stream",
          "text": [
            "126/126 [==============================] - 49s 389ms/step - loss: 0.0031 - accuracy: 0.9989 - val_loss: 1.4299 - val_accuracy: 0.9007\n",
            "Epoch 6/100\n",
            "126/126 [==============================] - ETA: 0s - loss: 0.0051 - accuracy: 0.9987"
          ]
        },
        {
          "metadata": {
            "tags": null
          },
          "name": "stderr",
          "output_type": "stream",
          "text": [
            "WARNING:absl:Found untraced functions such as _jit_compiled_convolution_op, _jit_compiled_convolution_op, _jit_compiled_convolution_op, _jit_compiled_convolution_op, _jit_compiled_convolution_op while saving (showing 5 of 52). These functions will not be directly callable after loading.\n"
          ]
        },
        {
          "metadata": {
            "tags": null
          },
          "name": "stdout",
          "output_type": "stream",
          "text": [
            "126/126 [==============================] - 49s 390ms/step - loss: 0.0051 - accuracy: 0.9987 - val_loss: 0.6455 - val_accuracy: 0.9559\n",
            "Epoch 7/100\n",
            "126/126 [==============================] - ETA: 0s - loss: 0.0018 - accuracy: 0.9990"
          ]
        },
        {
          "metadata": {
            "tags": null
          },
          "name": "stderr",
          "output_type": "stream",
          "text": [
            "WARNING:absl:Found untraced functions such as _jit_compiled_convolution_op, _jit_compiled_convolution_op, _jit_compiled_convolution_op, _jit_compiled_convolution_op, _jit_compiled_convolution_op while saving (showing 5 of 52). These functions will not be directly callable after loading.\n"
          ]
        },
        {
          "metadata": {
            "tags": null
          },
          "name": "stdout",
          "output_type": "stream",
          "text": [
            "126/126 [==============================] - 49s 392ms/step - loss: 0.0018 - accuracy: 0.9990 - val_loss: 0.3959 - val_accuracy: 0.9816\n",
            "Epoch 8/100\n",
            "126/126 [==============================] - 26s 204ms/step - loss: 0.0058 - accuracy: 0.9979 - val_loss: 0.3865 - val_accuracy: 0.9816\n",
            "Epoch 9/100\n",
            "126/126 [==============================] - 26s 204ms/step - loss: 0.0069 - accuracy: 0.9986 - val_loss: 0.3872 - val_accuracy: 0.9743\n",
            "Epoch 10/100\n",
            "126/126 [==============================] - 26s 202ms/step - loss: 0.0057 - accuracy: 0.9989 - val_loss: 0.4706 - val_accuracy: 0.9596\n",
            "Epoch 11/100\n",
            "126/126 [==============================] - 26s 203ms/step - loss: 0.0045 - accuracy: 0.9989 - val_loss: 0.0912 - val_accuracy: 0.9743\n",
            "Epoch 12/100\n",
            "126/126 [==============================] - ETA: 0s - loss: 0.0051 - accuracy: 0.9986"
          ]
        },
        {
          "metadata": {
            "tags": null
          },
          "name": "stderr",
          "output_type": "stream",
          "text": [
            "WARNING:absl:Found untraced functions such as _jit_compiled_convolution_op, _jit_compiled_convolution_op, _jit_compiled_convolution_op, _jit_compiled_convolution_op, _jit_compiled_convolution_op while saving (showing 5 of 52). These functions will not be directly callable after loading.\n"
          ]
        },
        {
          "metadata": {
            "tags": null
          },
          "name": "stdout",
          "output_type": "stream",
          "text": [
            "126/126 [==============================] - 49s 387ms/step - loss: 0.0051 - accuracy: 0.9986 - val_loss: 0.0062 - val_accuracy: 0.9926\n",
            "Epoch 13/100\n",
            "126/126 [==============================] - ETA: 0s - loss: 0.0032 - accuracy: 0.9989"
          ]
        },
        {
          "metadata": {
            "tags": null
          },
          "name": "stderr",
          "output_type": "stream",
          "text": [
            "WARNING:absl:Found untraced functions such as _jit_compiled_convolution_op, _jit_compiled_convolution_op, _jit_compiled_convolution_op, _jit_compiled_convolution_op, _jit_compiled_convolution_op while saving (showing 5 of 52). These functions will not be directly callable after loading.\n"
          ]
        },
        {
          "metadata": {
            "tags": null
          },
          "name": "stdout",
          "output_type": "stream",
          "text": [
            "126/126 [==============================] - 49s 392ms/step - loss: 0.0032 - accuracy: 0.9989 - val_loss: 0.0290 - val_accuracy: 0.9963\n",
            "Epoch 14/100\n",
            "126/126 [==============================] - 26s 205ms/step - loss: 0.0070 - accuracy: 0.9983 - val_loss: 0.0745 - val_accuracy: 0.9926\n",
            "Epoch 15/100\n",
            "126/126 [==============================] - 26s 204ms/step - loss: 0.0011 - accuracy: 0.9997 - val_loss: 0.0597 - val_accuracy: 0.9963\n",
            "Epoch 16/100\n",
            "126/126 [==============================] - 26s 202ms/step - loss: 0.0058 - accuracy: 0.9986 - val_loss: 0.1181 - val_accuracy: 0.9779\n",
            "Epoch 17/100\n",
            "126/126 [==============================] - 26s 203ms/step - loss: 0.0069 - accuracy: 0.9987 - val_loss: 0.0203 - val_accuracy: 0.9963\n",
            "Epoch 18/100\n",
            "126/126 [==============================] - 26s 203ms/step - loss: 0.0044 - accuracy: 0.9990 - val_loss: 0.0196 - val_accuracy: 0.9963\n",
            "Epoch 1/100\n",
            "126/126 [==============================] - 47s 207ms/step - loss: 0.5217 - accuracy: 0.9527 - val_loss: 749.4818 - val_accuracy: 0.2500\n",
            "Epoch 2/100\n",
            "126/126 [==============================] - 26s 203ms/step - loss: 0.2213 - accuracy: 0.9614 - val_loss: 694.1509 - val_accuracy: 0.2500\n",
            "Epoch 3/100\n",
            "126/126 [==============================] - 25s 200ms/step - loss: 0.1173 - accuracy: 0.9827 - val_loss: 490.9417 - val_accuracy: 0.2500\n",
            "Epoch 4/100\n",
            "126/126 [==============================] - 26s 201ms/step - loss: 0.0783 - accuracy: 0.9852 - val_loss: 94.8549 - val_accuracy: 0.4926\n",
            "Epoch 5/100\n",
            "126/126 [==============================] - 26s 201ms/step - loss: 0.0667 - accuracy: 0.9862 - val_loss: 132.4654 - val_accuracy: 0.4485\n",
            "Epoch 6/100\n",
            "126/126 [==============================] - 26s 201ms/step - loss: 0.0512 - accuracy: 0.9892 - val_loss: 246.4249 - val_accuracy: 0.4632\n",
            "Epoch 7/100\n",
            "126/126 [==============================] - 25s 200ms/step - loss: 0.1461 - accuracy: 0.9895 - val_loss: 46.6416 - val_accuracy: 0.4926\n",
            "Epoch 8/100\n",
            "126/126 [==============================] - 26s 201ms/step - loss: 0.0601 - accuracy: 0.9911 - val_loss: 62.6540 - val_accuracy: 0.4963\n",
            "Epoch 9/100\n",
            "126/126 [==============================] - 25s 200ms/step - loss: 0.0291 - accuracy: 0.9937 - val_loss: 8.7597 - val_accuracy: 0.8015\n",
            "Epoch 10/100\n",
            "126/126 [==============================] - 26s 201ms/step - loss: 0.1244 - accuracy: 0.9895 - val_loss: 805.0067 - val_accuracy: 0.2500\n",
            "Epoch 11/100\n",
            "126/126 [==============================] - 26s 201ms/step - loss: 0.0547 - accuracy: 0.9911 - val_loss: 532.7515 - val_accuracy: 0.3051\n",
            "Epoch 12/100\n",
            "126/126 [==============================] - 26s 201ms/step - loss: 0.0446 - accuracy: 0.9927 - val_loss: 179.5975 - val_accuracy: 0.3346\n",
            "Epoch 13/100\n",
            "126/126 [==============================] - 25s 200ms/step - loss: 0.0136 - accuracy: 0.9978 - val_loss: 112.9583 - val_accuracy: 0.4669\n",
            "Epoch 14/100\n",
            "126/126 [==============================] - 26s 201ms/step - loss: 0.0299 - accuracy: 0.9951 - val_loss: 104.0097 - val_accuracy: 0.5147\n",
            "Epoch 1/100\n",
            "126/126 [==============================] - 51s 209ms/step - loss: 1.0455 - accuracy: 0.5787 - val_loss: 1.5539 - val_accuracy: 0.5882\n",
            "Epoch 2/100\n",
            "126/126 [==============================] - 26s 205ms/step - loss: 0.6473 - accuracy: 0.8373 - val_loss: 1.0146 - val_accuracy: 0.7574\n",
            "Epoch 3/100\n",
            "126/126 [==============================] - 26s 202ms/step - loss: 0.5100 - accuracy: 0.9086 - val_loss: 0.5238 - val_accuracy: 0.8713\n",
            "Epoch 4/100\n",
            "126/126 [==============================] - 26s 202ms/step - loss: 0.4256 - accuracy: 0.9403 - val_loss: 0.2777 - val_accuracy: 0.9301\n",
            "Epoch 5/100\n",
            "126/126 [==============================] - 26s 203ms/step - loss: 0.3594 - accuracy: 0.9633 - val_loss: 0.1252 - val_accuracy: 0.9559\n",
            "Epoch 6/100\n",
            "126/126 [==============================] - 26s 202ms/step - loss: 0.3138 - accuracy: 0.9803 - val_loss: 0.0655 - val_accuracy: 0.9816\n",
            "Epoch 7/100\n",
            "126/126 [==============================] - 26s 202ms/step - loss: 0.2782 - accuracy: 0.9862 - val_loss: 0.0434 - val_accuracy: 0.9853\n",
            "Epoch 8/100\n",
            "126/126 [==============================] - 26s 202ms/step - loss: 0.2553 - accuracy: 0.9908 - val_loss: 0.0365 - val_accuracy: 0.9890\n",
            "Epoch 9/100\n",
            "126/126 [==============================] - 26s 203ms/step - loss: 0.2326 - accuracy: 0.9922 - val_loss: 0.0356 - val_accuracy: 0.9890\n",
            "Epoch 10/100\n",
            "126/126 [==============================] - 26s 202ms/step - loss: 0.2063 - accuracy: 0.9954 - val_loss: 0.0371 - val_accuracy: 0.9890\n",
            "Epoch 11/100\n",
            "126/126 [==============================] - 26s 202ms/step - loss: 0.2009 - accuracy: 0.9956 - val_loss: 0.0397 - val_accuracy: 0.9890\n",
            "Epoch 12/100\n",
            "126/126 [==============================] - 26s 202ms/step - loss: 0.1770 - accuracy: 0.9963 - val_loss: 0.0428 - val_accuracy: 0.9926\n",
            "Epoch 13/100\n",
            "126/126 [==============================] - 26s 202ms/step - loss: 0.1643 - accuracy: 0.9968 - val_loss: 0.0459 - val_accuracy: 0.9926\n",
            "Epoch 14/100\n",
            "126/126 [==============================] - 26s 202ms/step - loss: 0.1558 - accuracy: 0.9981 - val_loss: 0.0486 - val_accuracy: 0.9963\n",
            "Epoch 15/100\n",
            "126/126 [==============================] - 26s 202ms/step - loss: 0.1459 - accuracy: 0.9975 - val_loss: 0.0513 - val_accuracy: 0.9963\n",
            "Epoch 16/100\n",
            "126/126 [==============================] - 26s 202ms/step - loss: 0.1308 - accuracy: 0.9983 - val_loss: 0.0540 - val_accuracy: 0.9963\n",
            "Epoch 17/100\n",
            "126/126 [==============================] - ETA: 0s - loss: 0.1296 - accuracy: 0.9990"
          ]
        },
        {
          "metadata": {
            "tags": null
          },
          "name": "stderr",
          "output_type": "stream",
          "text": [
            "WARNING:absl:Found untraced functions such as _jit_compiled_convolution_op, _jit_compiled_convolution_op, _jit_compiled_convolution_op, _jit_compiled_convolution_op, _jit_compiled_convolution_op while saving (showing 5 of 52). These functions will not be directly callable after loading.\n"
          ]
        },
        {
          "output_type": "stream",
          "name": "stdout",
          "text": [
            "126/126 [==============================] - 50s 398ms/step - loss: 0.1296 - accuracy: 0.9990 - val_loss: 0.0562 - val_accuracy: 1.0000\n",
            "Epoch 18/100\n",
            "126/126 [==============================] - 26s 203ms/step - loss: 0.1202 - accuracy: 0.9984 - val_loss: 0.0581 - val_accuracy: 1.0000\n",
            "Epoch 19/100\n",
            "126/126 [==============================] - 26s 204ms/step - loss: 0.1181 - accuracy: 0.9983 - val_loss: 0.0597 - val_accuracy: 1.0000\n",
            "Epoch 20/100\n",
            "126/126 [==============================] - 26s 201ms/step - loss: 0.1025 - accuracy: 0.9989 - val_loss: 0.0609 - val_accuracy: 1.0000\n",
            "Epoch 21/100\n",
            "126/126 [==============================] - 26s 202ms/step - loss: 0.1047 - accuracy: 0.9979 - val_loss: 0.0619 - val_accuracy: 1.0000\n",
            "Epoch 22/100\n",
            "126/126 [==============================] - 26s 203ms/step - loss: 0.0938 - accuracy: 0.9990 - val_loss: 0.0627 - val_accuracy: 1.0000\n",
            "Epoch 1/100\n",
            "126/126 [==============================] - 52s 210ms/step - loss: 0.0196 - accuracy: 0.9922 - val_loss: 0.0088 - val_accuracy: 1.0000\n",
            "Epoch 2/100\n",
            "126/126 [==============================] - 26s 205ms/step - loss: 0.0026 - accuracy: 0.9994 - val_loss: 0.0118 - val_accuracy: 1.0000\n",
            "Epoch 3/100\n",
            "126/126 [==============================] - 26s 202ms/step - loss: 5.0144e-04 - accuracy: 1.0000 - val_loss: 0.0092 - val_accuracy: 1.0000\n",
            "Epoch 4/100\n",
            "126/126 [==============================] - 26s 203ms/step - loss: 0.0597 - accuracy: 0.9992 - val_loss: 0.0143 - val_accuracy: 1.0000\n",
            "Epoch 5/100\n",
            "126/126 [==============================] - 26s 204ms/step - loss: 0.0038 - accuracy: 0.9995 - val_loss: 0.0113 - val_accuracy: 1.0000\n",
            "Epoch 6/100\n",
            "126/126 [==============================] - 26s 203ms/step - loss: 7.2847e-04 - accuracy: 0.9997 - val_loss: 0.0064 - val_accuracy: 1.0000\n",
            "Epoch 7/100\n",
            "126/126 [==============================] - 26s 203ms/step - loss: 3.6368e-04 - accuracy: 1.0000 - val_loss: 0.0042 - val_accuracy: 1.0000\n",
            "Epoch 8/100\n",
            "126/126 [==============================] - 26s 203ms/step - loss: 8.4332e-04 - accuracy: 0.9997 - val_loss: 0.0046 - val_accuracy: 1.0000\n",
            "Epoch 9/100\n",
            "126/126 [==============================] - 26s 204ms/step - loss: 6.6695e-04 - accuracy: 0.9998 - val_loss: 0.0041 - val_accuracy: 1.0000\n",
            "Epoch 10/100\n",
            "126/126 [==============================] - 26s 204ms/step - loss: 0.0014 - accuracy: 0.9998 - val_loss: 0.0032 - val_accuracy: 1.0000\n",
            "Epoch 11/100\n",
            "126/126 [==============================] - 26s 204ms/step - loss: 5.0989e-04 - accuracy: 0.9998 - val_loss: 0.0025 - val_accuracy: 1.0000\n",
            "Epoch 1/100\n",
            "126/126 [==============================] - 47s 209ms/step - loss: 0.0240 - accuracy: 0.9917 - val_loss: 0.5859 - val_accuracy: 0.9485\n",
            "Epoch 2/100\n",
            "126/126 [==============================] - 26s 204ms/step - loss: 0.0301 - accuracy: 0.9941 - val_loss: 17.0753 - val_accuracy: 0.7059\n",
            "Epoch 3/100\n",
            "126/126 [==============================] - 25s 200ms/step - loss: 0.0099 - accuracy: 0.9970 - val_loss: 1.3156 - val_accuracy: 0.9559\n",
            "Epoch 4/100\n",
            "126/126 [==============================] - 26s 202ms/step - loss: 0.0182 - accuracy: 0.9971 - val_loss: 0.6977 - val_accuracy: 0.9890\n",
            "Epoch 5/100\n",
            "126/126 [==============================] - 26s 202ms/step - loss: 0.0273 - accuracy: 0.9978 - val_loss: 0.0493 - val_accuracy: 0.9963\n",
            "Epoch 6/100\n",
            "126/126 [==============================] - 26s 201ms/step - loss: 0.0118 - accuracy: 0.9987 - val_loss: 0.0659 - val_accuracy: 0.9926\n",
            "Epoch 7/100\n",
            "126/126 [==============================] - 26s 202ms/step - loss: 0.0204 - accuracy: 0.9975 - val_loss: 1.7969e-08 - val_accuracy: 1.0000\n",
            "Epoch 8/100\n",
            "126/126 [==============================] - 26s 202ms/step - loss: 0.0127 - accuracy: 0.9981 - val_loss: 8.1553 - val_accuracy: 0.9118\n",
            "Epoch 9/100\n",
            "126/126 [==============================] - 26s 201ms/step - loss: 0.0173 - accuracy: 0.9970 - val_loss: 0.1056 - val_accuracy: 0.9963\n",
            "Epoch 10/100\n",
            "126/126 [==============================] - 26s 201ms/step - loss: 0.0042 - accuracy: 0.9995 - val_loss: 5.4509 - val_accuracy: 0.9338\n",
            "Epoch 11/100\n",
            "126/126 [==============================] - 26s 201ms/step - loss: 0.0083 - accuracy: 0.9978 - val_loss: 1.6338 - val_accuracy: 0.9669\n",
            "Epoch 12/100\n",
            "126/126 [==============================] - 26s 202ms/step - loss: 0.0269 - accuracy: 0.9978 - val_loss: 4.5420 - val_accuracy: 0.9449\n",
            "Epoch 1/100\n",
            "126/126 [==============================] - 51s 211ms/step - loss: 1.0088 - accuracy: 0.6417 - val_loss: 0.2951 - val_accuracy: 0.9596\n",
            "Epoch 2/100\n",
            "126/126 [==============================] - 26s 206ms/step - loss: 0.5907 - accuracy: 0.9183 - val_loss: 0.1820 - val_accuracy: 0.9632\n",
            "Epoch 3/100\n",
            "126/126 [==============================] - 26s 203ms/step - loss: 0.4371 - accuracy: 0.9602 - val_loss: 0.1474 - val_accuracy: 0.9669\n",
            "Epoch 4/100\n",
            "126/126 [==============================] - 26s 204ms/step - loss: 0.3443 - accuracy: 0.9787 - val_loss: 0.1294 - val_accuracy: 0.9669\n",
            "Epoch 5/100\n",
            "126/126 [==============================] - 26s 204ms/step - loss: 0.2889 - accuracy: 0.9838 - val_loss: 0.1187 - val_accuracy: 0.9669\n",
            "Epoch 6/100\n",
            "126/126 [==============================] - 26s 204ms/step - loss: 0.2484 - accuracy: 0.9902 - val_loss: 0.1123 - val_accuracy: 0.9779\n",
            "Epoch 7/100\n",
            "126/126 [==============================] - 26s 204ms/step - loss: 0.2163 - accuracy: 0.9906 - val_loss: 0.1084 - val_accuracy: 0.9779\n",
            "Epoch 8/100\n",
            "126/126 [==============================] - 26s 205ms/step - loss: 0.1906 - accuracy: 0.9952 - val_loss: 0.1057 - val_accuracy: 0.9853\n",
            "Epoch 9/100\n",
            "126/126 [==============================] - 26s 204ms/step - loss: 0.1606 - accuracy: 0.9952 - val_loss: 0.1033 - val_accuracy: 0.9926\n",
            "Epoch 10/100\n",
            "126/126 [==============================] - 26s 204ms/step - loss: 0.1456 - accuracy: 0.9975 - val_loss: 0.1006 - val_accuracy: 0.9963\n",
            "Epoch 11/100\n",
            "126/126 [==============================] - 26s 204ms/step - loss: 0.1286 - accuracy: 0.9971 - val_loss: 0.0977 - val_accuracy: 0.9963\n",
            "Epoch 12/100\n",
            "126/126 [==============================] - 26s 204ms/step - loss: 0.1108 - accuracy: 0.9990 - val_loss: 0.0944 - val_accuracy: 0.9963\n",
            "Epoch 13/100\n",
            "126/126 [==============================] - 26s 204ms/step - loss: 0.0998 - accuracy: 0.9990 - val_loss: 0.0908 - val_accuracy: 0.9963\n",
            "Epoch 14/100\n",
            "126/126 [==============================] - 26s 204ms/step - loss: 0.0918 - accuracy: 0.9984 - val_loss: 0.0868 - val_accuracy: 0.9963\n",
            "Epoch 15/100\n",
            "126/126 [==============================] - 26s 204ms/step - loss: 0.0866 - accuracy: 0.9990 - val_loss: 0.0827 - val_accuracy: 0.9963\n",
            "Epoch 1/100\n",
            "126/126 [==============================] - 50s 212ms/step - loss: 0.0185 - accuracy: 0.9941 - val_loss: 0.0450 - val_accuracy: 0.9926\n",
            "Epoch 2/100\n",
            "126/126 [==============================] - 26s 207ms/step - loss: 1.7208e-04 - accuracy: 1.0000 - val_loss: 0.0239 - val_accuracy: 0.9926\n",
            "Epoch 3/100\n",
            "126/126 [==============================] - 26s 204ms/step - loss: 0.0014 - accuracy: 0.9998 - val_loss: 0.0102 - val_accuracy: 1.0000\n",
            "Epoch 4/100\n",
            "126/126 [==============================] - 26s 205ms/step - loss: 3.7463e-05 - accuracy: 1.0000 - val_loss: 0.0068 - val_accuracy: 1.0000\n",
            "Epoch 5/100\n",
            "126/126 [==============================] - 26s 206ms/step - loss: 3.4752e-04 - accuracy: 0.9998 - val_loss: 0.0042 - val_accuracy: 1.0000\n",
            "Epoch 6/100\n",
            "126/126 [==============================] - 26s 206ms/step - loss: 0.0013 - accuracy: 0.9994 - val_loss: 0.0019 - val_accuracy: 1.0000\n",
            "Epoch 7/100\n",
            "126/126 [==============================] - 26s 205ms/step - loss: 4.0056e-04 - accuracy: 0.9998 - val_loss: 0.0018 - val_accuracy: 1.0000\n",
            "Epoch 8/100\n",
            "126/126 [==============================] - 26s 206ms/step - loss: 9.3511e-05 - accuracy: 1.0000 - val_loss: 0.0012 - val_accuracy: 1.0000\n",
            "Epoch 9/100\n",
            "126/126 [==============================] - 26s 206ms/step - loss: 2.9804e-05 - accuracy: 1.0000 - val_loss: 7.8989e-04 - val_accuracy: 1.0000\n",
            "Epoch 10/100\n",
            "126/126 [==============================] - 26s 206ms/step - loss: 3.5498e-04 - accuracy: 0.9998 - val_loss: 5.4946e-04 - val_accuracy: 1.0000\n",
            "Epoch 11/100\n",
            "126/126 [==============================] - 26s 206ms/step - loss: 0.0051 - accuracy: 0.9998 - val_loss: 5.9935e-04 - val_accuracy: 1.0000\n",
            "Epoch 1/100\n",
            "126/126 [==============================] - 48s 212ms/step - loss: 0.0229 - accuracy: 0.9921 - val_loss: 0.0141 - val_accuracy: 0.9963\n",
            "Epoch 2/100\n",
            "126/126 [==============================] - 26s 206ms/step - loss: 0.0122 - accuracy: 0.9984 - val_loss: 0.0214 - val_accuracy: 0.9963\n",
            "Epoch 3/100\n",
            "126/126 [==============================] - 26s 203ms/step - loss: 0.0120 - accuracy: 0.9994 - val_loss: 0.0672 - val_accuracy: 0.9890\n",
            "Epoch 4/100\n",
            "126/126 [==============================] - 26s 204ms/step - loss: 0.0468 - accuracy: 0.9970 - val_loss: 64.5789 - val_accuracy: 0.7684\n",
            "Epoch 5/100\n",
            "126/126 [==============================] - 26s 205ms/step - loss: 0.0142 - accuracy: 0.9981 - val_loss: 0.4833 - val_accuracy: 0.9779\n",
            "Epoch 6/100\n",
            "126/126 [==============================] - 26s 204ms/step - loss: 0.0132 - accuracy: 0.9983 - val_loss: 0.2261 - val_accuracy: 0.9779\n",
            "Epoch 7/100\n",
            "126/126 [==============================] - 26s 204ms/step - loss: 0.0296 - accuracy: 0.9965 - val_loss: 0.5089 - val_accuracy: 0.9853\n",
            "Epoch 8/100\n",
            "126/126 [==============================] - 26s 205ms/step - loss: 0.0073 - accuracy: 0.9987 - val_loss: 0.0363 - val_accuracy: 0.9926\n",
            "Epoch 9/100\n",
            "126/126 [==============================] - 26s 204ms/step - loss: 0.0015 - accuracy: 0.9992 - val_loss: 0.3624 - val_accuracy: 0.9816\n",
            "Epoch 10/100\n",
            "126/126 [==============================] - 26s 204ms/step - loss: 7.5658e-05 - accuracy: 1.0000 - val_loss: 0.4179 - val_accuracy: 0.9669\n",
            "Epoch 11/100\n",
            "126/126 [==============================] - 26s 205ms/step - loss: 0.0040 - accuracy: 0.9995 - val_loss: 0.4358 - val_accuracy: 0.9706\n",
            "Epoch 12/100\n",
            "126/126 [==============================] - 26s 204ms/step - loss: 0.0081 - accuracy: 0.9989 - val_loss: 0.2333 - val_accuracy: 0.9816\n",
            "Epoch 13/100\n",
            "126/126 [==============================] - 26s 204ms/step - loss: 0.0046 - accuracy: 0.9995 - val_loss: 0.1655 - val_accuracy: 0.9816\n",
            "Epoch 1/100\n",
            "126/126 [==============================] - 50s 214ms/step - loss: 0.9160 - accuracy: 0.6892 - val_loss: 0.2467 - val_accuracy: 0.9816\n",
            "Epoch 2/100\n",
            "126/126 [==============================] - 26s 207ms/step - loss: 0.4958 - accuracy: 0.9549 - val_loss: 0.1615 - val_accuracy: 0.9890\n",
            "Epoch 3/100\n",
            "126/126 [==============================] - 26s 206ms/step - loss: 0.3384 - accuracy: 0.9905 - val_loss: 0.1329 - val_accuracy: 0.9890\n",
            "Epoch 4/100\n",
            "126/126 [==============================] - 26s 206ms/step - loss: 0.2558 - accuracy: 0.9960 - val_loss: 0.1167 - val_accuracy: 0.9963\n",
            "Epoch 5/100\n",
            "126/126 [==============================] - 26s 206ms/step - loss: 0.2068 - accuracy: 0.9979 - val_loss: 0.1060 - val_accuracy: 0.9963\n",
            "Epoch 6/100\n",
            "126/126 [==============================] - 26s 206ms/step - loss: 0.1561 - accuracy: 0.9992 - val_loss: 0.0978 - val_accuracy: 0.9963\n",
            "Epoch 7/100\n",
            "126/126 [==============================] - 26s 206ms/step - loss: 0.1327 - accuracy: 0.9997 - val_loss: 0.0909 - val_accuracy: 0.9963\n",
            "Epoch 8/100\n",
            "126/126 [==============================] - 26s 206ms/step - loss: 0.1079 - accuracy: 0.9997 - val_loss: 0.0851 - val_accuracy: 1.0000\n",
            "Epoch 9/100\n",
            "126/126 [==============================] - 26s 206ms/step - loss: 0.0934 - accuracy: 0.9994 - val_loss: 0.0801 - val_accuracy: 1.0000\n",
            "Epoch 10/100\n",
            "126/126 [==============================] - 26s 206ms/step - loss: 0.0794 - accuracy: 0.9997 - val_loss: 0.0754 - val_accuracy: 1.0000\n",
            "Epoch 11/100\n",
            "126/126 [==============================] - 26s 206ms/step - loss: 0.0650 - accuracy: 1.0000 - val_loss: 0.0712 - val_accuracy: 1.0000\n",
            "Epoch 12/100\n",
            "126/126 [==============================] - 26s 206ms/step - loss: 0.0596 - accuracy: 0.9997 - val_loss: 0.0672 - val_accuracy: 1.0000\n",
            "Epoch 13/100\n",
            "126/126 [==============================] - 26s 206ms/step - loss: 0.0496 - accuracy: 1.0000 - val_loss: 0.0637 - val_accuracy: 1.0000\n",
            "Epoch 1/100\n",
            "126/126 [==============================] - 50s 210ms/step - loss: 0.0208 - accuracy: 0.9933 - val_loss: 0.0113 - val_accuracy: 1.0000\n",
            "Epoch 2/100\n",
            "126/126 [==============================] - 26s 204ms/step - loss: 2.8475e-04 - accuracy: 1.0000 - val_loss: 0.0073 - val_accuracy: 1.0000\n",
            "Epoch 3/100\n",
            "126/126 [==============================] - 26s 202ms/step - loss: 6.0530e-05 - accuracy: 1.0000 - val_loss: 0.0049 - val_accuracy: 1.0000\n",
            "Epoch 4/100\n",
            "126/126 [==============================] - 26s 203ms/step - loss: 1.1079e-04 - accuracy: 1.0000 - val_loss: 0.0033 - val_accuracy: 1.0000\n",
            "Epoch 5/100\n",
            "126/126 [==============================] - 26s 203ms/step - loss: 0.0021 - accuracy: 0.9997 - val_loss: 0.0105 - val_accuracy: 1.0000\n",
            "Epoch 6/100\n",
            "126/126 [==============================] - 26s 202ms/step - loss: 0.0013 - accuracy: 0.9995 - val_loss: 0.0039 - val_accuracy: 1.0000\n",
            "Epoch 7/100\n",
            "126/126 [==============================] - 26s 202ms/step - loss: 0.0073 - accuracy: 0.9998 - val_loss: 0.0030 - val_accuracy: 1.0000\n",
            "Epoch 8/100\n",
            "126/126 [==============================] - 26s 203ms/step - loss: 4.3511e-04 - accuracy: 0.9998 - val_loss: 0.0030 - val_accuracy: 1.0000\n",
            "Epoch 9/100\n",
            "126/126 [==============================] - 26s 203ms/step - loss: 7.2740e-05 - accuracy: 1.0000 - val_loss: 0.0019 - val_accuracy: 1.0000\n",
            "Epoch 10/100\n",
            "126/126 [==============================] - 26s 202ms/step - loss: 2.1369e-05 - accuracy: 1.0000 - val_loss: 0.0014 - val_accuracy: 1.0000\n",
            "Epoch 11/100\n",
            "126/126 [==============================] - 26s 203ms/step - loss: 1.5744e-04 - accuracy: 1.0000 - val_loss: 8.3975e-04 - val_accuracy: 1.0000\n",
            "Epoch 1/100\n",
            "126/126 [==============================] - 46s 208ms/step - loss: 0.0172 - accuracy: 0.9929 - val_loss: 0.0515 - val_accuracy: 0.9926\n",
            "Epoch 2/100\n",
            "126/126 [==============================] - 26s 202ms/step - loss: 0.0026 - accuracy: 0.9992 - val_loss: 0.2872 - val_accuracy: 0.9779\n",
            "Epoch 3/100\n",
            "126/126 [==============================] - 25s 200ms/step - loss: 0.0195 - accuracy: 0.9981 - val_loss: 0.0453 - val_accuracy: 0.9926\n",
            "Epoch 4/100\n",
            "126/126 [==============================] - 25s 200ms/step - loss: 8.7786e-04 - accuracy: 0.9998 - val_loss: 0.1076 - val_accuracy: 0.9926\n",
            "Epoch 5/100\n",
            "126/126 [==============================] - 26s 201ms/step - loss: 0.0021 - accuracy: 0.9995 - val_loss: 0.2875 - val_accuracy: 0.9890\n",
            "Epoch 6/100\n",
            "126/126 [==============================] - 26s 201ms/step - loss: 0.0095 - accuracy: 0.9987 - val_loss: 0.3848 - val_accuracy: 0.9706\n",
            "Epoch 7/100\n",
            "126/126 [==============================] - 25s 200ms/step - loss: 0.0136 - accuracy: 0.9983 - val_loss: 0.0768 - val_accuracy: 0.9890\n",
            "Epoch 8/100\n",
            "126/126 [==============================] - 26s 201ms/step - loss: 7.9329e-04 - accuracy: 0.9995 - val_loss: 0.1610 - val_accuracy: 0.9890\n",
            "Epoch 9/100\n",
            "126/126 [==============================] - 26s 201ms/step - loss: 0.0030 - accuracy: 0.9994 - val_loss: 0.1842 - val_accuracy: 0.9816\n",
            "Epoch 10/100\n",
            "126/126 [==============================] - 26s 201ms/step - loss: 0.0082 - accuracy: 0.9989 - val_loss: 0.1227 - val_accuracy: 0.9926\n",
            "Epoch 11/100\n",
            "126/126 [==============================] - 26s 201ms/step - loss: 8.4745e-04 - accuracy: 0.9998 - val_loss: 0.2925 - val_accuracy: 0.9926\n",
            "Epoch 12/100\n",
            "126/126 [==============================] - 26s 201ms/step - loss: 0.0022 - accuracy: 0.9995 - val_loss: 0.0786 - val_accuracy: 0.9890\n",
            "Epoch 13/100\n",
            "126/126 [==============================] - 26s 201ms/step - loss: 4.1377e-05 - accuracy: 1.0000 - val_loss: 0.0366 - val_accuracy: 0.9926\n",
            "Epoch 14/100\n",
            "126/126 [==============================] - 26s 201ms/step - loss: 1.5068e-05 - accuracy: 1.0000 - val_loss: 0.0292 - val_accuracy: 0.9926\n",
            "Epoch 15/100\n",
            "126/126 [==============================] - 26s 201ms/step - loss: 0.0037 - accuracy: 0.9992 - val_loss: 0.2420 - val_accuracy: 0.9890\n",
            "Epoch 1/100\n",
            "126/126 [==============================] - 49s 210ms/step - loss: 1.0242 - accuracy: 0.5941 - val_loss: 0.4841 - val_accuracy: 0.9890\n",
            "Epoch 2/100\n",
            "126/126 [==============================] - 26s 204ms/step - loss: 0.4878 - accuracy: 0.8986 - val_loss: 0.2885 - val_accuracy: 0.9890\n",
            "Epoch 3/100\n",
            "126/126 [==============================] - 26s 201ms/step - loss: 0.3134 - accuracy: 0.9675 - val_loss: 0.2011 - val_accuracy: 0.9926\n",
            "Epoch 4/100\n",
            "126/126 [==============================] - 26s 202ms/step - loss: 0.2234 - accuracy: 0.9846 - val_loss: 0.1497 - val_accuracy: 0.9926\n",
            "Epoch 5/100\n",
            "126/126 [==============================] - 26s 203ms/step - loss: 0.1717 - accuracy: 0.9924 - val_loss: 0.1164 - val_accuracy: 0.9926\n",
            "Epoch 6/100\n",
            "126/126 [==============================] - 26s 202ms/step - loss: 0.1370 - accuracy: 0.9941 - val_loss: 0.0952 - val_accuracy: 0.9926\n",
            "Epoch 7/100\n",
            "126/126 [==============================] - 26s 202ms/step - loss: 0.1127 - accuracy: 0.9970 - val_loss: 0.0809 - val_accuracy: 0.9926\n",
            "Epoch 8/100\n",
            "126/126 [==============================] - 26s 203ms/step - loss: 0.0962 - accuracy: 0.9990 - val_loss: 0.0707 - val_accuracy: 0.9926\n",
            "Epoch 9/100\n",
            "126/126 [==============================] - 26s 202ms/step - loss: 0.0800 - accuracy: 0.9983 - val_loss: 0.0633 - val_accuracy: 0.9926\n",
            "Epoch 10/100\n",
            "126/126 [==============================] - 26s 202ms/step - loss: 0.0675 - accuracy: 0.9987 - val_loss: 0.0582 - val_accuracy: 0.9926\n",
            "Epoch 11/100\n",
            "126/126 [==============================] - 26s 202ms/step - loss: 0.0620 - accuracy: 0.9990 - val_loss: 0.0542 - val_accuracy: 0.9890\n",
            "Epoch 1/100\n",
            "126/126 [==============================] - 51s 212ms/step - loss: 0.0135 - accuracy: 0.9941 - val_loss: 0.0418 - val_accuracy: 0.9926\n",
            "Epoch 2/100\n",
            "126/126 [==============================] - 26s 205ms/step - loss: 6.4753e-06 - accuracy: 1.0000 - val_loss: 0.0399 - val_accuracy: 0.9926\n",
            "Epoch 3/100\n",
            "126/126 [==============================] - 26s 203ms/step - loss: 2.5708e-04 - accuracy: 0.9998 - val_loss: 0.0180 - val_accuracy: 0.9926\n",
            "Epoch 4/100\n",
            "126/126 [==============================] - 26s 204ms/step - loss: 2.0449e-04 - accuracy: 0.9998 - val_loss: 0.0297 - val_accuracy: 0.9926\n",
            "Epoch 5/100\n",
            "126/126 [==============================] - 26s 204ms/step - loss: 1.0888e-05 - accuracy: 1.0000 - val_loss: 0.0369 - val_accuracy: 0.9926\n",
            "Epoch 6/100\n",
            "126/126 [==============================] - 26s 204ms/step - loss: 5.8051e-06 - accuracy: 1.0000 - val_loss: 0.0393 - val_accuracy: 0.9926\n",
            "Epoch 7/100\n",
            "126/126 [==============================] - 26s 204ms/step - loss: 5.5311e-06 - accuracy: 1.0000 - val_loss: 0.0417 - val_accuracy: 0.9926\n",
            "Epoch 8/100\n",
            "126/126 [==============================] - 26s 204ms/step - loss: 3.2789e-05 - accuracy: 1.0000 - val_loss: 0.0498 - val_accuracy: 0.9926\n",
            "Epoch 9/100\n",
            "126/126 [==============================] - 26s 204ms/step - loss: 7.7078e-05 - accuracy: 1.0000 - val_loss: 0.0417 - val_accuracy: 0.9926\n",
            "Epoch 10/100\n",
            "126/126 [==============================] - 26s 204ms/step - loss: 7.8073e-07 - accuracy: 1.0000 - val_loss: 0.0437 - val_accuracy: 0.9926\n",
            "Epoch 11/100\n",
            "126/126 [==============================] - 26s 204ms/step - loss: 2.5987e-05 - accuracy: 1.0000 - val_loss: 0.0433 - val_accuracy: 0.9926\n",
            "Epoch 1/100\n",
            "126/126 [==============================] - 46s 210ms/step - loss: 0.0336 - accuracy: 0.9914 - val_loss: 0.0844 - val_accuracy: 0.9890\n",
            "Epoch 2/100\n",
            "126/126 [==============================] - 26s 204ms/step - loss: 0.0032 - accuracy: 0.9990 - val_loss: 0.0174 - val_accuracy: 0.9963\n",
            "Epoch 3/100\n",
            "126/126 [==============================] - 26s 201ms/step - loss: 0.0038 - accuracy: 0.9990 - val_loss: 0.0558 - val_accuracy: 0.9963\n",
            "Epoch 4/100\n",
            "126/126 [==============================] - 26s 202ms/step - loss: 1.9598e-05 - accuracy: 1.0000 - val_loss: 0.0487 - val_accuracy: 0.9963\n",
            "Epoch 5/100\n",
            "126/126 [==============================] - 26s 203ms/step - loss: 4.7587e-07 - accuracy: 1.0000 - val_loss: 0.0451 - val_accuracy: 0.9963\n",
            "Epoch 6/100\n",
            "126/126 [==============================] - 26s 202ms/step - loss: 0.0013 - accuracy: 0.9998 - val_loss: 0.0091 - val_accuracy: 0.9963\n",
            "Epoch 7/100\n",
            "126/126 [==============================] - 26s 202ms/step - loss: 2.8675e-05 - accuracy: 1.0000 - val_loss: 0.0423 - val_accuracy: 0.9890\n",
            "Epoch 8/100\n",
            "126/126 [==============================] - 26s 202ms/step - loss: 2.8382e-04 - accuracy: 0.9998 - val_loss: 0.2959 - val_accuracy: 0.9779\n",
            "Epoch 9/100\n",
            "126/126 [==============================] - 26s 202ms/step - loss: 4.5491e-04 - accuracy: 0.9998 - val_loss: 0.0770 - val_accuracy: 0.9926\n",
            "Epoch 10/100\n",
            "126/126 [==============================] - 26s 203ms/step - loss: 0.0045 - accuracy: 0.9995 - val_loss: 0.0522 - val_accuracy: 0.9926\n",
            "Epoch 11/100\n",
            "126/126 [==============================] - 26s 202ms/step - loss: 0.0105 - accuracy: 0.9992 - val_loss: 0.0389 - val_accuracy: 0.9926\n",
            "Epoch 1/100\n",
            "126/126 [==============================] - 51s 211ms/step - loss: 1.0483 - accuracy: 0.5943 - val_loss: 0.3262 - val_accuracy: 0.9853\n",
            "Epoch 2/100\n",
            "126/126 [==============================] - 26s 205ms/step - loss: 0.4255 - accuracy: 0.9181 - val_loss: 0.1689 - val_accuracy: 0.9963\n",
            "Epoch 3/100\n",
            "126/126 [==============================] - 26s 203ms/step - loss: 0.2593 - accuracy: 0.9743 - val_loss: 0.1114 - val_accuracy: 1.0000\n",
            "Epoch 4/100\n",
            "126/126 [==============================] - 26s 204ms/step - loss: 0.1768 - accuracy: 0.9903 - val_loss: 0.0829 - val_accuracy: 1.0000\n",
            "Epoch 5/100\n",
            "126/126 [==============================] - 26s 205ms/step - loss: 0.1305 - accuracy: 0.9965 - val_loss: 0.0664 - val_accuracy: 1.0000\n",
            "Epoch 6/100\n",
            "126/126 [==============================] - 26s 204ms/step - loss: 0.0993 - accuracy: 0.9979 - val_loss: 0.0559 - val_accuracy: 1.0000\n",
            "Epoch 7/100\n",
            "126/126 [==============================] - 26s 204ms/step - loss: 0.0800 - accuracy: 0.9984 - val_loss: 0.0488 - val_accuracy: 1.0000\n",
            "Epoch 8/100\n",
            "126/126 [==============================] - 26s 204ms/step - loss: 0.0671 - accuracy: 0.9990 - val_loss: 0.0437 - val_accuracy: 1.0000\n",
            "Epoch 9/100\n",
            "126/126 [==============================] - 26s 205ms/step - loss: 0.0541 - accuracy: 0.9989 - val_loss: 0.0400 - val_accuracy: 1.0000\n",
            "Epoch 10/100\n",
            "126/126 [==============================] - 26s 204ms/step - loss: 0.0487 - accuracy: 0.9990 - val_loss: 0.0369 - val_accuracy: 1.0000\n",
            "Epoch 11/100\n",
            "126/126 [==============================] - 26s 204ms/step - loss: 0.0423 - accuracy: 0.9987 - val_loss: 0.0345 - val_accuracy: 1.0000\n",
            "Epoch 1/100\n",
            "126/126 [==============================] - 51s 213ms/step - loss: 0.0160 - accuracy: 0.9937 - val_loss: 0.0083 - val_accuracy: 0.9963\n",
            "Epoch 2/100\n",
            "126/126 [==============================] - 26s 208ms/step - loss: 7.1594e-06 - accuracy: 1.0000 - val_loss: 0.0085 - val_accuracy: 0.9963\n",
            "Epoch 3/100\n",
            "126/126 [==============================] - 26s 206ms/step - loss: 9.0739e-05 - accuracy: 1.0000 - val_loss: 0.0276 - val_accuracy: 0.9926\n",
            "Epoch 4/100\n",
            "126/126 [==============================] - 26s 206ms/step - loss: 4.0887e-06 - accuracy: 1.0000 - val_loss: 0.0272 - val_accuracy: 0.9926\n",
            "Epoch 5/100\n",
            "126/126 [==============================] - 26s 206ms/step - loss: 1.1705e-05 - accuracy: 1.0000 - val_loss: 0.0126 - val_accuracy: 0.9926\n",
            "Epoch 6/100\n",
            "126/126 [==============================] - 26s 206ms/step - loss: 2.8781e-05 - accuracy: 1.0000 - val_loss: 0.0090 - val_accuracy: 0.9963\n",
            "Epoch 7/100\n",
            "126/126 [==============================] - 26s 206ms/step - loss: 1.1358e-05 - accuracy: 1.0000 - val_loss: 0.0098 - val_accuracy: 0.9963\n",
            "Epoch 8/100\n",
            "126/126 [==============================] - 26s 207ms/step - loss: 8.7815e-06 - accuracy: 1.0000 - val_loss: 0.0106 - val_accuracy: 0.9963\n",
            "Epoch 9/100\n",
            "126/126 [==============================] - 26s 206ms/step - loss: 1.8868e-06 - accuracy: 1.0000 - val_loss: 0.0106 - val_accuracy: 0.9963\n",
            "Epoch 10/100\n",
            "126/126 [==============================] - 26s 206ms/step - loss: 2.5698e-05 - accuracy: 1.0000 - val_loss: 0.0133 - val_accuracy: 0.9963\n",
            "Epoch 11/100\n",
            "126/126 [==============================] - 26s 206ms/step - loss: 3.0362e-07 - accuracy: 1.0000 - val_loss: 0.0134 - val_accuracy: 0.9963\n",
            "Epoch 1/100\n",
            "126/126 [==============================] - 46s 212ms/step - loss: 0.6249 - accuracy: 0.9895 - val_loss: 0.0177 - val_accuracy: 0.9963\n",
            "Epoch 2/100\n",
            "126/126 [==============================] - 26s 205ms/step - loss: 0.0066 - accuracy: 0.9990 - val_loss: 0.4962 - val_accuracy: 0.9816\n",
            "Epoch 3/100\n",
            "126/126 [==============================] - 26s 203ms/step - loss: 8.6094e-04 - accuracy: 0.9997 - val_loss: 0.0108 - val_accuracy: 0.9963\n",
            "Epoch 4/100\n",
            "126/126 [==============================] - 26s 204ms/step - loss: 0.0120 - accuracy: 0.9990 - val_loss: 0.1042 - val_accuracy: 0.9963\n",
            "Epoch 5/100\n",
            "126/126 [==============================] - 26s 205ms/step - loss: 0.0067 - accuracy: 0.9994 - val_loss: 0.5035 - val_accuracy: 0.9816\n",
            "Epoch 6/100\n",
            "126/126 [==============================] - 26s 204ms/step - loss: 0.0019 - accuracy: 0.9994 - val_loss: 0.0067 - val_accuracy: 0.9963\n",
            "Epoch 7/100\n",
            "126/126 [==============================] - 26s 204ms/step - loss: 0.0063 - accuracy: 0.9995 - val_loss: 0.2838 - val_accuracy: 0.9926\n",
            "Epoch 8/100\n",
            "126/126 [==============================] - 26s 205ms/step - loss: 0.0011 - accuracy: 0.9997 - val_loss: 0.0579 - val_accuracy: 0.9926\n",
            "Epoch 9/100\n",
            "126/126 [==============================] - 26s 204ms/step - loss: 0.0011 - accuracy: 0.9997 - val_loss: 0.4012 - val_accuracy: 0.9926\n",
            "Epoch 10/100\n",
            "126/126 [==============================] - 26s 204ms/step - loss: 0.0020 - accuracy: 0.9994 - val_loss: 0.1217 - val_accuracy: 0.9926\n",
            "Epoch 11/100\n",
            "126/126 [==============================] - 26s 204ms/step - loss: 0.0118 - accuracy: 0.9994 - val_loss: 0.0244 - val_accuracy: 0.9963\n",
            "Epoch 1/100\n",
            "126/126 [==============================] - 52s 214ms/step - loss: 0.8950 - accuracy: 0.6367 - val_loss: 0.1619 - val_accuracy: 0.9890\n",
            "Epoch 2/100\n",
            "126/126 [==============================] - 26s 208ms/step - loss: 0.4351 - accuracy: 0.8830 - val_loss: 0.0862 - val_accuracy: 0.9963\n",
            "Epoch 3/100\n",
            "126/126 [==============================] - 26s 206ms/step - loss: 0.2844 - accuracy: 0.9589 - val_loss: 0.0630 - val_accuracy: 0.9963\n",
            "Epoch 4/100\n",
            "126/126 [==============================] - 26s 206ms/step - loss: 0.2110 - accuracy: 0.9787 - val_loss: 0.0518 - val_accuracy: 0.9963\n",
            "Epoch 5/100\n",
            "126/126 [==============================] - 26s 206ms/step - loss: 0.1598 - accuracy: 0.9903 - val_loss: 0.0456 - val_accuracy: 0.9963\n",
            "Epoch 6/100\n",
            "126/126 [==============================] - 26s 206ms/step - loss: 0.1290 - accuracy: 0.9937 - val_loss: 0.0413 - val_accuracy: 0.9963\n",
            "Epoch 7/100\n",
            "126/126 [==============================] - 26s 206ms/step - loss: 0.1048 - accuracy: 0.9973 - val_loss: 0.0386 - val_accuracy: 0.9963\n",
            "Epoch 8/100\n",
            "126/126 [==============================] - 26s 206ms/step - loss: 0.0890 - accuracy: 0.9976 - val_loss: 0.0364 - val_accuracy: 0.9963\n",
            "Epoch 9/100\n",
            "126/126 [==============================] - 26s 206ms/step - loss: 0.0735 - accuracy: 0.9986 - val_loss: 0.0347 - val_accuracy: 0.9963\n",
            "Epoch 10/100\n",
            "126/126 [==============================] - 26s 206ms/step - loss: 0.0642 - accuracy: 0.9986 - val_loss: 0.0333 - val_accuracy: 0.9963\n",
            "Epoch 11/100\n",
            "126/126 [==============================] - 26s 206ms/step - loss: 0.0572 - accuracy: 0.9995 - val_loss: 0.0322 - val_accuracy: 0.9963\n",
            "Epoch 1/100\n",
            "126/126 [==============================] - 49s 210ms/step - loss: 0.0221 - accuracy: 0.9935 - val_loss: 0.0185 - val_accuracy: 0.9890\n",
            "Epoch 2/100\n",
            "126/126 [==============================] - 26s 204ms/step - loss: 7.7844e-05 - accuracy: 1.0000 - val_loss: 0.0196 - val_accuracy: 0.9890\n",
            "Epoch 3/100\n",
            "126/126 [==============================] - 26s 202ms/step - loss: 1.0185e-04 - accuracy: 1.0000 - val_loss: 0.0209 - val_accuracy: 0.9890\n",
            "Epoch 4/100\n",
            "126/126 [==============================] - 26s 203ms/step - loss: 0.0040 - accuracy: 0.9998 - val_loss: 0.0134 - val_accuracy: 0.9963\n",
            "Epoch 5/100\n",
            "126/126 [==============================] - 26s 203ms/step - loss: 6.0011e-05 - accuracy: 1.0000 - val_loss: 0.0116 - val_accuracy: 0.9963\n",
            "Epoch 6/100\n",
            "126/126 [==============================] - 26s 202ms/step - loss: 3.5303e-04 - accuracy: 0.9998 - val_loss: 0.0055 - val_accuracy: 1.0000\n",
            "Epoch 7/100\n",
            "126/126 [==============================] - 26s 202ms/step - loss: 5.0428e-05 - accuracy: 1.0000 - val_loss: 0.0049 - val_accuracy: 1.0000\n",
            "Epoch 8/100\n",
            "126/126 [==============================] - 26s 202ms/step - loss: 4.0389e-05 - accuracy: 1.0000 - val_loss: 0.0045 - val_accuracy: 1.0000\n",
            "Epoch 9/100\n",
            "126/126 [==============================] - 26s 203ms/step - loss: 1.5055e-05 - accuracy: 1.0000 - val_loss: 0.0043 - val_accuracy: 1.0000\n",
            "Epoch 10/100\n",
            "126/126 [==============================] - 26s 202ms/step - loss: 3.2843e-06 - accuracy: 1.0000 - val_loss: 0.0040 - val_accuracy: 1.0000\n",
            "Epoch 11/100\n",
            "126/126 [==============================] - 26s 203ms/step - loss: 1.4792e-05 - accuracy: 1.0000 - val_loss: 0.0036 - val_accuracy: 1.0000\n",
            "Epoch 1/100\n",
            "126/126 [==============================] - 47s 209ms/step - loss: 0.0267 - accuracy: 0.9937 - val_loss: 0.0240 - val_accuracy: 0.9926\n",
            "Epoch 2/100\n",
            "126/126 [==============================] - 26s 203ms/step - loss: 9.9160e-06 - accuracy: 1.0000 - val_loss: 0.0097 - val_accuracy: 0.9963\n",
            "Epoch 3/100\n",
            "126/126 [==============================] - 25s 200ms/step - loss: 6.2007e-05 - accuracy: 1.0000 - val_loss: 0.0511 - val_accuracy: 0.9853\n",
            "Epoch 4/100\n",
            "126/126 [==============================] - 25s 200ms/step - loss: 3.7933e-06 - accuracy: 1.0000 - val_loss: 0.0350 - val_accuracy: 0.9926\n",
            "Epoch 5/100\n",
            "126/126 [==============================] - 26s 201ms/step - loss: 0.0027 - accuracy: 0.9997 - val_loss: 0.0151 - val_accuracy: 0.9926\n",
            "Epoch 6/100\n",
            "126/126 [==============================] - 26s 201ms/step - loss: 0.0018 - accuracy: 0.9995 - val_loss: 0.0113 - val_accuracy: 0.9963\n",
            "Epoch 7/100\n",
            "126/126 [==============================] - 26s 200ms/step - loss: 0.0013 - accuracy: 0.9995 - val_loss: 0.0107 - val_accuracy: 0.9963\n",
            "Epoch 8/100\n",
            "126/126 [==============================] - 26s 201ms/step - loss: 4.9036e-05 - accuracy: 1.0000 - val_loss: 0.0098 - val_accuracy: 0.9963\n",
            "Epoch 9/100\n",
            "126/126 [==============================] - 26s 201ms/step - loss: 9.6487e-06 - accuracy: 1.0000 - val_loss: 0.0050 - val_accuracy: 1.0000\n",
            "Epoch 10/100\n",
            "126/126 [==============================] - 26s 201ms/step - loss: 2.0914e-06 - accuracy: 1.0000 - val_loss: 9.8000e-05 - val_accuracy: 1.0000\n",
            "Epoch 11/100\n",
            "126/126 [==============================] - 26s 201ms/step - loss: 4.8610e-07 - accuracy: 1.0000 - val_loss: 3.0713e-05 - val_accuracy: 1.0000\n",
            "Epoch 12/100\n",
            "126/126 [==============================] - 26s 201ms/step - loss: 0.0041 - accuracy: 0.9995 - val_loss: 1.4684e-04 - val_accuracy: 1.0000\n",
            "Epoch 13/100\n",
            "126/126 [==============================] - 26s 201ms/step - loss: 0.0153 - accuracy: 0.9990 - val_loss: 0.0592 - val_accuracy: 0.9853\n",
            "Epoch 14/100\n",
            "126/126 [==============================] - 26s 201ms/step - loss: 9.8495e-04 - accuracy: 0.9997 - val_loss: 0.0289 - val_accuracy: 0.9926\n",
            "Epoch 1/100\n",
            "126/126 [==============================] - 51s 210ms/step - loss: 1.2465 - accuracy: 0.5011 - val_loss: 0.4707 - val_accuracy: 0.9706\n",
            "Epoch 2/100\n",
            "126/126 [==============================] - 26s 204ms/step - loss: 0.6148 - accuracy: 0.7983 - val_loss: 0.2619 - val_accuracy: 0.9890\n",
            "Epoch 3/100\n",
            "126/126 [==============================] - 26s 201ms/step - loss: 0.3912 - accuracy: 0.9025 - val_loss: 0.1735 - val_accuracy: 0.9926\n",
            "Epoch 4/100\n",
            "126/126 [==============================] - 26s 202ms/step - loss: 0.2681 - accuracy: 0.9475 - val_loss: 0.1260 - val_accuracy: 0.9926\n",
            "Epoch 5/100\n",
            "126/126 [==============================] - 26s 203ms/step - loss: 0.2023 - accuracy: 0.9694 - val_loss: 0.0967 - val_accuracy: 0.9890\n",
            "Epoch 6/100\n",
            "126/126 [==============================] - 26s 201ms/step - loss: 0.1539 - accuracy: 0.9817 - val_loss: 0.0780 - val_accuracy: 0.9926\n",
            "Epoch 7/100\n",
            "126/126 [==============================] - 26s 202ms/step - loss: 0.1164 - accuracy: 0.9865 - val_loss: 0.0652 - val_accuracy: 0.9926\n",
            "Epoch 8/100\n",
            "126/126 [==============================] - 26s 202ms/step - loss: 0.0915 - accuracy: 0.9932 - val_loss: 0.0560 - val_accuracy: 0.9926\n",
            "Epoch 9/100\n",
            "126/126 [==============================] - 26s 203ms/step - loss: 0.0761 - accuracy: 0.9941 - val_loss: 0.0493 - val_accuracy: 0.9926\n",
            "Epoch 10/100\n",
            "126/126 [==============================] - 26s 202ms/step - loss: 0.0667 - accuracy: 0.9959 - val_loss: 0.0445 - val_accuracy: 0.9926\n",
            "Epoch 11/100\n",
            "126/126 [==============================] - 26s 202ms/step - loss: 0.0532 - accuracy: 0.9968 - val_loss: 0.0406 - val_accuracy: 0.9926\n",
            "Epoch 1/100\n",
            "126/126 [==============================] - 50s 211ms/step - loss: 0.0194 - accuracy: 0.9933 - val_loss: 0.1072 - val_accuracy: 0.9926\n",
            "Epoch 2/100\n",
            "126/126 [==============================] - 26s 205ms/step - loss: 4.3241e-05 - accuracy: 1.0000 - val_loss: 0.1067 - val_accuracy: 0.9926\n",
            "Epoch 3/100\n",
            "126/126 [==============================] - 26s 203ms/step - loss: 1.8551e-04 - accuracy: 1.0000 - val_loss: 0.1163 - val_accuracy: 0.9926\n",
            "Epoch 4/100\n",
            "126/126 [==============================] - 26s 203ms/step - loss: 1.8482e-05 - accuracy: 1.0000 - val_loss: 0.1082 - val_accuracy: 0.9926\n",
            "Epoch 5/100\n",
            "126/126 [==============================] - 26s 205ms/step - loss: 7.2552e-06 - accuracy: 1.0000 - val_loss: 0.1086 - val_accuracy: 0.9926\n",
            "Epoch 6/100\n",
            "126/126 [==============================] - 26s 204ms/step - loss: 1.7154e-05 - accuracy: 1.0000 - val_loss: 0.1061 - val_accuracy: 0.9926\n",
            "Epoch 7/100\n",
            "126/126 [==============================] - 26s 204ms/step - loss: 7.2438e-06 - accuracy: 1.0000 - val_loss: 0.1064 - val_accuracy: 0.9926\n",
            "Epoch 8/100\n",
            "126/126 [==============================] - 26s 204ms/step - loss: 1.6218e-06 - accuracy: 1.0000 - val_loss: 0.1074 - val_accuracy: 0.9926\n",
            "Epoch 9/100\n",
            "126/126 [==============================] - 26s 204ms/step - loss: 1.2629e-06 - accuracy: 1.0000 - val_loss: 0.1073 - val_accuracy: 0.9926\n",
            "Epoch 10/100\n",
            "126/126 [==============================] - 26s 204ms/step - loss: 3.2682e-06 - accuracy: 1.0000 - val_loss: 0.1072 - val_accuracy: 0.9926\n",
            "Epoch 11/100\n",
            "126/126 [==============================] - 26s 204ms/step - loss: 1.7512e-06 - accuracy: 1.0000 - val_loss: 0.1078 - val_accuracy: 0.9926\n",
            "Epoch 1/100\n",
            "126/126 [==============================] - 48s 211ms/step - loss: 0.0226 - accuracy: 0.9921 - val_loss: 0.0665 - val_accuracy: 0.9926\n",
            "Epoch 2/100\n",
            "126/126 [==============================] - 26s 204ms/step - loss: 0.0031 - accuracy: 0.9995 - val_loss: 0.0614 - val_accuracy: 0.9926\n",
            "Epoch 3/100\n",
            "126/126 [==============================] - 26s 201ms/step - loss: 0.0092 - accuracy: 0.9984 - val_loss: 3.4140e-07 - val_accuracy: 1.0000\n",
            "Epoch 4/100\n",
            "126/126 [==============================] - 26s 202ms/step - loss: 1.3203e-05 - accuracy: 1.0000 - val_loss: 2.9005e-05 - val_accuracy: 1.0000\n",
            "Epoch 5/100\n",
            "126/126 [==============================] - 26s 203ms/step - loss: 0.0016 - accuracy: 0.9998 - val_loss: 0.0975 - val_accuracy: 0.9926\n",
            "Epoch 6/100\n",
            "126/126 [==============================] - 26s 202ms/step - loss: 0.0023 - accuracy: 0.9997 - val_loss: 0.0938 - val_accuracy: 0.9926\n",
            "Epoch 7/100\n",
            "126/126 [==============================] - 26s 202ms/step - loss: 8.7462e-06 - accuracy: 1.0000 - val_loss: 0.0656 - val_accuracy: 0.9926\n",
            "Epoch 8/100\n",
            "126/126 [==============================] - 26s 202ms/step - loss: 0.0012 - accuracy: 0.9997 - val_loss: 3.2544e-04 - val_accuracy: 1.0000\n",
            "Epoch 9/100\n",
            "126/126 [==============================] - 26s 202ms/step - loss: 3.1426e-05 - accuracy: 1.0000 - val_loss: 0.0238 - val_accuracy: 0.9926\n",
            "Epoch 10/100\n",
            "126/126 [==============================] - 26s 202ms/step - loss: 1.3840e-06 - accuracy: 1.0000 - val_loss: 0.0281 - val_accuracy: 0.9926\n",
            "Epoch 11/100\n",
            "126/126 [==============================] - 26s 202ms/step - loss: 5.9473e-06 - accuracy: 1.0000 - val_loss: 0.0254 - val_accuracy: 0.9890\n",
            "Epoch 12/100\n",
            "126/126 [==============================] - 26s 202ms/step - loss: 4.9327e-07 - accuracy: 1.0000 - val_loss: 0.0246 - val_accuracy: 0.9926\n",
            "Epoch 13/100\n",
            "126/126 [==============================] - 26s 202ms/step - loss: 3.8637e-06 - accuracy: 1.0000 - val_loss: 0.0143 - val_accuracy: 0.9963\n",
            "Epoch 1/100\n",
            "126/126 [==============================] - 50s 211ms/step - loss: 1.4514 - accuracy: 0.4783 - val_loss: 0.3783 - val_accuracy: 0.9743\n",
            "Epoch 2/100\n",
            "126/126 [==============================] - 26s 205ms/step - loss: 0.5666 - accuracy: 0.8049 - val_loss: 0.2085 - val_accuracy: 0.9890\n",
            "Epoch 3/100\n",
            "126/126 [==============================] - 26s 203ms/step - loss: 0.3306 - accuracy: 0.9186 - val_loss: 0.1395 - val_accuracy: 0.9926\n",
            "Epoch 4/100\n",
            "126/126 [==============================] - 26s 204ms/step - loss: 0.2218 - accuracy: 0.9568 - val_loss: 0.1025 - val_accuracy: 0.9926\n",
            "Epoch 5/100\n",
            "126/126 [==============================] - 26s 205ms/step - loss: 0.1606 - accuracy: 0.9735 - val_loss: 0.0796 - val_accuracy: 0.9926\n",
            "Epoch 6/100\n",
            "126/126 [==============================] - 26s 204ms/step - loss: 0.1152 - accuracy: 0.9852 - val_loss: 0.0648 - val_accuracy: 0.9926\n",
            "Epoch 7/100\n",
            "126/126 [==============================] - 26s 204ms/step - loss: 0.0901 - accuracy: 0.9903 - val_loss: 0.0541 - val_accuracy: 0.9926\n",
            "Epoch 8/100\n",
            "126/126 [==============================] - 26s 204ms/step - loss: 0.0720 - accuracy: 0.9944 - val_loss: 0.0463 - val_accuracy: 0.9926\n",
            "Epoch 9/100\n",
            "126/126 [==============================] - 26s 204ms/step - loss: 0.0553 - accuracy: 0.9959 - val_loss: 0.0402 - val_accuracy: 0.9926\n",
            "Epoch 10/100\n",
            "126/126 [==============================] - 26s 204ms/step - loss: 0.0443 - accuracy: 0.9983 - val_loss: 0.0355 - val_accuracy: 0.9926\n",
            "Epoch 11/100\n",
            "126/126 [==============================] - 26s 204ms/step - loss: 0.0400 - accuracy: 0.9987 - val_loss: 0.0320 - val_accuracy: 0.9926\n",
            "Epoch 1/100\n",
            "126/126 [==============================] - 51s 214ms/step - loss: 0.0209 - accuracy: 0.9925 - val_loss: 0.0131 - val_accuracy: 0.9926\n",
            "Epoch 2/100\n",
            "126/126 [==============================] - 26s 208ms/step - loss: 8.2023e-05 - accuracy: 1.0000 - val_loss: 0.0117 - val_accuracy: 0.9926\n",
            "Epoch 3/100\n",
            "126/126 [==============================] - 26s 206ms/step - loss: 3.5836e-04 - accuracy: 0.9998 - val_loss: 0.0081 - val_accuracy: 0.9963\n",
            "Epoch 4/100\n",
            "126/126 [==============================] - 26s 207ms/step - loss: 4.9907e-05 - accuracy: 1.0000 - val_loss: 0.0084 - val_accuracy: 0.9963\n",
            "Epoch 5/100\n",
            "126/126 [==============================] - 26s 207ms/step - loss: 1.4719e-05 - accuracy: 1.0000 - val_loss: 0.0086 - val_accuracy: 0.9963\n",
            "Epoch 6/100\n",
            "126/126 [==============================] - 26s 206ms/step - loss: 1.2553e-05 - accuracy: 1.0000 - val_loss: 0.0079 - val_accuracy: 0.9926\n",
            "Epoch 7/100\n",
            "126/126 [==============================] - 26s 206ms/step - loss: 3.9634e-06 - accuracy: 1.0000 - val_loss: 0.0078 - val_accuracy: 0.9963\n",
            "Epoch 8/100\n",
            "126/126 [==============================] - 26s 206ms/step - loss: 1.8050e-05 - accuracy: 1.0000 - val_loss: 0.0079 - val_accuracy: 0.9963\n",
            "Epoch 9/100\n",
            "126/126 [==============================] - 26s 207ms/step - loss: 3.3412e-04 - accuracy: 0.9998 - val_loss: 0.0165 - val_accuracy: 0.9926\n",
            "Epoch 10/100\n",
            "126/126 [==============================] - 26s 208ms/step - loss: 2.1533e-05 - accuracy: 1.0000 - val_loss: 0.0103 - val_accuracy: 0.9963\n",
            "Epoch 11/100\n",
            "126/126 [==============================] - 26s 206ms/step - loss: 4.4067e-05 - accuracy: 1.0000 - val_loss: 0.0122 - val_accuracy: 0.9963\n",
            "Epoch 12/100\n",
            "126/126 [==============================] - 26s 206ms/step - loss: 2.6017e-05 - accuracy: 1.0000 - val_loss: 0.0142 - val_accuracy: 0.9963\n",
            "Epoch 1/100\n",
            "126/126 [==============================] - 46s 212ms/step - loss: 0.0194 - accuracy: 0.9940 - val_loss: 0.0603 - val_accuracy: 0.9926\n",
            "Epoch 2/100\n",
            "126/126 [==============================] - 26s 205ms/step - loss: 3.3543e-05 - accuracy: 1.0000 - val_loss: 0.1120 - val_accuracy: 0.9890\n",
            "Epoch 3/100\n",
            "126/126 [==============================] - 26s 203ms/step - loss: 1.2503e-04 - accuracy: 1.0000 - val_loss: 0.0586 - val_accuracy: 0.9926\n",
            "Epoch 4/100\n",
            "126/126 [==============================] - 26s 204ms/step - loss: 1.8716e-04 - accuracy: 0.9998 - val_loss: 0.2160 - val_accuracy: 0.9853\n",
            "Epoch 5/100\n",
            "126/126 [==============================] - 26s 204ms/step - loss: 4.6929e-05 - accuracy: 1.0000 - val_loss: 0.0839 - val_accuracy: 0.9890\n",
            "Epoch 6/100\n",
            "126/126 [==============================] - 26s 204ms/step - loss: 2.4692e-05 - accuracy: 1.0000 - val_loss: 0.0742 - val_accuracy: 0.9926\n",
            "Epoch 7/100\n",
            "126/126 [==============================] - 26s 204ms/step - loss: 2.7842e-06 - accuracy: 1.0000 - val_loss: 0.0447 - val_accuracy: 0.9926\n",
            "Epoch 8/100\n",
            "126/126 [==============================] - 26s 204ms/step - loss: 6.2510e-07 - accuracy: 1.0000 - val_loss: 0.0448 - val_accuracy: 0.9926\n",
            "Epoch 9/100\n",
            "126/126 [==============================] - 26s 204ms/step - loss: 2.9119e-07 - accuracy: 1.0000 - val_loss: 0.0455 - val_accuracy: 0.9926\n",
            "Epoch 10/100\n",
            "126/126 [==============================] - 26s 204ms/step - loss: 3.7741e-06 - accuracy: 1.0000 - val_loss: 0.0463 - val_accuracy: 0.9926\n",
            "Epoch 11/100\n",
            "126/126 [==============================] - 26s 204ms/step - loss: 1.9591e-05 - accuracy: 1.0000 - val_loss: 0.1227 - val_accuracy: 0.9890\n",
            "Epoch 1/100\n",
            "126/126 [==============================] - 51s 215ms/step - loss: 1.0345 - accuracy: 0.5841 - val_loss: 0.3244 - val_accuracy: 0.9890\n",
            "Epoch 2/100\n",
            "126/126 [==============================] - 26s 207ms/step - loss: 0.4022 - accuracy: 0.8914 - val_loss: 0.1527 - val_accuracy: 0.9890\n",
            "Epoch 3/100\n",
            "126/126 [==============================] - 26s 206ms/step - loss: 0.2179 - accuracy: 0.9644 - val_loss: 0.0919 - val_accuracy: 0.9890\n",
            "Epoch 4/100\n",
            "126/126 [==============================] - 26s 206ms/step - loss: 0.1295 - accuracy: 0.9860 - val_loss: 0.0627 - val_accuracy: 0.9890\n",
            "Epoch 5/100\n",
            "126/126 [==============================] - 26s 207ms/step - loss: 0.0848 - accuracy: 0.9935 - val_loss: 0.0473 - val_accuracy: 0.9890\n",
            "Epoch 6/100\n",
            "126/126 [==============================] - 26s 206ms/step - loss: 0.0572 - accuracy: 0.9981 - val_loss: 0.0384 - val_accuracy: 0.9890\n",
            "Epoch 7/100\n",
            "126/126 [==============================] - 26s 206ms/step - loss: 0.0425 - accuracy: 0.9987 - val_loss: 0.0330 - val_accuracy: 0.9890\n",
            "Epoch 8/100\n",
            "126/126 [==============================] - 26s 206ms/step - loss: 0.0326 - accuracy: 0.9986 - val_loss: 0.0295 - val_accuracy: 0.9890\n",
            "Epoch 9/100\n",
            "126/126 [==============================] - 26s 206ms/step - loss: 0.0252 - accuracy: 0.9992 - val_loss: 0.0273 - val_accuracy: 0.9890\n",
            "Epoch 10/100\n",
            "126/126 [==============================] - 26s 206ms/step - loss: 0.0204 - accuracy: 0.9995 - val_loss: 0.0257 - val_accuracy: 0.9890\n",
            "Epoch 11/100\n",
            "126/126 [==============================] - 26s 206ms/step - loss: 0.0169 - accuracy: 0.9995 - val_loss: 0.0247 - val_accuracy: 0.9890\n",
            "Epoch 1/100\n",
            "126/126 [==============================] - 49s 209ms/step - loss: 0.0342 - accuracy: 0.9925 - val_loss: 0.0376 - val_accuracy: 0.9963\n",
            "Epoch 2/100\n",
            "126/126 [==============================] - 26s 204ms/step - loss: 5.7063e-04 - accuracy: 0.9998 - val_loss: 0.0384 - val_accuracy: 0.9963\n",
            "Epoch 3/100\n",
            "126/126 [==============================] - 26s 201ms/step - loss: 7.3469e-05 - accuracy: 1.0000 - val_loss: 0.0379 - val_accuracy: 0.9963\n",
            "Epoch 4/100\n",
            "126/126 [==============================] - 26s 202ms/step - loss: 1.0175e-04 - accuracy: 1.0000 - val_loss: 0.0372 - val_accuracy: 0.9963\n",
            "Epoch 5/100\n",
            "126/126 [==============================] - 26s 203ms/step - loss: 9.6774e-05 - accuracy: 1.0000 - val_loss: 0.0373 - val_accuracy: 0.9963\n",
            "Epoch 6/100\n",
            "126/126 [==============================] - 26s 202ms/step - loss: 5.1632e-04 - accuracy: 0.9998 - val_loss: 0.0215 - val_accuracy: 0.9963\n",
            "Epoch 7/100\n",
            "126/126 [==============================] - 26s 202ms/step - loss: 0.0029 - accuracy: 0.9997 - val_loss: 0.0219 - val_accuracy: 0.9963\n",
            "Epoch 8/100\n",
            "126/126 [==============================] - 26s 202ms/step - loss: 6.5847e-05 - accuracy: 1.0000 - val_loss: 0.0189 - val_accuracy: 0.9963\n",
            "Epoch 9/100\n",
            "126/126 [==============================] - 26s 202ms/step - loss: 3.5882e-05 - accuracy: 1.0000 - val_loss: 0.0158 - val_accuracy: 0.9963\n",
            "Epoch 10/100\n",
            "126/126 [==============================] - 26s 202ms/step - loss: 9.1194e-06 - accuracy: 1.0000 - val_loss: 0.0125 - val_accuracy: 0.9963\n",
            "Epoch 11/100\n",
            "126/126 [==============================] - 26s 202ms/step - loss: 1.6908e-05 - accuracy: 1.0000 - val_loss: 0.0096 - val_accuracy: 0.9963\n",
            "Epoch 1/100\n",
            "126/126 [==============================] - 46s 207ms/step - loss: 0.0266 - accuracy: 0.9935 - val_loss: 7.7604e-06 - val_accuracy: 1.0000\n",
            "Epoch 2/100\n",
            "126/126 [==============================] - 26s 202ms/step - loss: 0.0042 - accuracy: 0.9992 - val_loss: 0.5163 - val_accuracy: 0.9743\n",
            "Epoch 3/100\n",
            "126/126 [==============================] - 25s 199ms/step - loss: 0.0075 - accuracy: 0.9994 - val_loss: 0.2729 - val_accuracy: 0.9926\n",
            "Epoch 4/100\n",
            "126/126 [==============================] - 25s 200ms/step - loss: 0.0057 - accuracy: 0.9994 - val_loss: 0.1085 - val_accuracy: 0.9926\n",
            "Epoch 5/100\n",
            "126/126 [==============================] - 26s 201ms/step - loss: 0.0073 - accuracy: 0.9992 - val_loss: 0.6607 - val_accuracy: 0.9926\n",
            "Epoch 6/100\n",
            "126/126 [==============================] - 25s 200ms/step - loss: 0.0037 - accuracy: 0.9992 - val_loss: 0.1735 - val_accuracy: 0.9926\n",
            "Epoch 7/100\n",
            "126/126 [==============================] - 25s 200ms/step - loss: 1.7094e-04 - accuracy: 0.9998 - val_loss: 5.4561e-07 - val_accuracy: 1.0000\n",
            "Epoch 8/100\n",
            "126/126 [==============================] - 25s 200ms/step - loss: 5.6752e-06 - accuracy: 1.0000 - val_loss: 2.0905e-07 - val_accuracy: 1.0000\n",
            "Epoch 9/100\n",
            "126/126 [==============================] - 25s 200ms/step - loss: 9.9522e-04 - accuracy: 0.9998 - val_loss: 1.4024e-07 - val_accuracy: 1.0000\n",
            "Epoch 10/100\n",
            "126/126 [==============================] - 25s 200ms/step - loss: 1.7863e-04 - accuracy: 1.0000 - val_loss: 0.0364 - val_accuracy: 0.9963\n",
            "Epoch 11/100\n",
            "126/126 [==============================] - 25s 200ms/step - loss: 6.0682e-04 - accuracy: 0.9997 - val_loss: 0.0067 - val_accuracy: 0.9926\n",
            "Epoch 12/100\n",
            "126/126 [==============================] - 25s 200ms/step - loss: 4.1778e-04 - accuracy: 0.9998 - val_loss: 0.0022 - val_accuracy: 1.0000\n",
            "Epoch 1/100\n",
            "126/126 [==============================] - 51s 211ms/step - loss: 1.8056 - accuracy: 0.3581 - val_loss: 0.5294 - val_accuracy: 0.9301\n",
            "Epoch 2/100\n",
            "126/126 [==============================] - 26s 205ms/step - loss: 0.9875 - accuracy: 0.6005 - val_loss: 0.2884 - val_accuracy: 0.9963\n",
            "Epoch 3/100\n",
            "126/126 [==============================] - 26s 201ms/step - loss: 0.6527 - accuracy: 0.7411 - val_loss: 0.1940 - val_accuracy: 1.0000\n",
            "Epoch 4/100\n",
            "126/126 [==============================] - 26s 203ms/step - loss: 0.4675 - accuracy: 0.8303 - val_loss: 0.1427 - val_accuracy: 1.0000\n",
            "Epoch 5/100\n",
            "126/126 [==============================] - 26s 203ms/step - loss: 0.3616 - accuracy: 0.8816 - val_loss: 0.1097 - val_accuracy: 1.0000\n",
            "Epoch 6/100\n",
            "126/126 [==============================] - 26s 202ms/step - loss: 0.2668 - accuracy: 0.9244 - val_loss: 0.0877 - val_accuracy: 1.0000\n",
            "Epoch 7/100\n",
            "126/126 [==============================] - 26s 202ms/step - loss: 0.2109 - accuracy: 0.9471 - val_loss: 0.0721 - val_accuracy: 1.0000\n",
            "Epoch 8/100\n",
            "126/126 [==============================] - 26s 203ms/step - loss: 0.1792 - accuracy: 0.9586 - val_loss: 0.0601 - val_accuracy: 1.0000\n",
            "Epoch 9/100\n",
            "126/126 [==============================] - 26s 203ms/step - loss: 0.1499 - accuracy: 0.9670 - val_loss: 0.0510 - val_accuracy: 1.0000\n",
            "Epoch 10/100\n",
            "126/126 [==============================] - 26s 202ms/step - loss: 0.1292 - accuracy: 0.9733 - val_loss: 0.0440 - val_accuracy: 1.0000\n",
            "Epoch 11/100\n",
            "126/126 [==============================] - 26s 203ms/step - loss: 0.1059 - accuracy: 0.9808 - val_loss: 0.0384 - val_accuracy: 1.0000\n",
            "Epoch 1/100\n",
            "126/126 [==============================] - 49s 211ms/step - loss: 0.0239 - accuracy: 0.9937 - val_loss: 5.1466e-04 - val_accuracy: 1.0000\n",
            "Epoch 2/100\n",
            "126/126 [==============================] - 26s 205ms/step - loss: 5.6441e-04 - accuracy: 0.9998 - val_loss: 0.0029 - val_accuracy: 0.9963\n",
            "Epoch 3/100\n",
            "126/126 [==============================] - 26s 203ms/step - loss: 1.5704e-04 - accuracy: 1.0000 - val_loss: 0.0035 - val_accuracy: 0.9963\n",
            "Epoch 4/100\n",
            "126/126 [==============================] - 26s 204ms/step - loss: 7.9284e-05 - accuracy: 1.0000 - val_loss: 0.0061 - val_accuracy: 0.9963\n",
            "Epoch 5/100\n",
            "126/126 [==============================] - 26s 205ms/step - loss: 0.0059 - accuracy: 0.9998 - val_loss: 0.0234 - val_accuracy: 0.9963\n",
            "Epoch 6/100\n",
            "126/126 [==============================] - 26s 204ms/step - loss: 1.3496e-04 - accuracy: 1.0000 - val_loss: 0.0278 - val_accuracy: 0.9963\n",
            "Epoch 7/100\n",
            "126/126 [==============================] - 26s 204ms/step - loss: 3.6089e-04 - accuracy: 0.9998 - val_loss: 0.0293 - val_accuracy: 0.9963\n",
            "Epoch 8/100\n",
            "126/126 [==============================] - 26s 204ms/step - loss: 2.3294e-05 - accuracy: 1.0000 - val_loss: 0.0317 - val_accuracy: 0.9963\n",
            "Epoch 9/100\n",
            "126/126 [==============================] - 26s 205ms/step - loss: 2.0123e-04 - accuracy: 1.0000 - val_loss: 0.0336 - val_accuracy: 0.9963\n",
            "Epoch 10/100\n",
            "126/126 [==============================] - 26s 203ms/step - loss: 1.0010e-05 - accuracy: 1.0000 - val_loss: 0.0348 - val_accuracy: 0.9963\n",
            "Epoch 11/100\n",
            "126/126 [==============================] - 26s 203ms/step - loss: 3.2073e-05 - accuracy: 1.0000 - val_loss: 0.0359 - val_accuracy: 0.9963\n",
            "Epoch 1/100\n",
            "126/126 [==============================] - 46s 210ms/step - loss: 0.0527 - accuracy: 0.9910 - val_loss: 0.0016 - val_accuracy: 1.0000\n",
            "Epoch 2/100\n",
            "126/126 [==============================] - 26s 202ms/step - loss: 6.8492e-04 - accuracy: 0.9998 - val_loss: 0.0306 - val_accuracy: 0.9963\n",
            "Epoch 3/100\n",
            "126/126 [==============================] - 25s 200ms/step - loss: 0.0011 - accuracy: 0.9995 - val_loss: 0.0259 - val_accuracy: 0.9926\n",
            "Epoch 4/100\n",
            "126/126 [==============================] - 26s 201ms/step - loss: 3.1342e-05 - accuracy: 1.0000 - val_loss: 9.3601e-05 - val_accuracy: 1.0000\n",
            "Epoch 5/100\n",
            "126/126 [==============================] - 26s 202ms/step - loss: 1.2407e-05 - accuracy: 1.0000 - val_loss: 0.0033 - val_accuracy: 0.9963\n",
            "Epoch 6/100\n",
            "126/126 [==============================] - 26s 201ms/step - loss: 0.0037 - accuracy: 0.9997 - val_loss: 7.4506e-09 - val_accuracy: 1.0000\n",
            "Epoch 7/100\n",
            "126/126 [==============================] - 26s 201ms/step - loss: 0.0045 - accuracy: 0.9997 - val_loss: 0.0336 - val_accuracy: 0.9926\n",
            "Epoch 8/100\n",
            "126/126 [==============================] - 26s 201ms/step - loss: 0.0118 - accuracy: 0.9992 - val_loss: 0.0484 - val_accuracy: 0.9926\n",
            "Epoch 9/100\n",
            "126/126 [==============================] - 26s 201ms/step - loss: 2.1227e-05 - accuracy: 1.0000 - val_loss: 0.0242 - val_accuracy: 0.9963\n",
            "Epoch 10/100\n",
            "126/126 [==============================] - 26s 201ms/step - loss: 0.0020 - accuracy: 0.9997 - val_loss: 6.4720e-04 - val_accuracy: 1.0000\n",
            "Epoch 11/100\n",
            "126/126 [==============================] - 26s 202ms/step - loss: 3.0914e-04 - accuracy: 0.9998 - val_loss: 0.0137 - val_accuracy: 0.9963\n",
            "Epoch 1/100\n",
            "126/126 [==============================] - 50s 211ms/step - loss: 1.7891 - accuracy: 0.4540 - val_loss: 0.3461 - val_accuracy: 0.9816\n",
            "Epoch 2/100\n",
            "126/126 [==============================] - 26s 205ms/step - loss: 0.7923 - accuracy: 0.7125 - val_loss: 0.1686 - val_accuracy: 0.9963\n",
            "Epoch 3/100\n",
            "126/126 [==============================] - 26s 202ms/step - loss: 0.5121 - accuracy: 0.8216 - val_loss: 0.1048 - val_accuracy: 0.9963\n",
            "Epoch 4/100\n",
            "126/126 [==============================] - 26s 203ms/step - loss: 0.3595 - accuracy: 0.8832 - val_loss: 0.0744 - val_accuracy: 0.9963\n",
            "Epoch 5/100\n",
            "126/126 [==============================] - 26s 204ms/step - loss: 0.2504 - accuracy: 0.9216 - val_loss: 0.0572 - val_accuracy: 0.9963\n",
            "Epoch 6/100\n",
            "126/126 [==============================] - 26s 203ms/step - loss: 0.1906 - accuracy: 0.9508 - val_loss: 0.0465 - val_accuracy: 0.9963\n",
            "Epoch 7/100\n",
            "126/126 [==============================] - 26s 203ms/step - loss: 0.1530 - accuracy: 0.9613 - val_loss: 0.0389 - val_accuracy: 0.9963\n",
            "Epoch 8/100\n",
            "126/126 [==============================] - 26s 203ms/step - loss: 0.1212 - accuracy: 0.9717 - val_loss: 0.0335 - val_accuracy: 0.9963\n",
            "Epoch 9/100\n",
            "126/126 [==============================] - 26s 204ms/step - loss: 0.1013 - accuracy: 0.9802 - val_loss: 0.0294 - val_accuracy: 0.9963\n",
            "Epoch 10/100\n",
            "126/126 [==============================] - 26s 204ms/step - loss: 0.0913 - accuracy: 0.9814 - val_loss: 0.0264 - val_accuracy: 0.9963\n",
            "Epoch 11/100\n",
            "126/126 [==============================] - 26s 204ms/step - loss: 0.0723 - accuracy: 0.9862 - val_loss: 0.0238 - val_accuracy: 0.9963\n",
            "Epoch 1/100\n",
            "126/126 [==============================] - 49s 213ms/step - loss: 0.0243 - accuracy: 0.9937 - val_loss: 0.0252 - val_accuracy: 0.9890\n",
            "Epoch 2/100\n",
            "126/126 [==============================] - 26s 207ms/step - loss: 1.3960e-04 - accuracy: 1.0000 - val_loss: 0.0256 - val_accuracy: 0.9890\n",
            "Epoch 3/100\n",
            "126/126 [==============================] - 26s 205ms/step - loss: 3.8732e-05 - accuracy: 1.0000 - val_loss: 0.0481 - val_accuracy: 0.9890\n",
            "Epoch 4/100\n",
            "126/126 [==============================] - 26s 208ms/step - loss: 1.6857e-05 - accuracy: 1.0000 - val_loss: 0.0502 - val_accuracy: 0.9890\n",
            "Epoch 5/100\n",
            "126/126 [==============================] - 26s 205ms/step - loss: 1.5248e-05 - accuracy: 1.0000 - val_loss: 0.0494 - val_accuracy: 0.9890\n",
            "Epoch 6/100\n",
            "126/126 [==============================] - 26s 205ms/step - loss: 8.2752e-05 - accuracy: 1.0000 - val_loss: 0.0483 - val_accuracy: 0.9890\n",
            "Epoch 7/100\n",
            "126/126 [==============================] - 26s 206ms/step - loss: 1.6366e-04 - accuracy: 0.9998 - val_loss: 0.0201 - val_accuracy: 0.9926\n",
            "Epoch 8/100\n",
            "126/126 [==============================] - 26s 206ms/step - loss: 9.0079e-06 - accuracy: 1.0000 - val_loss: 0.0197 - val_accuracy: 0.9926\n",
            "Epoch 9/100\n",
            "126/126 [==============================] - 26s 206ms/step - loss: 1.3890e-06 - accuracy: 1.0000 - val_loss: 0.0186 - val_accuracy: 0.9926\n",
            "Epoch 10/100\n",
            "126/126 [==============================] - 26s 206ms/step - loss: 3.7682e-04 - accuracy: 0.9998 - val_loss: 0.0195 - val_accuracy: 0.9926\n",
            "Epoch 11/100\n",
            "126/126 [==============================] - 26s 206ms/step - loss: 1.0851e-06 - accuracy: 1.0000 - val_loss: 0.0171 - val_accuracy: 0.9926\n",
            "Epoch 12/100\n",
            "126/126 [==============================] - 26s 206ms/step - loss: 2.3153e-07 - accuracy: 1.0000 - val_loss: 0.0164 - val_accuracy: 0.9926\n",
            "Epoch 1/100\n",
            "126/126 [==============================] - 48s 213ms/step - loss: 0.0334 - accuracy: 0.9922 - val_loss: 9.1585e-04 - val_accuracy: 1.0000\n",
            "Epoch 2/100\n",
            "126/126 [==============================] - 26s 206ms/step - loss: 1.1623e-05 - accuracy: 1.0000 - val_loss: 1.1093e-04 - val_accuracy: 1.0000\n",
            "Epoch 3/100\n",
            "126/126 [==============================] - 26s 203ms/step - loss: 2.0808e-06 - accuracy: 1.0000 - val_loss: 4.8294e-05 - val_accuracy: 1.0000\n",
            "Epoch 4/100\n",
            "126/126 [==============================] - 26s 204ms/step - loss: 1.8581e-07 - accuracy: 1.0000 - val_loss: 2.2738e-05 - val_accuracy: 1.0000\n",
            "Epoch 5/100\n",
            "126/126 [==============================] - 26s 205ms/step - loss: 1.8881e-06 - accuracy: 1.0000 - val_loss: 9.8579e-06 - val_accuracy: 1.0000\n",
            "Epoch 6/100\n",
            "126/126 [==============================] - 26s 204ms/step - loss: 4.8844e-06 - accuracy: 1.0000 - val_loss: 1.5554e-05 - val_accuracy: 1.0000\n",
            "Epoch 7/100\n",
            "126/126 [==============================] - 26s 204ms/step - loss: 1.8155e-04 - accuracy: 1.0000 - val_loss: 0.0330 - val_accuracy: 0.9926\n",
            "Epoch 8/100\n",
            "126/126 [==============================] - 26s 204ms/step - loss: 2.7794e-06 - accuracy: 1.0000 - val_loss: 0.0128 - val_accuracy: 0.9963\n",
            "Epoch 9/100\n",
            "126/126 [==============================] - 26s 205ms/step - loss: 9.9103e-05 - accuracy: 1.0000 - val_loss: 0.0416 - val_accuracy: 0.9963\n",
            "Epoch 10/100\n",
            "126/126 [==============================] - 26s 204ms/step - loss: 0.0032 - accuracy: 0.9994 - val_loss: 0.0493 - val_accuracy: 0.9926\n",
            "Epoch 11/100\n",
            "126/126 [==============================] - 26s 204ms/step - loss: 9.4174e-05 - accuracy: 1.0000 - val_loss: 0.0699 - val_accuracy: 0.9926\n",
            "Epoch 1/100\n",
            "126/126 [==============================] - 50s 213ms/step - loss: 1.6156 - accuracy: 0.4490 - val_loss: 0.3938 - val_accuracy: 0.9890\n",
            "Epoch 2/100\n",
            "126/126 [==============================] - 26s 207ms/step - loss: 0.7014 - accuracy: 0.7337 - val_loss: 0.2056 - val_accuracy: 0.9963\n",
            "Epoch 3/100\n",
            "126/126 [==============================] - 26s 204ms/step - loss: 0.4408 - accuracy: 0.8571 - val_loss: 0.1269 - val_accuracy: 0.9963\n",
            "Epoch 4/100\n",
            "126/126 [==============================] - 26s 205ms/step - loss: 0.2811 - accuracy: 0.9194 - val_loss: 0.0867 - val_accuracy: 0.9963\n",
            "Epoch 5/100\n",
            "126/126 [==============================] - 26s 206ms/step - loss: 0.2036 - accuracy: 0.9502 - val_loss: 0.0634 - val_accuracy: 0.9963\n",
            "Epoch 6/100\n",
            "126/126 [==============================] - 26s 206ms/step - loss: 0.1590 - accuracy: 0.9671 - val_loss: 0.0486 - val_accuracy: 0.9963\n",
            "Epoch 7/100\n",
            "126/126 [==============================] - 26s 206ms/step - loss: 0.1260 - accuracy: 0.9740 - val_loss: 0.0390 - val_accuracy: 0.9963\n",
            "Epoch 8/100\n",
            "126/126 [==============================] - 26s 206ms/step - loss: 0.0946 - accuracy: 0.9849 - val_loss: 0.0321 - val_accuracy: 0.9963\n",
            "Epoch 9/100\n",
            "126/126 [==============================] - 26s 206ms/step - loss: 0.0818 - accuracy: 0.9883 - val_loss: 0.0275 - val_accuracy: 0.9963\n",
            "Epoch 10/100\n",
            "126/126 [==============================] - 26s 206ms/step - loss: 0.0650 - accuracy: 0.9940 - val_loss: 0.0239 - val_accuracy: 0.9963\n",
            "Epoch 11/100\n",
            "126/126 [==============================] - 26s 206ms/step - loss: 0.0560 - accuracy: 0.9938 - val_loss: 0.0211 - val_accuracy: 0.9963\n",
            "Epoch 1/100\n",
            "126/126 [==============================] - 50s 210ms/step - loss: 0.0485 - accuracy: 0.9862 - val_loss: 0.0285 - val_accuracy: 0.9926\n",
            "Epoch 2/100\n",
            "126/126 [==============================] - 26s 204ms/step - loss: 7.8416e-04 - accuracy: 0.9998 - val_loss: 0.0262 - val_accuracy: 0.9926\n",
            "Epoch 3/100\n",
            "126/126 [==============================] - 26s 201ms/step - loss: 7.8455e-04 - accuracy: 0.9998 - val_loss: 0.0335 - val_accuracy: 0.9926\n",
            "Epoch 4/100\n",
            "126/126 [==============================] - 26s 202ms/step - loss: 4.5542e-04 - accuracy: 1.0000 - val_loss: 0.0362 - val_accuracy: 0.9926\n",
            "Epoch 5/100\n",
            "126/126 [==============================] - 26s 203ms/step - loss: 0.0016 - accuracy: 0.9998 - val_loss: 0.0386 - val_accuracy: 0.9926\n",
            "Epoch 6/100\n",
            "126/126 [==============================] - 26s 202ms/step - loss: 5.6187e-04 - accuracy: 0.9998 - val_loss: 0.0398 - val_accuracy: 0.9926\n",
            "Epoch 7/100\n",
            "126/126 [==============================] - 26s 202ms/step - loss: 3.0673e-04 - accuracy: 1.0000 - val_loss: 0.0414 - val_accuracy: 0.9926\n",
            "Epoch 8/100\n",
            "126/126 [==============================] - 26s 202ms/step - loss: 6.4199e-04 - accuracy: 0.9998 - val_loss: 0.0597 - val_accuracy: 0.9926\n",
            "Epoch 9/100\n",
            "126/126 [==============================] - 26s 202ms/step - loss: 0.0015 - accuracy: 0.9997 - val_loss: 0.0113 - val_accuracy: 0.9926\n",
            "Epoch 10/100\n",
            "126/126 [==============================] - 26s 202ms/step - loss: 1.3883e-04 - accuracy: 1.0000 - val_loss: 0.0188 - val_accuracy: 0.9926\n",
            "Epoch 11/100\n",
            "126/126 [==============================] - 26s 202ms/step - loss: 1.4572e-04 - accuracy: 0.9998 - val_loss: 0.0202 - val_accuracy: 0.9926\n",
            "Epoch 1/100\n",
            "126/126 [==============================] - 45s 207ms/step - loss: 0.0767 - accuracy: 0.9883 - val_loss: 0.0735 - val_accuracy: 0.9926\n",
            "Epoch 2/100\n",
            "126/126 [==============================] - 26s 202ms/step - loss: 0.0045 - accuracy: 0.9992 - val_loss: 0.1165 - val_accuracy: 0.9926\n",
            "Epoch 3/100\n",
            "126/126 [==============================] - 25s 199ms/step - loss: 0.0146 - accuracy: 0.9987 - val_loss: 0.1180 - val_accuracy: 0.9926\n",
            "Epoch 4/100\n",
            "126/126 [==============================] - 25s 200ms/step - loss: 0.0033 - accuracy: 0.9995 - val_loss: 0.1504 - val_accuracy: 0.9926\n",
            "Epoch 5/100\n",
            "126/126 [==============================] - 26s 201ms/step - loss: 0.0067 - accuracy: 0.9987 - val_loss: 0.1192 - val_accuracy: 0.9816\n",
            "Epoch 6/100\n",
            "126/126 [==============================] - 25s 200ms/step - loss: 2.3065e-04 - accuracy: 1.0000 - val_loss: 0.0814 - val_accuracy: 0.9926\n",
            "Epoch 7/100\n",
            "126/126 [==============================] - 26s 201ms/step - loss: 0.0012 - accuracy: 0.9997 - val_loss: 5.2775e-05 - val_accuracy: 1.0000\n",
            "Epoch 8/100\n",
            "126/126 [==============================] - 26s 201ms/step - loss: 1.3450e-05 - accuracy: 1.0000 - val_loss: 0.0382 - val_accuracy: 0.9963\n",
            "Epoch 9/100\n",
            "126/126 [==============================] - 26s 201ms/step - loss: 6.7439e-04 - accuracy: 0.9998 - val_loss: 0.0014 - val_accuracy: 1.0000\n",
            "Epoch 10/100\n",
            "126/126 [==============================] - 25s 201ms/step - loss: 1.0657e-04 - accuracy: 1.0000 - val_loss: 0.0760 - val_accuracy: 0.9926\n",
            "Epoch 11/100\n",
            "126/126 [==============================] - 25s 200ms/step - loss: 0.0243 - accuracy: 0.9992 - val_loss: 0.0469 - val_accuracy: 0.9963\n",
            "Epoch 12/100\n",
            "126/126 [==============================] - 25s 200ms/step - loss: 1.2731e-04 - accuracy: 1.0000 - val_loss: 1.9722e-07 - val_accuracy: 1.0000\n",
            "Epoch 1/100\n",
            "126/126 [==============================] - 51s 210ms/step - loss: 2.3830 - accuracy: 0.3314 - val_loss: 0.7581 - val_accuracy: 0.7316\n",
            "Epoch 2/100\n",
            "126/126 [==============================] - 26s 204ms/step - loss: 1.7694 - accuracy: 0.4440 - val_loss: 0.4965 - val_accuracy: 0.9559\n",
            "Epoch 3/100\n",
            "126/126 [==============================] - 26s 201ms/step - loss: 1.3796 - accuracy: 0.5140 - val_loss: 0.3533 - val_accuracy: 0.9926\n",
            "Epoch 4/100\n",
            "126/126 [==============================] - 26s 202ms/step - loss: 1.1522 - accuracy: 0.5762 - val_loss: 0.2646 - val_accuracy: 1.0000\n",
            "Epoch 5/100\n",
            "126/126 [==============================] - 26s 202ms/step - loss: 0.9670 - accuracy: 0.6279 - val_loss: 0.2043 - val_accuracy: 1.0000\n",
            "Epoch 6/100\n",
            "126/126 [==============================] - 26s 202ms/step - loss: 0.7887 - accuracy: 0.6941 - val_loss: 0.1631 - val_accuracy: 1.0000\n",
            "Epoch 7/100\n",
            "126/126 [==============================] - 26s 202ms/step - loss: 0.6826 - accuracy: 0.7378 - val_loss: 0.1333 - val_accuracy: 1.0000\n",
            "Epoch 8/100\n",
            "126/126 [==============================] - 26s 202ms/step - loss: 0.5927 - accuracy: 0.7790 - val_loss: 0.1110 - val_accuracy: 1.0000\n",
            "Epoch 9/100\n",
            "126/126 [==============================] - 26s 202ms/step - loss: 0.5056 - accuracy: 0.8108 - val_loss: 0.0934 - val_accuracy: 1.0000\n",
            "Epoch 10/100\n",
            "126/126 [==============================] - 26s 202ms/step - loss: 0.4439 - accuracy: 0.8317 - val_loss: 0.0804 - val_accuracy: 0.9963\n",
            "Epoch 11/100\n",
            "126/126 [==============================] - 26s 202ms/step - loss: 0.4046 - accuracy: 0.8556 - val_loss: 0.0698 - val_accuracy: 0.9963\n",
            "Epoch 1/100\n",
            "126/126 [==============================] - 50s 210ms/step - loss: 0.0396 - accuracy: 0.9913 - val_loss: 0.0518 - val_accuracy: 0.9926\n",
            "Epoch 2/100\n",
            "126/126 [==============================] - 26s 205ms/step - loss: 0.0045 - accuracy: 0.9995 - val_loss: 0.0483 - val_accuracy: 0.9926\n",
            "Epoch 3/100\n",
            "126/126 [==============================] - 26s 201ms/step - loss: 0.0109 - accuracy: 0.9994 - val_loss: 0.0456 - val_accuracy: 0.9926\n",
            "Epoch 4/100\n",
            "126/126 [==============================] - 26s 203ms/step - loss: 1.5320e-04 - accuracy: 1.0000 - val_loss: 0.0340 - val_accuracy: 0.9926\n",
            "Epoch 5/100\n",
            "126/126 [==============================] - 26s 203ms/step - loss: 1.5453e-04 - accuracy: 1.0000 - val_loss: 0.0238 - val_accuracy: 0.9926\n",
            "Epoch 6/100\n",
            "126/126 [==============================] - 26s 203ms/step - loss: 1.3748e-04 - accuracy: 1.0000 - val_loss: 0.0167 - val_accuracy: 0.9926\n",
            "Epoch 7/100\n",
            "126/126 [==============================] - 26s 202ms/step - loss: 0.0033 - accuracy: 0.9997 - val_loss: 0.0221 - val_accuracy: 0.9926\n",
            "Epoch 8/100\n",
            "126/126 [==============================] - 26s 203ms/step - loss: 1.3543e-04 - accuracy: 1.0000 - val_loss: 0.0152 - val_accuracy: 0.9926\n",
            "Epoch 9/100\n",
            "126/126 [==============================] - 26s 203ms/step - loss: 1.4610e-04 - accuracy: 1.0000 - val_loss: 0.0111 - val_accuracy: 0.9963\n",
            "Epoch 10/100\n",
            "126/126 [==============================] - 26s 203ms/step - loss: 6.4768e-05 - accuracy: 1.0000 - val_loss: 0.0131 - val_accuracy: 0.9963\n",
            "Epoch 11/100\n",
            "126/126 [==============================] - 26s 203ms/step - loss: 2.0410e-04 - accuracy: 0.9998 - val_loss: 0.0178 - val_accuracy: 0.9926\n",
            "Epoch 12/100\n",
            "126/126 [==============================] - 26s 203ms/step - loss: 0.0022 - accuracy: 0.9998 - val_loss: 0.0144 - val_accuracy: 0.9926\n",
            "Epoch 13/100\n",
            "126/126 [==============================] - 26s 203ms/step - loss: 4.7881e-05 - accuracy: 1.0000 - val_loss: 0.0092 - val_accuracy: 0.9963\n",
            "Epoch 14/100\n",
            "126/126 [==============================] - 26s 203ms/step - loss: 2.1918e-05 - accuracy: 1.0000 - val_loss: 0.0064 - val_accuracy: 0.9963\n",
            "Epoch 1/100\n",
            "126/126 [==============================] - 45s 209ms/step - loss: 0.2339 - accuracy: 0.9895 - val_loss: 0.0231 - val_accuracy: 0.9926\n",
            "Epoch 2/100\n",
            "126/126 [==============================] - 26s 203ms/step - loss: 0.0128 - accuracy: 0.9990 - val_loss: 0.0218 - val_accuracy: 0.9926\n",
            "Epoch 3/100\n",
            "126/126 [==============================] - 25s 200ms/step - loss: 0.0026 - accuracy: 0.9995 - val_loss: 0.3097 - val_accuracy: 0.9853\n",
            "Epoch 4/100\n",
            "126/126 [==============================] - 26s 201ms/step - loss: 0.0136 - accuracy: 0.9989 - val_loss: 4.2862e-07 - val_accuracy: 1.0000\n",
            "Epoch 5/100\n",
            "126/126 [==============================] - 26s 202ms/step - loss: 0.0018 - accuracy: 0.9995 - val_loss: 0.0000e+00 - val_accuracy: 1.0000\n",
            "Epoch 6/100\n",
            "126/126 [==============================] - 26s 201ms/step - loss: 1.9757e-05 - accuracy: 1.0000 - val_loss: 0.0000e+00 - val_accuracy: 1.0000\n",
            "Epoch 7/100\n",
            "126/126 [==============================] - 26s 201ms/step - loss: 0.0044 - accuracy: 0.9997 - val_loss: 0.0900 - val_accuracy: 0.9890\n",
            "Epoch 8/100\n",
            "126/126 [==============================] - 26s 201ms/step - loss: 0.0260 - accuracy: 0.9998 - val_loss: 0.0781 - val_accuracy: 0.9890\n",
            "Epoch 9/100\n",
            "126/126 [==============================] - 26s 201ms/step - loss: 0.0106 - accuracy: 0.9994 - val_loss: 0.1420 - val_accuracy: 0.9926\n",
            "Epoch 10/100\n",
            "126/126 [==============================] - 26s 202ms/step - loss: 7.8878e-06 - accuracy: 1.0000 - val_loss: 0.1293 - val_accuracy: 0.9926\n",
            "Epoch 11/100\n",
            "126/126 [==============================] - 26s 202ms/step - loss: 2.1464e-05 - accuracy: 1.0000 - val_loss: 0.0486 - val_accuracy: 0.9926\n",
            "Epoch 1/100\n",
            "126/126 [==============================] - 52s 211ms/step - loss: 2.7061 - accuracy: 0.3213 - val_loss: 0.3936 - val_accuracy: 0.9890\n",
            "Epoch 2/100\n",
            "126/126 [==============================] - 26s 205ms/step - loss: 1.7668 - accuracy: 0.4725 - val_loss: 0.1957 - val_accuracy: 1.0000\n",
            "Epoch 3/100\n",
            "126/126 [==============================] - 26s 202ms/step - loss: 1.2356 - accuracy: 0.5895 - val_loss: 0.1283 - val_accuracy: 0.9963\n",
            "Epoch 4/100\n",
            "126/126 [==============================] - 26s 203ms/step - loss: 0.9636 - accuracy: 0.6646 - val_loss: 0.0944 - val_accuracy: 0.9963\n",
            "Epoch 5/100\n",
            "126/126 [==============================] - 26s 204ms/step - loss: 0.7422 - accuracy: 0.7384 - val_loss: 0.0743 - val_accuracy: 0.9963\n",
            "Epoch 6/100\n",
            "126/126 [==============================] - 26s 203ms/step - loss: 0.5779 - accuracy: 0.7956 - val_loss: 0.0613 - val_accuracy: 0.9963\n",
            "Epoch 7/100\n",
            "126/126 [==============================] - 26s 203ms/step - loss: 0.4907 - accuracy: 0.8313 - val_loss: 0.0522 - val_accuracy: 0.9963\n",
            "Epoch 8/100\n",
            "126/126 [==============================] - 26s 203ms/step - loss: 0.4286 - accuracy: 0.8498 - val_loss: 0.0455 - val_accuracy: 0.9963\n",
            "Epoch 9/100\n",
            "126/126 [==============================] - 26s 204ms/step - loss: 0.3521 - accuracy: 0.8768 - val_loss: 0.0407 - val_accuracy: 0.9963\n",
            "Epoch 10/100\n",
            "126/126 [==============================] - 26s 203ms/step - loss: 0.3028 - accuracy: 0.8959 - val_loss: 0.0371 - val_accuracy: 0.9963\n",
            "Epoch 11/100\n",
            "126/126 [==============================] - 26s 203ms/step - loss: 0.2559 - accuracy: 0.9168 - val_loss: 0.0341 - val_accuracy: 0.9963\n",
            "Epoch 1/100\n",
            "126/126 [==============================] - 49s 213ms/step - loss: 0.0389 - accuracy: 0.9921 - val_loss: 0.0293 - val_accuracy: 0.9926\n",
            "Epoch 2/100\n",
            "126/126 [==============================] - 26s 207ms/step - loss: 2.0899e-04 - accuracy: 1.0000 - val_loss: 0.0337 - val_accuracy: 0.9890\n",
            "Epoch 3/100\n",
            "126/126 [==============================] - 26s 205ms/step - loss: 0.0017 - accuracy: 0.9997 - val_loss: 0.0093 - val_accuracy: 0.9963\n",
            "Epoch 4/100\n",
            "126/126 [==============================] - 26s 205ms/step - loss: 7.1859e-05 - accuracy: 1.0000 - val_loss: 0.0082 - val_accuracy: 0.9963\n",
            "Epoch 5/100\n",
            "126/126 [==============================] - 26s 206ms/step - loss: 5.3716e-04 - accuracy: 0.9997 - val_loss: 0.0069 - val_accuracy: 0.9963\n",
            "Epoch 6/100\n",
            "126/126 [==============================] - 26s 206ms/step - loss: 5.2566e-05 - accuracy: 1.0000 - val_loss: 0.0061 - val_accuracy: 0.9963\n",
            "Epoch 7/100\n",
            "126/126 [==============================] - 26s 206ms/step - loss: 1.3702e-04 - accuracy: 1.0000 - val_loss: 0.0059 - val_accuracy: 0.9963\n",
            "Epoch 8/100\n",
            "126/126 [==============================] - 26s 206ms/step - loss: 0.0010 - accuracy: 0.9997 - val_loss: 0.0071 - val_accuracy: 0.9963\n",
            "Epoch 9/100\n",
            "126/126 [==============================] - 26s 206ms/step - loss: 2.3896e-04 - accuracy: 1.0000 - val_loss: 0.0186 - val_accuracy: 0.9963\n",
            "Epoch 10/100\n",
            "126/126 [==============================] - 26s 206ms/step - loss: 1.4582e-05 - accuracy: 1.0000 - val_loss: 0.0173 - val_accuracy: 0.9963\n",
            "Epoch 11/100\n",
            "126/126 [==============================] - 26s 206ms/step - loss: 5.8258e-04 - accuracy: 0.9998 - val_loss: 0.0055 - val_accuracy: 0.9963\n",
            "Epoch 1/100\n",
            "126/126 [==============================] - 48s 212ms/step - loss: 0.1481 - accuracy: 0.9881 - val_loss: 0.0672 - val_accuracy: 0.9926\n",
            "Epoch 2/100\n",
            "126/126 [==============================] - 26s 205ms/step - loss: 0.0062 - accuracy: 0.9994 - val_loss: 0.2512 - val_accuracy: 0.9926\n",
            "Epoch 3/100\n",
            "126/126 [==============================] - 26s 203ms/step - loss: 1.8224e-05 - accuracy: 1.0000 - val_loss: 0.2069 - val_accuracy: 0.9963\n",
            "Epoch 4/100\n",
            "126/126 [==============================] - 26s 204ms/step - loss: 1.2983e-04 - accuracy: 1.0000 - val_loss: 0.1062 - val_accuracy: 0.9963\n",
            "Epoch 5/100\n",
            "126/126 [==============================] - 26s 205ms/step - loss: 3.3202e-04 - accuracy: 0.9998 - val_loss: 0.2280 - val_accuracy: 0.9890\n",
            "Epoch 6/100\n",
            "126/126 [==============================] - 26s 204ms/step - loss: 0.0037 - accuracy: 0.9994 - val_loss: 0.0271 - val_accuracy: 0.9963\n",
            "Epoch 7/100\n",
            "126/126 [==============================] - 26s 204ms/step - loss: 0.0029 - accuracy: 0.9998 - val_loss: 0.7784 - val_accuracy: 0.9816\n",
            "Epoch 8/100\n",
            "126/126 [==============================] - 26s 204ms/step - loss: 2.5901e-05 - accuracy: 1.0000 - val_loss: 0.7770 - val_accuracy: 0.9890\n",
            "Epoch 9/100\n",
            "126/126 [==============================] - 26s 204ms/step - loss: 2.9599e-05 - accuracy: 1.0000 - val_loss: 0.6121 - val_accuracy: 0.9853\n",
            "Epoch 10/100\n",
            "126/126 [==============================] - 26s 205ms/step - loss: 5.5787e-05 - accuracy: 1.0000 - val_loss: 0.5782 - val_accuracy: 0.9926\n",
            "Epoch 11/100\n",
            "126/126 [==============================] - 26s 204ms/step - loss: 6.7412e-05 - accuracy: 1.0000 - val_loss: 0.3091 - val_accuracy: 0.9926\n",
            "Epoch 1/100\n",
            "126/126 [==============================] - 51s 221ms/step - loss: 2.4325 - accuracy: 0.3487 - val_loss: 0.4069 - val_accuracy: 0.9779\n",
            "Epoch 2/100\n",
            "126/126 [==============================] - 26s 208ms/step - loss: 1.4060 - accuracy: 0.5473 - val_loss: 0.1857 - val_accuracy: 0.9926\n",
            "Epoch 3/100\n",
            "126/126 [==============================] - 26s 206ms/step - loss: 0.9514 - accuracy: 0.6727 - val_loss: 0.1127 - val_accuracy: 0.9926\n",
            "Epoch 4/100\n",
            "126/126 [==============================] - 26s 206ms/step - loss: 0.6408 - accuracy: 0.7770 - val_loss: 0.0803 - val_accuracy: 0.9926\n",
            "Epoch 5/100\n",
            "126/126 [==============================] - 26s 207ms/step - loss: 0.4873 - accuracy: 0.8298 - val_loss: 0.0629 - val_accuracy: 0.9926\n",
            "Epoch 6/100\n",
            "126/126 [==============================] - 26s 206ms/step - loss: 0.3862 - accuracy: 0.8651 - val_loss: 0.0527 - val_accuracy: 0.9926\n",
            "Epoch 7/100\n",
            "126/126 [==============================] - 26s 206ms/step - loss: 0.3102 - accuracy: 0.8940 - val_loss: 0.0462 - val_accuracy: 0.9926\n",
            "Epoch 8/100\n",
            "126/126 [==============================] - 26s 206ms/step - loss: 0.2497 - accuracy: 0.9137 - val_loss: 0.0418 - val_accuracy: 0.9926\n",
            "Epoch 9/100\n",
            "126/126 [==============================] - 26s 206ms/step - loss: 0.1946 - accuracy: 0.9348 - val_loss: 0.0388 - val_accuracy: 0.9926\n",
            "Epoch 10/100\n",
            "126/126 [==============================] - 26s 206ms/step - loss: 0.1772 - accuracy: 0.9470 - val_loss: 0.0365 - val_accuracy: 0.9926\n",
            "Epoch 11/100\n",
            "126/126 [==============================] - 26s 207ms/step - loss: 0.1559 - accuracy: 0.9498 - val_loss: 0.0347 - val_accuracy: 0.9926\n"
          ]
        }
      ],
      "source": [
        "mejores_metricas = obtener_mejores_metricas(rangos_drop=[0.3,0.4,0.5,0.6,0.7], rangos_neu=[300,400,600], rangos_opt=[\"Adamax\",\"RMSprop\",\"adadelta\"],callbacks=callbacks3,mod=MobileNet)"
      ]
    },
    {
      "cell_type": "code",
      "execution_count": null,
      "metadata": {
        "colab": {
          "base_uri": "https://localhost:8080/"
        },
        "id": "R5eXggOM3SGp",
        "outputId": "5db8d563-3e5d-4f8a-9e95-bac94b55748b"
      },
      "outputs": [
        {
          "output_type": "execute_result",
          "data": {
            "text/plain": [
              "array([['0.0', '0.0', '0.0', '0.0'],\n",
              "       ['0.3', '300', 'Adamax', '0.9963235259056091'],\n",
              "       ['0.3', '300', 'adadelta', '1.0'],\n",
              "       ['0.3', '400', 'Adamax', '1.0'],\n",
              "       ['0.3', '400', 'adadelta', '0.9963235259056091'],\n",
              "       ['0.3', '600', 'Adamax', '1.0'],\n",
              "       ['0.3', '600', 'RMSprop', '0.9816176295280457'],\n",
              "       ['0.3', '600', 'adadelta', '1.0'],\n",
              "       ['0.4', '300', 'Adamax', '1.0'],\n",
              "       ['0.4', '300', 'RMSprop', '0.9889705777168274'],\n",
              "       ['0.4', '300', 'adadelta', '0.9889705777168274'],\n",
              "       ['0.4', '400', 'Adamax', '0.9926470518112183'],\n",
              "       ['0.4', '400', 'RMSprop', '0.9926470518112183'],\n",
              "       ['0.4', '400', 'adadelta', '1.0'],\n",
              "       ['0.4', '600', 'Adamax', '0.9963235259056091'],\n",
              "       ['0.4', '600', 'RMSprop', '0.9963235259056091'],\n",
              "       ['0.4', '600', 'adadelta', '0.9963235259056091'],\n",
              "       ['0.5', '300', 'Adamax', '1.0'],\n",
              "       ['0.5', '300', 'RMSprop', '0.9926470518112183'],\n",
              "       ['0.5', '300', 'adadelta', '0.9926470518112183'],\n",
              "       ['0.5', '400', 'Adamax', '0.9926470518112183'],\n",
              "       ['0.5', '400', 'RMSprop', '0.9963235259056091'],\n",
              "       ['0.5', '400', 'adadelta', '0.9926470518112183'],\n",
              "       ['0.5', '600', 'Adamax', '0.9963235259056091'],\n",
              "       ['0.5', '600', 'RMSprop', '0.9889705777168274'],\n",
              "       ['0.5', '600', 'adadelta', '0.9889705777168274'],\n",
              "       ['0.6', '300', 'Adamax', '0.9963235259056091'],\n",
              "       ['0.6', '300', 'RMSprop', '1.0'],\n",
              "       ['0.6', '300', 'adadelta', '1.0'],\n",
              "       ['0.6', '400', 'Adamax', '0.9963235259056091'],\n",
              "       ['0.6', '400', 'RMSprop', '0.9963235259056091'],\n",
              "       ['0.6', '400', 'adadelta', '0.9963235259056091'],\n",
              "       ['0.6', '600', 'Adamax', '0.9926470518112183'],\n",
              "       ['0.6', '600', 'RMSprop', '0.9926470518112183'],\n",
              "       ['0.6', '600', 'adadelta', '0.9963235259056091'],\n",
              "       ['0.7', '300', 'Adamax', '0.9926470518112183'],\n",
              "       ['0.7', '300', 'RMSprop', '1.0'],\n",
              "       ['0.7', '300', 'adadelta', '0.9963235259056091'],\n",
              "       ['0.7', '400', 'Adamax', '0.9963235259056091'],\n",
              "       ['0.7', '400', 'RMSprop', '0.9926470518112183'],\n",
              "       ['0.7', '400', 'adadelta', '0.9963235259056091'],\n",
              "       ['0.7', '600', 'Adamax', '0.9963235259056091'],\n",
              "       ['0.7', '600', 'RMSprop', '0.9926470518112183'],\n",
              "       ['0.7', '600', 'adadelta', '0.9926470518112183']], dtype='<U32')"
            ]
          },
          "metadata": {},
          "execution_count": 29
        }
      ],
      "source": [
        "mejores_metricas"
      ]
    },
    {
      "cell_type": "code",
      "execution_count": null,
      "metadata": {
        "id": "tXXE0bw9IhDe"
      },
      "outputs": [],
      "source": [
        "final=g.time()\n",
        "print(f\"Tiempo total de  busqueda por rejilla MobileNet: {final-inicio} Seg\",)"
      ]
    },
    {
      "cell_type": "code",
      "execution_count": null,
      "metadata": {
        "id": "6cb_vTVGs2ui"
      },
      "outputs": [],
      "source": [
        "#guardar los resultados al archivo de txt\n",
        "file = open(Guardar_CNNMobilNetV2+\"/resultados_de_busqueda_por_rejilla.txt\", \"w+\")\n",
        "content = str(mejores_metricas)\n",
        "file.write(content)\n",
        "file.close()\n",
        "\n",
        "\n",
        "\n",
        "# Obtener el índice de la fila con el máximo valor de accuracy\n",
        "max_index = np.argmax(mejores_metricas[:, -1])\n",
        "\n",
        "# Obtener los parámetros correspondientes a la fila con el máximo valor de accuracy\n",
        "dropout_max = float(mejores_metricas[max_index, 0])\n",
        "neuronas_max = int(mejores_metricas[max_index, 1])\n",
        "optimizador_max = str(mejores_metricas[max_index, 2])\n",
        "\n",
        "# Recuperamos un modelo CNN estandar con la función VGG() con los parámetros correspondientes al máximo valor de accuracy\n",
        "modelo_MobileNet = MobileNet(dropout1=dropout_max,dropout2=dropout_max+0.1,neuronas=neuronas_max,optimizador=optimizador_max)"
      ]
    },
    {
      "cell_type": "code",
      "execution_count": null,
      "metadata": {
        "colab": {
          "base_uri": "https://localhost:8080/"
        },
        "id": "6NhklgX3s2uj",
        "outputId": "35449434-2e78-49ca-ae57-64b89b043837"
      },
      "outputs": [
        {
          "output_type": "stream",
          "name": "stdout",
          "text": [
            "Epoch 1/100\n",
            "126/126 [==============================] - ETA: 0s - loss: 0.9033 - accuracy: 0.6683"
          ]
        },
        {
          "output_type": "stream",
          "name": "stderr",
          "text": [
            "WARNING:absl:Found untraced functions such as _jit_compiled_convolution_op, _jit_compiled_convolution_op, _jit_compiled_convolution_op, _jit_compiled_convolution_op, _jit_compiled_convolution_op while saving (showing 5 of 52). These functions will not be directly callable after loading.\n"
          ]
        },
        {
          "output_type": "stream",
          "name": "stdout",
          "text": [
            "\b\b\b\b\b\b\b\b\b\b\b\b\b\b\b\b\b\b\b\b\b\b\b\b\b\b\b\b\b\b\b\b\b\b\b\b\b\b\b\b\b\b\b\b\b\b\b\b\b\b\b\b\b\b\b\b\b\b\b\b\b\b\b\b\b\b\b\b\b\b\b\b\b\b\b\b\b\b\b\b\b\b\b\b\r126/126 [==============================] - 74s 407ms/step - loss: 0.9033 - accuracy: 0.6683 - val_loss: 0.2917 - val_accuracy: 0.9779\n",
            "Epoch 2/100\n",
            "126/126 [==============================] - ETA: 0s - loss: 0.2834 - accuracy: 0.9717"
          ]
        },
        {
          "output_type": "stream",
          "name": "stderr",
          "text": [
            "WARNING:absl:Found untraced functions such as _jit_compiled_convolution_op, _jit_compiled_convolution_op, _jit_compiled_convolution_op, _jit_compiled_convolution_op, _jit_compiled_convolution_op while saving (showing 5 of 52). These functions will not be directly callable after loading.\n"
          ]
        },
        {
          "output_type": "stream",
          "name": "stdout",
          "text": [
            "\b\b\b\b\b\b\b\b\b\b\b\b\b\b\b\b\b\b\b\b\b\b\b\b\b\b\b\b\b\b\b\b\b\b\b\b\b\b\b\b\b\b\b\b\b\b\b\b\b\b\b\b\b\b\b\b\b\b\b\b\b\b\b\b\b\b\b\b\b\b\b\b\b\b\b\b\b\b\b\b\b\b\b\b\r126/126 [==============================] - 50s 398ms/step - loss: 0.2834 - accuracy: 0.9717 - val_loss: 0.1188 - val_accuracy: 0.9853\n",
            "Epoch 3/100\n",
            "126/126 [==============================] - ETA: 0s - loss: 0.1406 - accuracy: 0.9944"
          ]
        },
        {
          "output_type": "stream",
          "name": "stderr",
          "text": [
            "WARNING:absl:Found untraced functions such as _jit_compiled_convolution_op, _jit_compiled_convolution_op, _jit_compiled_convolution_op, _jit_compiled_convolution_op, _jit_compiled_convolution_op while saving (showing 5 of 52). These functions will not be directly callable after loading.\n"
          ]
        },
        {
          "output_type": "stream",
          "name": "stdout",
          "text": [
            "\b\b\b\b\b\b\b\b\b\b\b\b\b\b\b\b\b\b\b\b\b\b\b\b\b\b\b\b\b\b\b\b\b\b\b\b\b\b\b\b\b\b\b\b\b\b\b\b\b\b\b\b\b\b\b\b\b\b\b\b\b\b\b\b\b\b\b\b\b\b\b\b\b\b\b\b\b\b\b\b\b\b\b\b\r126/126 [==============================] - 50s 397ms/step - loss: 0.1406 - accuracy: 0.9944 - val_loss: 0.0708 - val_accuracy: 0.9926\n",
            "Epoch 4/100\n",
            "126/126 [==============================] - 26s 203ms/step - loss: 0.0825 - accuracy: 0.9981 - val_loss: 0.0521 - val_accuracy: 0.9926\n",
            "Epoch 5/100\n",
            "126/126 [==============================] - 26s 204ms/step - loss: 0.0535 - accuracy: 0.9986 - val_loss: 0.0429 - val_accuracy: 0.9926\n",
            "Epoch 6/100\n",
            "126/126 [==============================] - 26s 201ms/step - loss: 0.0369 - accuracy: 0.9998 - val_loss: 0.0378 - val_accuracy: 0.9926\n",
            "Epoch 7/100\n",
            "126/126 [==============================] - 26s 202ms/step - loss: 0.0295 - accuracy: 0.9997 - val_loss: 0.0347 - val_accuracy: 0.9926\n",
            "Epoch 8/100\n",
            "126/126 [==============================] - 26s 203ms/step - loss: 0.0235 - accuracy: 0.9995 - val_loss: 0.0327 - val_accuracy: 0.9926\n",
            "Epoch 9/100\n",
            "126/126 [==============================] - 26s 202ms/step - loss: 0.0193 - accuracy: 0.9998 - val_loss: 0.0314 - val_accuracy: 0.9926\n"
          ]
        }
      ],
      "source": [
        "#Entrenamos nuevamente el modelo para obtener las metricas\n",
        "\"\"\"CUANDO EXISTÁN DOS MODELOS ÓPTIMOS CON MISMO ACC: Antes de ejecutar el siguiente código verifique que la carpeta de guardado(Guardar_CNNMobilNetV2) esté vacÍa de lo contrario el modelo\n",
        "y los resultados se mostrarán en funcion del último modelo guardado en lugar del siguiente.\n",
        "\"\"\"\n",
        "history = modelo_MobileNet.fit(train_dataset, epochs=100, validation_data=validation_dataset, callbacks=callbacks3)"
      ]
    },
    {
      "cell_type": "code",
      "execution_count": null,
      "metadata": {
        "colab": {
          "base_uri": "https://localhost:8080/"
        },
        "id": "ajgX6op2s2uj",
        "outputId": "df983f3b-007b-42bb-e2e4-0bebb59b773b"
      },
      "outputs": [
        {
          "output_type": "stream",
          "name": "stdout",
          "text": [
            "27/27 [==============================] - 32s 1s/step - loss: 0.0520 - accuracy: 1.0000\n",
            "Test ACC : 1.000\n"
          ]
        }
      ],
      "source": [
        "#EVALUACION FINAL DEL MODELO VGG para determinar su ACC global\n",
        "\n",
        "test_model_mobilenet = keras.models.load_model(Guardar_CNNMobilNetV2)\n",
        "test_loss, test_acc = test_model_mobilenet.evaluate(test_dataset)\n",
        "print(f\"Test ACC : {test_acc:.3f}\")\n"
      ]
    },
    {
      "cell_type": "code",
      "execution_count": null,
      "metadata": {
        "colab": {
          "base_uri": "https://localhost:8080/",
          "height": 889
        },
        "id": "9YAwHDDYs2uj",
        "outputId": "304824d8-be87-41a7-9103-f244717d7f54"
      },
      "outputs": [
        {
          "output_type": "display_data",
          "data": {
            "text/plain": [
              "<Figure size 640x480 with 1 Axes>"
            ],
            "image/png": "[encoded data removed]"
          },
          "metadata": {}
        },
        {
          "output_type": "display_data",
          "data": {
            "text/plain": [
              "<Figure size 640x480 with 1 Axes>"
            ],
            "image/png": "[encoded data removed]"
          },
          "metadata": {}
        }
      ],
      "source": [
        "graficar_curva_aprendizaje(history,plt=plt)"
      ]
    },
    {
      "cell_type": "code",
      "execution_count": null,
      "metadata": {
        "colab": {
          "base_uri": "https://localhost:8080/"
        },
        "id": "55UY1cl8s2uj",
        "outputId": "7903b4e2-bb9b-4a2d-d154-2d27ed639bea"
      },
      "outputs": [
        {
          "output_type": "stream",
          "name": "stdout",
          "text": [
            "27/27 [==============================] - 2s 16ms/step\n"
          ]
        },
        {
          "output_type": "display_data",
          "data": {
            "text/plain": [
              "<Figure size 640x480 with 2 Axes>"
            ],
            "image/png": "[encoded data removed]"
          },
          "metadata": {}
        }
      ],
      "source": [
        "actual, predicted = get_actual_predicted_labels(dataset=test_dataset,model=test_model_mobilenet)\n",
        "graficar_matriz_confusion(actual, predicted, test_dataset.class_names)\n",
        "#print(actual,predicted)"
      ]
    },
    {
      "cell_type": "code",
      "execution_count": null,
      "metadata": {
        "colab": {
          "base_uri": "https://localhost:8080/"
        },
        "id": "ZensCW1Vs2uj",
        "outputId": "76e76023-3311-4e06-da7f-867022202b80"
      },
      "outputs": [
        {
          "output_type": "stream",
          "name": "stdout",
          "text": [
            "Resultado F1_Score: {'angular_leafspot': 1.0, 'hojas_sanas': 1.0, 'leaf_spot': 1.0, 'powdery_mildew': 1.0}\n"
          ]
        }
      ],
      "source": [
        "precision, recall = calcular_precision_recall(actual, predicted, test_dataset.class_names)\n",
        "resultadosf1=calcular_f1_score(precision, recall)\n",
        "print(\"Resultado Precisión: {}\".format(precision))\n",
        "print(\"Resultado Recall: {}\".format( recall))\n",
        "print(\"Resultado F1_Score: {}\".format(resultadosf1))"
      ]
    },
    {
      "cell_type": "code",
      "execution_count": null,
      "metadata": {
        "colab": {
          "base_uri": "https://localhost:8080/"
        },
        "id": "cTjnPRnxs2uj",
        "outputId": "ba6023a3-7883-4eb2-8c90-135938687c50"
      },
      "outputs": [
        {
          "output_type": "stream",
          "name": "stdout",
          "text": [
            "Promedio: 1.0\n"
          ]
        }
      ],
      "source": [
        "valores = list(resultadosf1.values())\n",
        "promedio = statistics.mean(valores)\n",
        "print(\"Promedio:\", promedio)"
      ]
    }
  ],
  "metadata": {
    "accelerator": "GPU",
    "colab": {
      "provenance": [],
      "gpuType": "T4"
    },
    "kernelspec": {
      "display_name": "Python 3",
      "name": "python3"
    },
    "language_info": {
      "name": "python"
    }
  },
  "nbformat": 4,
  "nbformat_minor": 0
}